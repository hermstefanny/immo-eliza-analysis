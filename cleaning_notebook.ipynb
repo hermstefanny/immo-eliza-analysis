{
 "cells": [
  {
   "cell_type": "code",
   "execution_count": 2,
   "id": "2cf57823",
   "metadata": {},
   "outputs": [],
   "source": [
    "import pandas as pd\n",
    "import matplotlib as plt\n",
    "import seaborn as sns\n",
    "from clean_dataset import import_csv_data"
   ]
  },
  {
   "cell_type": "code",
   "execution_count": null,
   "id": "c0033ece",
   "metadata": {},
   "outputs": [],
   "source": [
    "file_path = 'data\\properties06191148_modified.csv'\n",
    "raw_df = import_csv_data(file_path)\n",
    "raw_df\n"
   ]
  },
  {
   "cell_type": "markdown",
   "id": "b8576de3",
   "metadata": {},
   "source": [
    "#### Change columns names"
   ]
  },
  {
   "cell_type": "code",
   "execution_count": 5,
   "id": "90e0398a",
   "metadata": {},
   "outputs": [
    {
     "data": {
      "text/plain": [
       "Index(['zimmo code', 'type', 'price', 'street', 'number', 'postcode', 'city',\n",
       "       'living area(m²)', 'ground area(m²)', 'bedroom', 'bathroom', 'garage',\n",
       "       'garden', 'EPC(kWh/m²)', 'renovation obligation', 'year built',\n",
       "       'mobiscore', 'url'],\n",
       "      dtype='object')"
      ]
     },
     "execution_count": 5,
     "metadata": {},
     "output_type": "execute_result"
    }
   ],
   "source": [
    "raw_df.columns"
   ]
  },
  {
   "cell_type": "code",
   "execution_count": 6,
   "id": "6551771b",
   "metadata": {},
   "outputs": [],
   "source": [
    "def join_column_names(df:pd) -> None:\n",
    "    columns_new_names = dict()\n",
    "    for column in df.columns:\n",
    "        s = \"_\".join(column.split())\n",
    "        if s != column:\n",
    "            columns_new_names[column] = s\n",
    "\n",
    "    df.rename(columns=columns_new_names, inplace=True)"
   ]
  },
  {
   "cell_type": "code",
   "execution_count": 12,
   "id": "3a976503",
   "metadata": {},
   "outputs": [],
   "source": [
    "join_column_names(raw_df)"
   ]
  },
  {
   "cell_type": "markdown",
   "id": "2389c194",
   "metadata": {},
   "source": [
    "#### Duplicates"
   ]
  },
  {
   "cell_type": "code",
   "execution_count": 4,
   "id": "4afe9c45",
   "metadata": {},
   "outputs": [
    {
     "data": {
      "application/vnd.microsoft.datawrangler.viewer.v0+json": {
       "columns": [
        {
         "name": "index",
         "rawType": "int64",
         "type": "integer"
        },
        {
         "name": "zimmo code",
         "rawType": "object",
         "type": "string"
        },
        {
         "name": "type",
         "rawType": "object",
         "type": "string"
        },
        {
         "name": "price",
         "rawType": "float64",
         "type": "float"
        },
        {
         "name": "street",
         "rawType": "object",
         "type": "string"
        },
        {
         "name": "number",
         "rawType": "object",
         "type": "string"
        },
        {
         "name": "postcode",
         "rawType": "object",
         "type": "string"
        },
        {
         "name": "city",
         "rawType": "object",
         "type": "string"
        },
        {
         "name": "living area(m²)",
         "rawType": "float64",
         "type": "float"
        },
        {
         "name": "ground area(m²)",
         "rawType": "float64",
         "type": "float"
        },
        {
         "name": "bedroom",
         "rawType": "float64",
         "type": "float"
        },
        {
         "name": "bathroom",
         "rawType": "float64",
         "type": "float"
        },
        {
         "name": "garage",
         "rawType": "float64",
         "type": "float"
        },
        {
         "name": "garden",
         "rawType": "bool",
         "type": "boolean"
        },
        {
         "name": "EPC(kWh/m²)",
         "rawType": "float64",
         "type": "float"
        },
        {
         "name": "renovation obligation",
         "rawType": "object",
         "type": "string"
        },
        {
         "name": "year built",
         "rawType": "float64",
         "type": "float"
        },
        {
         "name": "mobiscore",
         "rawType": "float64",
         "type": "float"
        },
        {
         "name": "url",
         "rawType": "object",
         "type": "string"
        }
       ],
       "ref": "c0826b65-6783-4906-847f-1c0fb343d0cb",
       "rows": [],
       "shape": {
        "columns": 18,
        "rows": 0
       }
      },
      "text/html": [
       "<div>\n",
       "<style scoped>\n",
       "    .dataframe tbody tr th:only-of-type {\n",
       "        vertical-align: middle;\n",
       "    }\n",
       "\n",
       "    .dataframe tbody tr th {\n",
       "        vertical-align: top;\n",
       "    }\n",
       "\n",
       "    .dataframe thead th {\n",
       "        text-align: right;\n",
       "    }\n",
       "</style>\n",
       "<table border=\"1\" class=\"dataframe\">\n",
       "  <thead>\n",
       "    <tr style=\"text-align: right;\">\n",
       "      <th></th>\n",
       "      <th>zimmo code</th>\n",
       "      <th>type</th>\n",
       "      <th>price</th>\n",
       "      <th>street</th>\n",
       "      <th>number</th>\n",
       "      <th>postcode</th>\n",
       "      <th>city</th>\n",
       "      <th>living area(m²)</th>\n",
       "      <th>ground area(m²)</th>\n",
       "      <th>bedroom</th>\n",
       "      <th>bathroom</th>\n",
       "      <th>garage</th>\n",
       "      <th>garden</th>\n",
       "      <th>EPC(kWh/m²)</th>\n",
       "      <th>renovation obligation</th>\n",
       "      <th>year built</th>\n",
       "      <th>mobiscore</th>\n",
       "      <th>url</th>\n",
       "    </tr>\n",
       "  </thead>\n",
       "  <tbody>\n",
       "  </tbody>\n",
       "</table>\n",
       "</div>"
      ],
      "text/plain": [
       "Empty DataFrame\n",
       "Columns: [zimmo code, type, price, street, number, postcode, city, living area(m²), ground area(m²), bedroom, bathroom, garage, garden, EPC(kWh/m²), renovation obligation, year built, mobiscore, url]\n",
       "Index: []"
      ]
     },
     "execution_count": 4,
     "metadata": {},
     "output_type": "execute_result"
    }
   ],
   "source": [
    "raw_df[raw_df.duplicated()]"
   ]
  },
  {
   "cell_type": "code",
   "execution_count": 7,
   "id": "d5acafb2",
   "metadata": {},
   "outputs": [
    {
     "data": {
      "text/plain": [
       "25403"
      ]
     },
     "execution_count": 7,
     "metadata": {},
     "output_type": "execute_result"
    }
   ],
   "source": [
    "len(raw_df)"
   ]
  },
  {
   "cell_type": "code",
   "execution_count": 8,
   "id": "73a7d986",
   "metadata": {},
   "outputs": [],
   "source": [
    "raw_df.drop_duplicates(subset=['zimmo code'], inplace=True)"
   ]
  },
  {
   "cell_type": "code",
   "execution_count": 9,
   "id": "bd9635a1",
   "metadata": {},
   "outputs": [
    {
     "data": {
      "text/plain": [
       "25403"
      ]
     },
     "execution_count": 9,
     "metadata": {},
     "output_type": "execute_result"
    }
   ],
   "source": [
    "len(raw_df)"
   ]
  },
  {
   "cell_type": "code",
   "execution_count": 30,
   "id": "0055d8ef",
   "metadata": {},
   "outputs": [
    {
     "data": {
      "application/vnd.microsoft.datawrangler.viewer.v0+json": {
       "columns": [
        {
         "name": "index",
         "rawType": "int64",
         "type": "integer"
        },
        {
         "name": "zimmo code",
         "rawType": "object",
         "type": "string"
        },
        {
         "name": "type",
         "rawType": "object",
         "type": "string"
        },
        {
         "name": "price",
         "rawType": "float64",
         "type": "float"
        },
        {
         "name": "street",
         "rawType": "object",
         "type": "unknown"
        },
        {
         "name": "number",
         "rawType": "object",
         "type": "unknown"
        },
        {
         "name": "postcode",
         "rawType": "object",
         "type": "string"
        },
        {
         "name": "city",
         "rawType": "object",
         "type": "string"
        },
        {
         "name": "living area(m²)",
         "rawType": "float64",
         "type": "float"
        },
        {
         "name": "ground area(m²)",
         "rawType": "float64",
         "type": "float"
        },
        {
         "name": "bedroom",
         "rawType": "float64",
         "type": "float"
        },
        {
         "name": "bathroom",
         "rawType": "float64",
         "type": "float"
        },
        {
         "name": "garage",
         "rawType": "float64",
         "type": "float"
        },
        {
         "name": "garden",
         "rawType": "bool",
         "type": "boolean"
        },
        {
         "name": "EPC(kWh/m²)",
         "rawType": "float64",
         "type": "float"
        },
        {
         "name": "renovation obligation",
         "rawType": "object",
         "type": "unknown"
        },
        {
         "name": "year built",
         "rawType": "float64",
         "type": "float"
        },
        {
         "name": "mobiscore",
         "rawType": "float64",
         "type": "float"
        },
        {
         "name": "url",
         "rawType": "object",
         "type": "string"
        }
       ],
       "ref": "c0867ed5-df3d-4bd2-8daa-9f68a2c0401c",
       "rows": [
        [
         "0",
         "L97OB",
         "Vakantiewoning (Huis)",
         "25000.0",
         null,
         null,
         "8620",
         "Nieuwpoort",
         "35.0",
         "128.0",
         "2.0",
         "1.0",
         null,
         "False",
         null,
         "False",
         null,
         "7.0",
         "https://www.zimmo.be/nl/nieuwpoort-8620/te-koop/huis/L97OB/?search=eyJmaWx0ZXIiOiB7InN0YXR1cyI6IHsiaW4iOiBbIkZPUl9TQUxFIiwgIlRBS0VfT1ZFUiJdfSwgImNhdGVnb3J5IjogeyJpbiI6IFsiSE9VU0UiLCAiQVBBUlRNRU5UIl19LCAicHJpY2UiOiB7InVua25vd24iOiBmYWxzZSwgInJhbmdlIjogeyJtaW4iOiAwLCAibWF4IjogNDk5OTl9fX19"
        ],
        [
         "1",
         "L9SVC",
         "Appartement",
         "45000.0",
         null,
         null,
         "5570",
         "Beauraing",
         "62.0",
         null,
         "2.0",
         "1.0",
         null,
         "False",
         null,
         null,
         null,
         null,
         "https://www.zimmo.be/nl/beauraing-5570/te-koop/appartement/L9SVC/?search=eyJmaWx0ZXIiOiB7InN0YXR1cyI6IHsiaW4iOiBbIkZPUl9TQUxFIiwgIlRBS0VfT1ZFUiJdfSwgImNhdGVnb3J5IjogeyJpbiI6IFsiSE9VU0UiLCAiQVBBUlRNRU5UIl19LCAicHJpY2UiOiB7InVua25vd24iOiBmYWxzZSwgInJhbmdlIjogeyJtaW4iOiAwLCAibWF4IjogNDk5OTl9fX19"
        ],
        [
         "2",
         "LA02N",
         "Rijwoning (Huis)",
         "45000.0",
         "Oudestraat",
         "94",
         "9600",
         "Ronse",
         null,
         "232.0",
         "2.0",
         "1.0",
         null,
         "False",
         "716.0",
         "True",
         "1850.0",
         "7.3",
         "https://www.zimmo.be/nl/ronse-9600/te-koop/huis/LA02N/?search=eyJmaWx0ZXIiOiB7InN0YXR1cyI6IHsiaW4iOiBbIkZPUl9TQUxFIiwgIlRBS0VfT1ZFUiJdfSwgImNhdGVnb3J5IjogeyJpbiI6IFsiSE9VU0UiLCAiQVBBUlRNRU5UIl19LCAicHJpY2UiOiB7InVua25vd24iOiBmYWxzZSwgInJhbmdlIjogeyJtaW4iOiAwLCAibWF4IjogNDk5OTl9fX19"
        ],
        [
         "3",
         "L4X2D",
         "Vakantiewoning (Huis)",
         "40000.0",
         "Molenheidestraat",
         "7",
         "3530",
         "Helchteren",
         "45.0",
         null,
         null,
         null,
         null,
         "False",
         null,
         "False",
         null,
         "5.3",
         "https://www.zimmo.be/nl/helchteren-3530/te-koop/huis/L4X2D/?search=eyJmaWx0ZXIiOiB7InN0YXR1cyI6IHsiaW4iOiBbIkZPUl9TQUxFIiwgIlRBS0VfT1ZFUiJdfSwgImNhdGVnb3J5IjogeyJpbiI6IFsiSE9VU0UiLCAiQVBBUlRNRU5UIl19LCAicHJpY2UiOiB7InVua25vd24iOiBmYWxzZSwgInJhbmdlIjogeyJtaW4iOiAwLCAibWF4IjogNDk5OTl9fX19&boosted=1"
        ],
        [
         "4",
         "L9KJ7",
         "Eengezinswoning (Huis)",
         "49900.0",
         "Route Napoléon",
         "10",
         "4400",
         "Ivoz-Ramet",
         "123.0",
         "8885.0",
         "2.0",
         "1.0",
         null,
         "False",
         "569.0",
         null,
         null,
         null,
         "https://www.zimmo.be/nl/ivoz-ramet-4400/te-koop/huis/L9KJ7/?search=eyJmaWx0ZXIiOiB7InN0YXR1cyI6IHsiaW4iOiBbIkZPUl9TQUxFIiwgIlRBS0VfT1ZFUiJdfSwgImNhdGVnb3J5IjogeyJpbiI6IFsiSE9VU0UiLCAiQVBBUlRNRU5UIl19LCAicHJpY2UiOiB7InVua25vd24iOiBmYWxzZSwgInJhbmdlIjogeyJtaW4iOiAwLCAibWF4IjogNDk5OTl9fX19"
        ]
       ],
       "shape": {
        "columns": 18,
        "rows": 5
       }
      },
      "text/html": [
       "<div>\n",
       "<style scoped>\n",
       "    .dataframe tbody tr th:only-of-type {\n",
       "        vertical-align: middle;\n",
       "    }\n",
       "\n",
       "    .dataframe tbody tr th {\n",
       "        vertical-align: top;\n",
       "    }\n",
       "\n",
       "    .dataframe thead th {\n",
       "        text-align: right;\n",
       "    }\n",
       "</style>\n",
       "<table border=\"1\" class=\"dataframe\">\n",
       "  <thead>\n",
       "    <tr style=\"text-align: right;\">\n",
       "      <th></th>\n",
       "      <th>zimmo code</th>\n",
       "      <th>type</th>\n",
       "      <th>price</th>\n",
       "      <th>street</th>\n",
       "      <th>number</th>\n",
       "      <th>postcode</th>\n",
       "      <th>city</th>\n",
       "      <th>living area(m²)</th>\n",
       "      <th>ground area(m²)</th>\n",
       "      <th>bedroom</th>\n",
       "      <th>bathroom</th>\n",
       "      <th>garage</th>\n",
       "      <th>garden</th>\n",
       "      <th>EPC(kWh/m²)</th>\n",
       "      <th>renovation obligation</th>\n",
       "      <th>year built</th>\n",
       "      <th>mobiscore</th>\n",
       "      <th>url</th>\n",
       "    </tr>\n",
       "  </thead>\n",
       "  <tbody>\n",
       "    <tr>\n",
       "      <th>0</th>\n",
       "      <td>L97OB</td>\n",
       "      <td>Vakantiewoning (Huis)</td>\n",
       "      <td>25000.0</td>\n",
       "      <td>NaN</td>\n",
       "      <td>NaN</td>\n",
       "      <td>8620</td>\n",
       "      <td>Nieuwpoort</td>\n",
       "      <td>35.0</td>\n",
       "      <td>128.0</td>\n",
       "      <td>2.0</td>\n",
       "      <td>1.0</td>\n",
       "      <td>NaN</td>\n",
       "      <td>False</td>\n",
       "      <td>NaN</td>\n",
       "      <td>False</td>\n",
       "      <td>NaN</td>\n",
       "      <td>7.0</td>\n",
       "      <td>https://www.zimmo.be/nl/nieuwpoort-8620/te-koo...</td>\n",
       "    </tr>\n",
       "    <tr>\n",
       "      <th>1</th>\n",
       "      <td>L9SVC</td>\n",
       "      <td>Appartement</td>\n",
       "      <td>45000.0</td>\n",
       "      <td>NaN</td>\n",
       "      <td>NaN</td>\n",
       "      <td>5570</td>\n",
       "      <td>Beauraing</td>\n",
       "      <td>62.0</td>\n",
       "      <td>NaN</td>\n",
       "      <td>2.0</td>\n",
       "      <td>1.0</td>\n",
       "      <td>NaN</td>\n",
       "      <td>False</td>\n",
       "      <td>NaN</td>\n",
       "      <td>NaN</td>\n",
       "      <td>NaN</td>\n",
       "      <td>NaN</td>\n",
       "      <td>https://www.zimmo.be/nl/beauraing-5570/te-koop...</td>\n",
       "    </tr>\n",
       "    <tr>\n",
       "      <th>2</th>\n",
       "      <td>LA02N</td>\n",
       "      <td>Rijwoning (Huis)</td>\n",
       "      <td>45000.0</td>\n",
       "      <td>Oudestraat</td>\n",
       "      <td>94</td>\n",
       "      <td>9600</td>\n",
       "      <td>Ronse</td>\n",
       "      <td>NaN</td>\n",
       "      <td>232.0</td>\n",
       "      <td>2.0</td>\n",
       "      <td>1.0</td>\n",
       "      <td>NaN</td>\n",
       "      <td>False</td>\n",
       "      <td>716.0</td>\n",
       "      <td>True</td>\n",
       "      <td>1850.0</td>\n",
       "      <td>7.3</td>\n",
       "      <td>https://www.zimmo.be/nl/ronse-9600/te-koop/hui...</td>\n",
       "    </tr>\n",
       "    <tr>\n",
       "      <th>3</th>\n",
       "      <td>L4X2D</td>\n",
       "      <td>Vakantiewoning (Huis)</td>\n",
       "      <td>40000.0</td>\n",
       "      <td>Molenheidestraat</td>\n",
       "      <td>7</td>\n",
       "      <td>3530</td>\n",
       "      <td>Helchteren</td>\n",
       "      <td>45.0</td>\n",
       "      <td>NaN</td>\n",
       "      <td>NaN</td>\n",
       "      <td>NaN</td>\n",
       "      <td>NaN</td>\n",
       "      <td>False</td>\n",
       "      <td>NaN</td>\n",
       "      <td>False</td>\n",
       "      <td>NaN</td>\n",
       "      <td>5.3</td>\n",
       "      <td>https://www.zimmo.be/nl/helchteren-3530/te-koo...</td>\n",
       "    </tr>\n",
       "    <tr>\n",
       "      <th>4</th>\n",
       "      <td>L9KJ7</td>\n",
       "      <td>Eengezinswoning (Huis)</td>\n",
       "      <td>49900.0</td>\n",
       "      <td>Route Napoléon</td>\n",
       "      <td>10</td>\n",
       "      <td>4400</td>\n",
       "      <td>Ivoz-Ramet</td>\n",
       "      <td>123.0</td>\n",
       "      <td>8885.0</td>\n",
       "      <td>2.0</td>\n",
       "      <td>1.0</td>\n",
       "      <td>NaN</td>\n",
       "      <td>False</td>\n",
       "      <td>569.0</td>\n",
       "      <td>NaN</td>\n",
       "      <td>NaN</td>\n",
       "      <td>NaN</td>\n",
       "      <td>https://www.zimmo.be/nl/ivoz-ramet-4400/te-koo...</td>\n",
       "    </tr>\n",
       "  </tbody>\n",
       "</table>\n",
       "</div>"
      ],
      "text/plain": [
       "  zimmo code  ...                                                url\n",
       "0      L97OB  ...  https://www.zimmo.be/nl/nieuwpoort-8620/te-koo...\n",
       "1      L9SVC  ...  https://www.zimmo.be/nl/beauraing-5570/te-koop...\n",
       "2      LA02N  ...  https://www.zimmo.be/nl/ronse-9600/te-koop/hui...\n",
       "3      L4X2D  ...  https://www.zimmo.be/nl/helchteren-3530/te-koo...\n",
       "4      L9KJ7  ...  https://www.zimmo.be/nl/ivoz-ramet-4400/te-koo...\n",
       "\n",
       "[5 rows x 18 columns]"
      ]
     },
     "execution_count": 30,
     "metadata": {},
     "output_type": "execute_result"
    }
   ],
   "source": [
    "raw_df.head()"
   ]
  },
  {
   "cell_type": "markdown",
   "id": "08201f2b",
   "metadata": {},
   "source": [
    "#### Bedroom"
   ]
  },
  {
   "cell_type": "code",
   "execution_count": null,
   "id": "dc9568fe",
   "metadata": {},
   "outputs": [
    {
     "data": {
      "application/vnd.microsoft.datawrangler.viewer.v0+json": {
       "columns": [
        {
         "name": "index",
         "rawType": "object",
         "type": "string"
        },
        {
         "name": "bedroom",
         "rawType": "float64",
         "type": "float"
        }
       ],
       "ref": "5114c8a0-b2ec-4eef-a158-a697519234d9",
       "rows": [
        [
         "count",
         "22287.0"
        ],
        [
         "mean",
         "3.1440301521066094"
        ],
        [
         "std",
         "1.7621472772279105"
        ],
        [
         "min",
         "0.0"
        ],
        [
         "25%",
         "2.0"
        ],
        [
         "50%",
         "3.0"
        ],
        [
         "75%",
         "4.0"
        ],
        [
         "max",
         "79.0"
        ]
       ],
       "shape": {
        "columns": 1,
        "rows": 8
       }
      },
      "text/plain": [
       "count    22287.000000\n",
       "mean         3.144030\n",
       "std          1.762147\n",
       "min          0.000000\n",
       "25%          2.000000\n",
       "50%          3.000000\n",
       "75%          4.000000\n",
       "max         79.000000\n",
       "Name: bedroom, dtype: float64"
      ]
     },
     "execution_count": 33,
     "metadata": {},
     "output_type": "execute_result"
    }
   ],
   "source": [
    "raw_df['bedroom'].describe()\n"
   ]
  },
  {
   "cell_type": "code",
   "execution_count": 39,
   "id": "67ecde98",
   "metadata": {},
   "outputs": [
    {
     "data": {
      "text/plain": [
       "3116"
      ]
     },
     "execution_count": 39,
     "metadata": {},
     "output_type": "execute_result"
    }
   ],
   "source": [
    "# Null values\n",
    "number_of_nan_bedrooms = len(raw_df[raw_df['bedroom'].isna()])\n",
    "number_of_nan_bedrooms"
   ]
  },
  {
   "cell_type": "markdown",
   "id": "a8a37e21",
   "metadata": {},
   "source": [
    "#### Bathroom"
   ]
  },
  {
   "cell_type": "code",
   "execution_count": 42,
   "id": "a7ed879f",
   "metadata": {},
   "outputs": [
    {
     "data": {
      "application/vnd.microsoft.datawrangler.viewer.v0+json": {
       "columns": [
        {
         "name": "index",
         "rawType": "object",
         "type": "string"
        },
        {
         "name": "bathroom",
         "rawType": "float64",
         "type": "float"
        }
       ],
       "ref": "91abba22-80cf-4dbc-b793-f41e84424b19",
       "rows": [
        [
         "count",
         "20773.0"
        ],
        [
         "mean",
         "1.4821162085399315"
        ],
        [
         "std",
         "1.0732960820103647"
        ],
        [
         "min",
         "1.0"
        ],
        [
         "25%",
         "1.0"
        ],
        [
         "50%",
         "1.0"
        ],
        [
         "75%",
         "2.0"
        ],
        [
         "max",
         "29.0"
        ]
       ],
       "shape": {
        "columns": 1,
        "rows": 8
       }
      },
      "text/plain": [
       "count    20773.000000\n",
       "mean         1.482116\n",
       "std          1.073296\n",
       "min          1.000000\n",
       "25%          1.000000\n",
       "50%          1.000000\n",
       "75%          2.000000\n",
       "max         29.000000\n",
       "Name: bathroom, dtype: float64"
      ]
     },
     "execution_count": 42,
     "metadata": {},
     "output_type": "execute_result"
    }
   ],
   "source": [
    "raw_df['bathroom'].describe()"
   ]
  },
  {
   "cell_type": "code",
   "execution_count": 43,
   "id": "04edb5f8",
   "metadata": {},
   "outputs": [
    {
     "data": {
      "text/plain": [
       "4630"
      ]
     },
     "execution_count": 43,
     "metadata": {},
     "output_type": "execute_result"
    }
   ],
   "source": [
    "number_of_nan_bathrooms = len(raw_df[raw_df['bathroom'].isna()])\n",
    "number_of_nan_bathrooms"
   ]
  },
  {
   "cell_type": "markdown",
   "id": "037928a2",
   "metadata": {},
   "source": [
    "#### Garage"
   ]
  },
  {
   "cell_type": "code",
   "execution_count": 44,
   "id": "df305bff",
   "metadata": {},
   "outputs": [
    {
     "data": {
      "application/vnd.microsoft.datawrangler.viewer.v0+json": {
       "columns": [
        {
         "name": "index",
         "rawType": "object",
         "type": "string"
        },
        {
         "name": "garage",
         "rawType": "float64",
         "type": "float"
        }
       ],
       "ref": "546d9295-4ef1-4d29-828a-2745d7109da8",
       "rows": [
        [
         "count",
         "8859.0"
        ],
        [
         "mean",
         "1.3852579297889152"
        ],
        [
         "std",
         "2.6172249019015754"
        ],
        [
         "min",
         "1.0"
        ],
        [
         "25%",
         "1.0"
        ],
        [
         "50%",
         "1.0"
        ],
        [
         "75%",
         "1.0"
        ],
        [
         "max",
         "110.0"
        ]
       ],
       "shape": {
        "columns": 1,
        "rows": 8
       }
      },
      "text/plain": [
       "count    8859.000000\n",
       "mean        1.385258\n",
       "std         2.617225\n",
       "min         1.000000\n",
       "25%         1.000000\n",
       "50%         1.000000\n",
       "75%         1.000000\n",
       "max       110.000000\n",
       "Name: garage, dtype: float64"
      ]
     },
     "execution_count": 44,
     "metadata": {},
     "output_type": "execute_result"
    }
   ],
   "source": [
    "raw_df['garage'].describe()"
   ]
  },
  {
   "cell_type": "code",
   "execution_count": 52,
   "id": "eac67bc9",
   "metadata": {},
   "outputs": [
    {
     "data": {
      "text/plain": [
       "0"
      ]
     },
     "execution_count": 52,
     "metadata": {},
     "output_type": "execute_result"
    }
   ],
   "source": [
    "number_of_nan_garage = len(raw_df[raw_df['garage'].isna()])\n",
    "number_of_nan_garage "
   ]
  },
  {
   "cell_type": "markdown",
   "id": "81fdb268",
   "metadata": {},
   "source": [
    "##### Replace NaN elements with 0's"
   ]
  },
  {
   "cell_type": "code",
   "execution_count": 82,
   "id": "83973e9e",
   "metadata": {},
   "outputs": [
    {
     "name": "stderr",
     "output_type": "stream",
     "text": [
      "C:\\Users\\herms\\AppData\\Local\\Temp\\ipykernel_6208\\523427857.py:1: FutureWarning: A value is trying to be set on a copy of a DataFrame or Series through chained assignment using an inplace method.\n",
      "The behavior will change in pandas 3.0. This inplace method will never work because the intermediate object on which we are setting values always behaves as a copy.\n",
      "\n",
      "For example, when doing 'df[col].method(value, inplace=True)', try using 'df.method({col: value}, inplace=True)' or df[col] = df[col].method(value) instead, to perform the operation inplace on the original object.\n",
      "\n",
      "\n",
      "  raw_df['garage'].fillna(0,inplace=True)\n"
     ]
    }
   ],
   "source": [
    "raw_df['garage'].fillna(0,inplace=True)"
   ]
  },
  {
   "cell_type": "code",
   "execution_count": 83,
   "id": "f3d7b87d",
   "metadata": {},
   "outputs": [
    {
     "data": {
      "text/plain": [
       "0"
      ]
     },
     "execution_count": 83,
     "metadata": {},
     "output_type": "execute_result"
    }
   ],
   "source": [
    "number_of_nan_garage = len(raw_df[raw_df['garage'].isna()])\n",
    "number_of_nan_garage "
   ]
  },
  {
   "cell_type": "code",
   "execution_count": null,
   "id": "e2f9be7f",
   "metadata": {},
   "outputs": [],
   "source": [
    "join_column_names(raw_df)"
   ]
  },
  {
   "cell_type": "markdown",
   "id": "77b8f46a",
   "metadata": {},
   "source": [
    "#### Garden"
   ]
  },
  {
   "cell_type": "code",
   "execution_count": 49,
   "id": "cd93abc0",
   "metadata": {},
   "outputs": [
    {
     "data": {
      "application/vnd.microsoft.datawrangler.viewer.v0+json": {
       "columns": [
        {
         "name": "index",
         "rawType": "object",
         "type": "string"
        },
        {
         "name": "garden",
         "rawType": "object",
         "type": "unknown"
        }
       ],
       "ref": "d61a4d30-9c39-4c32-aecb-85ed46d85a3e",
       "rows": [
        [
         "count",
         "25403"
        ],
        [
         "unique",
         "2"
        ],
        [
         "top",
         "False"
        ],
        [
         "freq",
         "20835"
        ]
       ],
       "shape": {
        "columns": 1,
        "rows": 4
       }
      },
      "text/plain": [
       "count     25403\n",
       "unique        2\n",
       "top       False\n",
       "freq      20835\n",
       "Name: garden, dtype: object"
      ]
     },
     "execution_count": 49,
     "metadata": {},
     "output_type": "execute_result"
    }
   ],
   "source": [
    "raw_df['garden'].describe()"
   ]
  },
  {
   "cell_type": "code",
   "execution_count": 51,
   "id": "67f5ca7f",
   "metadata": {},
   "outputs": [
    {
     "data": {
      "text/plain": [
       "0"
      ]
     },
     "execution_count": 51,
     "metadata": {},
     "output_type": "execute_result"
    }
   ],
   "source": [
    "number_of_nan_garden = len(raw_df[raw_df['garden'].isna()])\n",
    "number_of_nan_garden"
   ]
  },
  {
   "cell_type": "markdown",
   "id": "f08076dd",
   "metadata": {},
   "source": [
    "#### EPC"
   ]
  },
  {
   "cell_type": "code",
   "execution_count": 53,
   "id": "7daa28bb",
   "metadata": {},
   "outputs": [
    {
     "data": {
      "application/vnd.microsoft.datawrangler.viewer.v0+json": {
       "columns": [
        {
         "name": "index",
         "rawType": "object",
         "type": "string"
        },
        {
         "name": "EPC(kWh/m²)",
         "rawType": "float64",
         "type": "float"
        }
       ],
       "ref": "39e8adca-0e00-43e1-a503-84d095ecf026",
       "rows": [
        [
         "count",
         "17467.0"
        ],
        [
         "mean",
         "309.1277265701036"
        ],
        [
         "std",
         "454.99304892507706"
        ],
        [
         "min",
         "0.0"
        ],
        [
         "25%",
         "139.0"
        ],
        [
         "50%",
         "237.0"
        ],
        [
         "75%",
         "383.0"
        ],
        [
         "max",
         "14954.0"
        ]
       ],
       "shape": {
        "columns": 1,
        "rows": 8
       }
      },
      "text/plain": [
       "count    17467.000000\n",
       "mean       309.127727\n",
       "std        454.993049\n",
       "min          0.000000\n",
       "25%        139.000000\n",
       "50%        237.000000\n",
       "75%        383.000000\n",
       "max      14954.000000\n",
       "Name: EPC(kWh/m²), dtype: float64"
      ]
     },
     "execution_count": 53,
     "metadata": {},
     "output_type": "execute_result"
    }
   ],
   "source": [
    "raw_df['EPC(kWh/m²)'].describe()"
   ]
  },
  {
   "cell_type": "code",
   "execution_count": 55,
   "id": "a82188ba",
   "metadata": {},
   "outputs": [
    {
     "data": {
      "text/plain": [
       "7936"
      ]
     },
     "execution_count": 55,
     "metadata": {},
     "output_type": "execute_result"
    }
   ],
   "source": [
    "number_of_nan_EPC = len(raw_df[raw_df['EPC(kWh/m²)'].isna()])\n",
    "number_of_nan_EPC"
   ]
  },
  {
   "cell_type": "markdown",
   "id": "7dfc19a9",
   "metadata": {},
   "source": [
    "#### Renovation Obligation"
   ]
  },
  {
   "cell_type": "code",
   "execution_count": 56,
   "id": "f245bb6b",
   "metadata": {},
   "outputs": [
    {
     "data": {
      "application/vnd.microsoft.datawrangler.viewer.v0+json": {
       "columns": [
        {
         "name": "index",
         "rawType": "object",
         "type": "string"
        },
        {
         "name": "renovation obligation",
         "rawType": "object",
         "type": "unknown"
        }
       ],
       "ref": "bfcebf4a-7a76-49f1-9809-c9a7c18ca3c7",
       "rows": [
        [
         "count",
         "19275"
        ],
        [
         "unique",
         "2"
        ],
        [
         "top",
         "False"
        ],
        [
         "freq",
         "16259"
        ]
       ],
       "shape": {
        "columns": 1,
        "rows": 4
       }
      },
      "text/plain": [
       "count     19275\n",
       "unique        2\n",
       "top       False\n",
       "freq      16259\n",
       "Name: renovation obligation, dtype: object"
      ]
     },
     "execution_count": 56,
     "metadata": {},
     "output_type": "execute_result"
    }
   ],
   "source": [
    "raw_df['renovation obligation'].describe()\n"
   ]
  },
  {
   "cell_type": "code",
   "execution_count": 57,
   "id": "f67aa205",
   "metadata": {},
   "outputs": [
    {
     "data": {
      "text/plain": [
       "6128"
      ]
     },
     "execution_count": 57,
     "metadata": {},
     "output_type": "execute_result"
    }
   ],
   "source": [
    "number_of_nan_ren = len(raw_df[raw_df['renovation obligation'].isna()])\n",
    "number_of_nan_ren"
   ]
  },
  {
   "cell_type": "markdown",
   "id": "76003895",
   "metadata": {},
   "source": [
    "#### Year Built"
   ]
  },
  {
   "cell_type": "code",
   "execution_count": 29,
   "id": "032b86b6",
   "metadata": {},
   "outputs": [
    {
     "data": {
      "application/vnd.microsoft.datawrangler.viewer.v0+json": {
       "columns": [
        {
         "name": "index",
         "rawType": "object",
         "type": "string"
        },
        {
         "name": "year_built",
         "rawType": "float64",
         "type": "float"
        }
       ],
       "ref": "40536975-3209-46e8-9770-39006f3254bf",
       "rows": [
        [
         "count",
         "17761.0"
        ],
        [
         "mean",
         "1980.8944879229773"
        ],
        [
         "std",
         "57.72658171019764"
        ],
        [
         "min",
         "6.0"
        ],
        [
         "25%",
         "1961.0"
        ],
        [
         "50%",
         "1989.0"
        ],
        [
         "75%",
         "2022.0"
        ],
        [
         "max",
         "3025.0"
        ]
       ],
       "shape": {
        "columns": 1,
        "rows": 8
       }
      },
      "text/plain": [
       "count    17761.000000\n",
       "mean      1980.894488\n",
       "std         57.726582\n",
       "min          6.000000\n",
       "25%       1961.000000\n",
       "50%       1989.000000\n",
       "75%       2022.000000\n",
       "max       3025.000000\n",
       "Name: year_built, dtype: float64"
      ]
     },
     "execution_count": 29,
     "metadata": {},
     "output_type": "execute_result"
    }
   ],
   "source": [
    "raw_df['year_built'].describe()\n"
   ]
  },
  {
   "cell_type": "code",
   "execution_count": null,
   "id": "58f8bc8f",
   "metadata": {},
   "outputs": [
    {
     "data": {
      "text/plain": [
       "7642"
      ]
     },
     "execution_count": 59,
     "metadata": {},
     "output_type": "execute_result"
    }
   ],
   "source": [
    "number_of_nan_year= len(raw_df[raw_df['year_built'].isna()])\n",
    "number_of_nan_year"
   ]
  },
  {
   "cell_type": "markdown",
   "id": "719ab335",
   "metadata": {},
   "source": [
    "#### Mobiscore"
   ]
  },
  {
   "cell_type": "code",
   "execution_count": 61,
   "id": "1545598d",
   "metadata": {},
   "outputs": [
    {
     "data": {
      "application/vnd.microsoft.datawrangler.viewer.v0+json": {
       "columns": [
        {
         "name": "index",
         "rawType": "object",
         "type": "string"
        },
        {
         "name": "mobiscore",
         "rawType": "float64",
         "type": "float"
        }
       ],
       "ref": "1ac17f7b-90ac-411d-a398-00cacbc8c194",
       "rows": [
        [
         "count",
         "20103.0"
        ],
        [
         "mean",
         "7.855981694274486"
        ],
        [
         "std",
         "1.216389711408343"
        ],
        [
         "min",
         "3.3"
        ],
        [
         "25%",
         "7.0"
        ],
        [
         "50%",
         "8.1"
        ],
        [
         "75%",
         "8.8"
        ],
        [
         "max",
         "9.9"
        ]
       ],
       "shape": {
        "columns": 1,
        "rows": 8
       }
      },
      "text/plain": [
       "count    20103.000000\n",
       "mean         7.855982\n",
       "std          1.216390\n",
       "min          3.300000\n",
       "25%          7.000000\n",
       "50%          8.100000\n",
       "75%          8.800000\n",
       "max          9.900000\n",
       "Name: mobiscore, dtype: float64"
      ]
     },
     "execution_count": 61,
     "metadata": {},
     "output_type": "execute_result"
    }
   ],
   "source": [
    "raw_df['mobiscore'].describe()\n"
   ]
  },
  {
   "cell_type": "code",
   "execution_count": 63,
   "id": "dce2d765",
   "metadata": {},
   "outputs": [
    {
     "data": {
      "text/plain": [
       "5300"
      ]
     },
     "execution_count": 63,
     "metadata": {},
     "output_type": "execute_result"
    }
   ],
   "source": [
    "number_of_nan_mobi = len(raw_df[raw_df['mobiscore'].isna()])\n",
    "number_of_nan_mobi"
   ]
  },
  {
   "cell_type": "code",
   "execution_count": 17,
   "id": "9269dced",
   "metadata": {},
   "outputs": [
    {
     "data": {
      "text/plain": [
       "<seaborn.axisgrid.FacetGrid at 0x1b5d4af26e0>"
      ]
     },
     "execution_count": 17,
     "metadata": {},
     "output_type": "execute_result"
    },
    {
     "data": {
      "image/png": "[encoded data removed]",
      "text/plain": [
       "<Figure size 500x500 with 1 Axes>"
      ]
     },
     "metadata": {},
     "output_type": "display_data"
    }
   ],
   "source": [
    "sns.lmplot(x='mobiscore', y='price', data=raw_df.head(500)) "
   ]
  },
  {
   "cell_type": "code",
   "execution_count": 18,
   "id": "c1d49405",
   "metadata": {},
   "outputs": [
    {
     "name": "stdout",
     "output_type": "stream",
     "text": [
      "Correlation: 0.028894150104949567\n"
     ]
    }
   ],
   "source": [
    "correlation = raw_df['price'].corr(raw_df['mobiscore'])\n",
    "print(\"Correlation:\", correlation)"
   ]
  },
  {
   "cell_type": "markdown",
   "id": "25667d11",
   "metadata": {},
   "source": [
    "### Work on the dataset"
   ]
  },
  {
   "cell_type": "markdown",
   "id": "b1959589",
   "metadata": {},
   "source": [
    "#### Change category type"
   ]
  },
  {
   "cell_type": "code",
   "execution_count": 91,
   "id": "734e9f20",
   "metadata": {},
   "outputs": [],
   "source": [
    "raw_df['postcode'] = raw_df['postcode'].astype('category')"
   ]
  },
  {
   "cell_type": "code",
   "execution_count": 1,
   "id": "b8cc0d2c",
   "metadata": {},
   "outputs": [
    {
     "ename": "NameError",
     "evalue": "name 'sns' is not defined",
     "output_type": "error",
     "traceback": [
      "\u001b[1;31m---------------------------------------------------------------------------\u001b[0m",
      "\u001b[1;31mNameError\u001b[0m                                 Traceback (most recent call last)",
      "Cell \u001b[1;32mIn[1], line 1\u001b[0m\n\u001b[1;32m----> 1\u001b[0m \u001b[43msns\u001b[49m\u001b[38;5;241m.\u001b[39mswarmplot(x\u001b[38;5;241m=\u001b[39m\u001b[38;5;124m'\u001b[39m\u001b[38;5;124mpostcode\u001b[39m\u001b[38;5;124m'\u001b[39m, y\u001b[38;5;241m=\u001b[39m\u001b[38;5;124m'\u001b[39m\u001b[38;5;124mmobiscore\u001b[39m\u001b[38;5;124m'\u001b[39m, data\u001b[38;5;241m=\u001b[39mraw_df\u001b[38;5;241m.\u001b[39mhead(\u001b[38;5;241m50\u001b[39m)) \n",
      "\u001b[1;31mNameError\u001b[0m: name 'sns' is not defined"
     ]
    }
   ],
   "source": [
    "sns.swarmplot(x='postcode', y='mobiscore', data=raw_df.head(50)) \n",
    "\n"
   ]
  },
  {
   "cell_type": "markdown",
   "id": "d55fa94f",
   "metadata": {},
   "source": [
    "#### Checking attributes types"
   ]
  },
  {
   "cell_type": "code",
   "execution_count": 13,
   "id": "540c1238",
   "metadata": {},
   "outputs": [
    {
     "data": {
      "application/vnd.microsoft.datawrangler.viewer.v0+json": {
       "columns": [
        {
         "name": "index",
         "rawType": "object",
         "type": "string"
        },
        {
         "name": "0",
         "rawType": "object",
         "type": "unknown"
        }
       ],
       "ref": "9f9a12ed-492e-499a-ad1e-dd02d36176d1",
       "rows": [
        [
         "zimmo_code",
         "object"
        ],
        [
         "type",
         "object"
        ],
        [
         "price",
         "float64"
        ],
        [
         "street",
         "object"
        ],
        [
         "number",
         "object"
        ],
        [
         "postcode",
         "object"
        ],
        [
         "city",
         "object"
        ],
        [
         "living_area(m²)",
         "float64"
        ],
        [
         "ground_area(m²)",
         "float64"
        ],
        [
         "bedroom",
         "float64"
        ],
        [
         "bathroom",
         "float64"
        ],
        [
         "garage",
         "float64"
        ],
        [
         "garden",
         "bool"
        ],
        [
         "EPC(kWh/m²)",
         "float64"
        ],
        [
         "renovation_obligation",
         "object"
        ],
        [
         "year_built",
         "float64"
        ],
        [
         "mobiscore",
         "float64"
        ],
        [
         "url",
         "object"
        ]
       ],
       "shape": {
        "columns": 1,
        "rows": 18
       }
      },
      "text/plain": [
       "zimmo_code                object\n",
       "type                      object\n",
       "price                    float64\n",
       "street                    object\n",
       "number                    object\n",
       "postcode                  object\n",
       "city                      object\n",
       "living_area(m²)          float64\n",
       "ground_area(m²)          float64\n",
       "bedroom                  float64\n",
       "bathroom                 float64\n",
       "garage                   float64\n",
       "garden                      bool\n",
       "EPC(kWh/m²)              float64\n",
       "renovation_obligation     object\n",
       "year_built               float64\n",
       "mobiscore                float64\n",
       "url                       object\n",
       "dtype: object"
      ]
     },
     "execution_count": 13,
     "metadata": {},
     "output_type": "execute_result"
    }
   ],
   "source": [
    "raw_df.dtypes"
   ]
  },
  {
   "cell_type": "markdown",
   "id": "0d63677f",
   "metadata": {},
   "source": [
    "#### Check to see if several attributes have NaN values"
   ]
  },
  {
   "cell_type": "code",
   "execution_count": null,
   "id": "0989645b",
   "metadata": {},
   "outputs": [
    {
     "data": {
      "application/vnd.microsoft.datawrangler.viewer.v0+json": {
       "columns": [
        {
         "name": "index",
         "rawType": "int64",
         "type": "integer"
        },
        {
         "name": "zimmo_code",
         "rawType": "object",
         "type": "string"
        },
        {
         "name": "type",
         "rawType": "object",
         "type": "string"
        },
        {
         "name": "price",
         "rawType": "float64",
         "type": "float"
        },
        {
         "name": "street",
         "rawType": "object",
         "type": "unknown"
        },
        {
         "name": "number",
         "rawType": "object",
         "type": "unknown"
        },
        {
         "name": "postcode",
         "rawType": "object",
         "type": "string"
        },
        {
         "name": "city",
         "rawType": "object",
         "type": "string"
        },
        {
         "name": "living_area(m²)",
         "rawType": "float64",
         "type": "float"
        },
        {
         "name": "ground_area(m²)",
         "rawType": "float64",
         "type": "float"
        },
        {
         "name": "bedroom",
         "rawType": "float64",
         "type": "float"
        },
        {
         "name": "bathroom",
         "rawType": "float64",
         "type": "float"
        },
        {
         "name": "garage",
         "rawType": "float64",
         "type": "float"
        },
        {
         "name": "garden",
         "rawType": "bool",
         "type": "boolean"
        },
        {
         "name": "EPC(kWh/m²)",
         "rawType": "float64",
         "type": "float"
        },
        {
         "name": "renovation_obligation",
         "rawType": "object",
         "type": "unknown"
        },
        {
         "name": "year_built",
         "rawType": "float64",
         "type": "float"
        },
        {
         "name": "mobiscore",
         "rawType": "float64",
         "type": "float"
        },
        {
         "name": "url",
         "rawType": "object",
         "type": "string"
        }
       ],
       "ref": "b55ef9db-1838-427e-a82b-0e134950e315",
       "rows": [
        [
         "3",
         "L4X2D",
         "Vakantiewoning (Huis)",
         "40000.0",
         "Molenheidestraat",
         "7",
         "3530",
         "Helchteren",
         "45.0",
         null,
         null,
         null,
         null,
         "False",
         null,
         "False",
         null,
         "5.3",
         "https://www.zimmo.be/nl/helchteren-3530/te-koop/huis/L4X2D/?search=eyJmaWx0ZXIiOiB7InN0YXR1cyI6IHsiaW4iOiBbIkZPUl9TQUxFIiwgIlRBS0VfT1ZFUiJdfSwgImNhdGVnb3J5IjogeyJpbiI6IFsiSE9VU0UiLCAiQVBBUlRNRU5UIl19LCAicHJpY2UiOiB7InVua25vd24iOiBmYWxzZSwgInJhbmdlIjogeyJtaW4iOiAwLCAibWF4IjogNDk5OTl9fX19&boosted=1"
        ],
        [
         "12",
         "L5Q5T",
         "Andere (Huis)",
         "45000.0",
         "Hepperstraat",
         "6",
         "3680",
         "Maaseik",
         null,
         "70.0",
         null,
         null,
         null,
         "False",
         null,
         "False",
         "1850.0",
         "7.7",
         "https://www.zimmo.be/nl/maaseik-3680/te-koop/huis/L5Q5T/?search=eyJmaWx0ZXIiOiB7InN0YXR1cyI6IHsiaW4iOiBbIkZPUl9TQUxFIiwgIlRBS0VfT1ZFUiJdfSwgImNhdGVnb3J5IjogeyJpbiI6IFsiSE9VU0UiLCAiQVBBUlRNRU5UIl19LCAicHJpY2UiOiB7InVua25vd24iOiBmYWxzZSwgInJhbmdlIjogeyJtaW4iOiAwLCAibWF4IjogNDk5OTl9fX19"
        ],
        [
         "31",
         "L83B7",
         "Rijwoning (Huis)",
         "40000.0",
         "Kleine Gaffelstraat",
         "18",
         "9500",
         "Geraardsbergen",
         "30.0",
         "30.0",
         null,
         null,
         null,
         "False",
         "690.0",
         "True",
         "1875.0",
         "8.8",
         "https://www.zimmo.be/nl/geraardsbergen-9500/te-koop/huis/L83B7/?search=eyJmaWx0ZXIiOiB7InN0YXR1cyI6IHsiaW4iOiBbIkZPUl9TQUxFIiwgIlRBS0VfT1ZFUiJdfSwgImNhdGVnb3J5IjogeyJpbiI6IFsiSE9VU0UiLCAiQVBBUlRNRU5UIl19LCAicHJpY2UiOiB7InVua25vd24iOiBmYWxzZSwgInJhbmdlIjogeyJtaW4iOiAwLCAibWF4IjogNDk5OTl9fX19&p=2"
        ],
        [
         "33",
         "L5O5X",
         "Vakantiewoning (Huis)",
         "42500.0",
         "Parelstrand",
         "154",
         "3920",
         "Lommel",
         null,
         null,
         null,
         null,
         null,
         "False",
         null,
         "False",
         null,
         "6.8",
         "https://www.zimmo.be/nl/lommel-3920/te-koop/huis/L5O5X/?search=eyJmaWx0ZXIiOiB7InN0YXR1cyI6IHsiaW4iOiBbIkZPUl9TQUxFIiwgIlRBS0VfT1ZFUiJdfSwgImNhdGVnb3J5IjogeyJpbiI6IFsiSE9VU0UiLCAiQVBBUlRNRU5UIl19LCAicHJpY2UiOiB7InVua25vd24iOiBmYWxzZSwgInJhbmdlIjogeyJtaW4iOiAwLCAibWF4IjogNDk5OTl9fX19&p=2"
        ],
        [
         "34",
         "L7MF9",
         "Appartement",
         "38500.0",
         "Dorlodotlaan",
         "8",
         "8670",
         "Koksijde",
         null,
         null,
         null,
         null,
         null,
         "False",
         null,
         "False",
         "1975.0",
         "8.1",
         "https://www.zimmo.be/nl/koksijde-8670/te-koop/appartement/L7MF9/?search=eyJmaWx0ZXIiOiB7InN0YXR1cyI6IHsiaW4iOiBbIkZPUl9TQUxFIiwgIlRBS0VfT1ZFUiJdfSwgImNhdGVnb3J5IjogeyJpbiI6IFsiSE9VU0UiLCAiQVBBUlRNRU5UIl19LCAicHJpY2UiOiB7InVua25vd24iOiBmYWxzZSwgInJhbmdlIjogeyJtaW4iOiAwLCAibWF4IjogNDk5OTl9fX19&p=2"
        ],
        [
         "44",
         "L3Q5V",
         "Gemengd gebruik (Huis)",
         "25000.0",
         "Rue Appâa",
         "15",
         "7340",
         "Wasmes",
         null,
         null,
         null,
         null,
         "1.0",
         "False",
         null,
         null,
         null,
         null,
         "https://www.zimmo.be/nl/wasmes-7340/te-koop/huis/L3Q5V/?search=eyJmaWx0ZXIiOiB7InN0YXR1cyI6IHsiaW4iOiBbIkZPUl9TQUxFIiwgIlRBS0VfT1ZFUiJdfSwgImNhdGVnb3J5IjogeyJpbiI6IFsiSE9VU0UiLCAiQVBBUlRNRU5UIl19LCAicHJpY2UiOiB7InVua25vd24iOiBmYWxzZSwgInJhbmdlIjogeyJtaW4iOiAwLCAibWF4IjogNDk5OTl9fX19&p=3"
        ],
        [
         "46",
         "KZ1LC",
         "Vakantiewoning (Huis)",
         "49000.0",
         "Spechtstraat",
         "57",
         "3730",
         "Sint-Huibrechts-Hern",
         "55.0",
         null,
         null,
         null,
         null,
         "False",
         "2081.0",
         "True",
         null,
         "5.0",
         "https://www.zimmo.be/nl/sint-huibrechts-hern-3730/te-koop/huis/KZ1LC/?search=eyJmaWx0ZXIiOiB7InN0YXR1cyI6IHsiaW4iOiBbIkZPUl9TQUxFIiwgIlRBS0VfT1ZFUiJdfSwgImNhdGVnb3J5IjogeyJpbiI6IFsiSE9VU0UiLCAiQVBBUlRNRU5UIl19LCAicHJpY2UiOiB7InVua25vd24iOiBmYWxzZSwgInJhbmdlIjogeyJtaW4iOiAwLCAibWF4IjogNDk5OTl9fX19&p=3"
        ],
        [
         "49",
         "L3VPC",
         "Woning (Huis)",
         "29000.0",
         "Morelgem",
         null,
         "9520",
         "Vlierzele",
         null,
         null,
         null,
         null,
         null,
         "False",
         null,
         "False",
         null,
         null,
         "https://www.zimmo.be/nl/vlierzele-9520/te-koop/huis/L3VPC/?search=eyJmaWx0ZXIiOiB7InN0YXR1cyI6IHsiaW4iOiBbIkZPUl9TQUxFIiwgIlRBS0VfT1ZFUiJdfSwgImNhdGVnb3J5IjogeyJpbiI6IFsiSE9VU0UiLCAiQVBBUlRNRU5UIl19LCAicHJpY2UiOiB7InVua25vd24iOiBmYWxzZSwgInJhbmdlIjogeyJtaW4iOiAwLCAibWF4IjogNDk5OTl9fX19&p=3"
        ],
        [
         "57",
         "KXLWR",
         "Studio met slaaphoek (Appartement)",
         "29990.0",
         "krommedijk",
         null,
         "8301",
         "Duinbergen",
         null,
         null,
         null,
         null,
         null,
         "False",
         "0.0",
         "False",
         null,
         "8.4",
         "https://www.zimmo.be/nl/duinbergen-8301/te-koop/appartement/KXLWR/?search=eyJmaWx0ZXIiOiB7InN0YXR1cyI6IHsiaW4iOiBbIkZPUl9TQUxFIiwgIlRBS0VfT1ZFUiJdfSwgImNhdGVnb3J5IjogeyJpbiI6IFsiSE9VU0UiLCAiQVBBUlRNRU5UIl19LCAicHJpY2UiOiB7InVua25vd24iOiBmYWxzZSwgInJhbmdlIjogeyJtaW4iOiAwLCAibWF4IjogNDk5OTl9fX19&p=3"
        ],
        [
         "66",
         "L2L7Y",
         "Studio (Appartement)",
         "97000.0",
         "Torhoutsesteenweg",
         "36/0604",
         "8400",
         "Oostende",
         "35.0",
         null,
         null,
         "1.0",
         null,
         "False",
         "184.0",
         "False",
         "2006.0",
         "9.1",
         "https://www.zimmo.be/nl/oostende-8400/te-koop/appartement/L2L7Y/?search=eyJmaWx0ZXIiOiB7InN0YXR1cyI6IHsiaW4iOiBbIkZPUl9TQUxFIiwgIlRBS0VfT1ZFUiJdfSwgImNhdGVnb3J5IjogeyJpbiI6IFsiSE9VU0UiLCAiQVBBUlRNRU5UIl19LCAicHJpY2UiOiB7InVua25vd24iOiBmYWxzZSwgInJhbmdlIjogeyJtaW4iOiA1MDAwMCwgIm1heCI6IDk5OTk5fX19fQ%3D%3D&boosted=1"
        ],
        [
         "72",
         "L9VU2",
         "Woning (Huis)",
         "89000.0",
         "Doorniksesteenweg",
         null,
         "8582",
         "Outrijve",
         null,
         "99.0",
         null,
         null,
         null,
         "False",
         "1144.0",
         "True",
         null,
         "5.9",
         "https://www.zimmo.be/nl/outrijve-8582/te-koop/huis/L9VU2/?search=eyJmaWx0ZXIiOiB7InN0YXR1cyI6IHsiaW4iOiBbIkZPUl9TQUxFIiwgIlRBS0VfT1ZFUiJdfSwgImNhdGVnb3J5IjogeyJpbiI6IFsiSE9VU0UiLCAiQVBBUlRNRU5UIl19LCAicHJpY2UiOiB7InVua25vd24iOiBmYWxzZSwgInJhbmdlIjogeyJtaW4iOiA1MDAwMCwgIm1heCI6IDk5OTk5fX19fQ%3D%3D"
        ],
        [
         "77",
         "KZOL4",
         "Studio (Appartement)",
         "80000.0",
         "Parklaan",
         "1c/0206",
         "8430",
         "Middelkerke",
         "25.0",
         null,
         null,
         "1.0",
         null,
         "False",
         "139.0",
         "False",
         "1975.0",
         "7.0",
         "https://www.zimmo.be/nl/middelkerke-8430/te-koop/appartement/KZOL4/?search=eyJmaWx0ZXIiOiB7InN0YXR1cyI6IHsiaW4iOiBbIkZPUl9TQUxFIiwgIlRBS0VfT1ZFUiJdfSwgImNhdGVnb3J5IjogeyJpbiI6IFsiSE9VU0UiLCAiQVBBUlRNRU5UIl19LCAicHJpY2UiOiB7InVua25vd24iOiBmYWxzZSwgInJhbmdlIjogeyJtaW4iOiA1MDAwMCwgIm1heCI6IDk5OTk5fX19fQ%3D%3D&boosted=1"
        ],
        [
         "80",
         "L9OBV",
         "Woning (Huis)",
         "89000.0",
         "Torhoutstraat",
         "2",
         "8650",
         "Klerken",
         "46.0",
         "560.0",
         null,
         null,
         null,
         "True",
         "1761.0",
         "True",
         null,
         "5.4",
         "https://www.zimmo.be/nl/klerken-8650/te-koop/huis/L9OBV/?search=eyJmaWx0ZXIiOiB7InN0YXR1cyI6IHsiaW4iOiBbIkZPUl9TQUxFIiwgIlRBS0VfT1ZFUiJdfSwgImNhdGVnb3J5IjogeyJpbiI6IFsiSE9VU0UiLCAiQVBBUlRNRU5UIl19LCAicHJpY2UiOiB7InVua25vd24iOiBmYWxzZSwgInJhbmdlIjogeyJtaW4iOiA1MDAwMCwgIm1heCI6IDk5OTk5fX19fQ%3D%3D&p=2"
        ],
        [
         "95",
         "KXOGG",
         "Chalet (Huis)",
         "54000.0",
         "Roelerweg zn",
         null,
         "3690",
         "Zutendaal",
         "27.0",
         "836.0",
         null,
         null,
         null,
         "False",
         "1395.0",
         "True",
         "1970.0",
         "6.4",
         "https://www.zimmo.be/nl/zutendaal-3690/te-koop/huis/KXOGG/?search=eyJmaWx0ZXIiOiB7InN0YXR1cyI6IHsiaW4iOiBbIkZPUl9TQUxFIiwgIlRBS0VfT1ZFUiJdfSwgImNhdGVnb3J5IjogeyJpbiI6IFsiSE9VU0UiLCAiQVBBUlRNRU5UIl19LCAicHJpY2UiOiB7InVua25vd24iOiBmYWxzZSwgInJhbmdlIjogeyJtaW4iOiA1MDAwMCwgIm1heCI6IDk5OTk5fX19fQ%3D%3D&p=2"
        ],
        [
         "98",
         "L9NNR",
         "Studio met slaaphoek (Appartement)",
         "94500.0",
         "Rue Grétry",
         "50/91",
         "4000",
         "Liège",
         "39.0",
         null,
         null,
         "1.0",
         null,
         "False",
         "679.0",
         null,
         "1977.0",
         null,
         "https://www.zimmo.be/nl/liege-4000/te-koop/appartement/L9NNR/?search=eyJmaWx0ZXIiOiB7InN0YXR1cyI6IHsiaW4iOiBbIkZPUl9TQUxFIiwgIlRBS0VfT1ZFUiJdfSwgImNhdGVnb3J5IjogeyJpbiI6IFsiSE9VU0UiLCAiQVBBUlRNRU5UIl19LCAicHJpY2UiOiB7InVua25vd24iOiBmYWxzZSwgInJhbmdlIjogeyJtaW4iOiA1MDAwMCwgIm1heCI6IDk5OTk5fX19fQ%3D%3D&p=2"
        ],
        [
         "101",
         "L9J98",
         "Woning (Huis)",
         "98000.0",
         null,
         null,
         "6142",
         "Leernes",
         "200.0",
         "190.0",
         null,
         null,
         null,
         "False",
         null,
         null,
         null,
         null,
         "https://www.zimmo.be/nl/leernes-6142/te-koop/huis/L9J98/?search=eyJmaWx0ZXIiOiB7InN0YXR1cyI6IHsiaW4iOiBbIkZPUl9TQUxFIiwgIlRBS0VfT1ZFUiJdfSwgImNhdGVnb3J5IjogeyJpbiI6IFsiSE9VU0UiLCAiQVBBUlRNRU5UIl19LCAicHJpY2UiOiB7InVua25vd24iOiBmYWxzZSwgInJhbmdlIjogeyJtaW4iOiA1MDAwMCwgIm1heCI6IDk5OTk5fX19fQ%3D%3D&p=3"
        ],
        [
         "102",
         "L9CIE",
         "Studio met slaaphoek (Appartement)",
         "85000.0",
         "Distellaan",
         "8/0311",
         "8434",
         "Westende",
         "18.0",
         null,
         null,
         "1.0",
         null,
         "False",
         "202.0",
         "False",
         "1978.0",
         "7.0",
         "https://www.zimmo.be/nl/westende-8434/te-koop/appartement/L9CIE/?search=eyJmaWx0ZXIiOiB7InN0YXR1cyI6IHsiaW4iOiBbIkZPUl9TQUxFIiwgIlRBS0VfT1ZFUiJdfSwgImNhdGVnb3J5IjogeyJpbiI6IFsiSE9VU0UiLCAiQVBBUlRNRU5UIl19LCAicHJpY2UiOiB7InVua25vd24iOiBmYWxzZSwgInJhbmdlIjogeyJtaW4iOiA1MDAwMCwgIm1heCI6IDk5OTk5fX19fQ%3D%3D&p=3"
        ],
        [
         "104",
         "L479I",
         "Studio met slaaphoek (Appartement)",
         "99000.0",
         "Kielenstraat",
         "73/5",
         "3700",
         "Tongeren",
         null,
         null,
         null,
         null,
         null,
         "False",
         "210.0",
         "False",
         "1966.0",
         "7.9",
         "https://www.zimmo.be/nl/tongeren-3700/te-koop/appartement/L479I/?search=eyJmaWx0ZXIiOiB7InN0YXR1cyI6IHsiaW4iOiBbIkZPUl9TQUxFIiwgIlRBS0VfT1ZFUiJdfSwgImNhdGVnb3J5IjogeyJpbiI6IFsiSE9VU0UiLCAiQVBBUlRNRU5UIl19LCAicHJpY2UiOiB7InVua25vd24iOiBmYWxzZSwgInJhbmdlIjogeyJtaW4iOiA1MDAwMCwgIm1heCI6IDk5OTk5fX19fQ%3D%3D&p=3"
        ],
        [
         "112",
         "L9B8F",
         "Studio met slaaphoek (Appartement)",
         "95000.0",
         "Zeelaan",
         "170/0102",
         "8670",
         "Koksijde",
         "24.0",
         null,
         null,
         "1.0",
         null,
         "False",
         "315.0",
         "False",
         "1977.0",
         "8.3",
         "https://www.zimmo.be/nl/koksijde-8670/te-koop/appartement/L9B8F/?search=eyJmaWx0ZXIiOiB7InN0YXR1cyI6IHsiaW4iOiBbIkZPUl9TQUxFIiwgIlRBS0VfT1ZFUiJdfSwgImNhdGVnb3J5IjogeyJpbiI6IFsiSE9VU0UiLCAiQVBBUlRNRU5UIl19LCAicHJpY2UiOiB7InVua25vd24iOiBmYWxzZSwgInJhbmdlIjogeyJtaW4iOiA1MDAwMCwgIm1heCI6IDk5OTk5fX19fQ%3D%3D&p=3"
        ],
        [
         "116",
         "L9HB2",
         "Chalet (Huis)",
         "68500.0",
         "Rue du Village",
         "2/113",
         "5542",
         "Blaimont",
         "40.0",
         "343.0",
         null,
         null,
         null,
         "False",
         null,
         null,
         "1970.0",
         null,
         "https://www.zimmo.be/nl/blaimont-5542/te-koop/huis/L9HB2/?search=eyJmaWx0ZXIiOiB7InN0YXR1cyI6IHsiaW4iOiBbIkZPUl9TQUxFIiwgIlRBS0VfT1ZFUiJdfSwgImNhdGVnb3J5IjogeyJpbiI6IFsiSE9VU0UiLCAiQVBBUlRNRU5UIl19LCAicHJpY2UiOiB7InVua25vd24iOiBmYWxzZSwgInJhbmdlIjogeyJtaW4iOiA1MDAwMCwgIm1heCI6IDk5OTk5fX19fQ%3D%3D&p=3"
        ],
        [
         "122",
         "L7N3J",
         "Studio (Appartement)",
         "99000.0",
         "Parklaan",
         "3/0108",
         "8430",
         "Middelkerke",
         "24.0",
         null,
         null,
         "1.0",
         null,
         "False",
         "226.0",
         "False",
         "1972.0",
         "7.0",
         "https://www.zimmo.be/nl/middelkerke-8430/te-koop/appartement/L7N3J/?search=eyJmaWx0ZXIiOiB7InN0YXR1cyI6IHsiaW4iOiBbIkZPUl9TQUxFIiwgIlRBS0VfT1ZFUiJdfSwgImNhdGVnb3J5IjogeyJpbiI6IFsiSE9VU0UiLCAiQVBBUlRNRU5UIl19LCAicHJpY2UiOiB7InVua25vd24iOiBmYWxzZSwgInJhbmdlIjogeyJtaW4iOiA1MDAwMCwgIm1heCI6IDk5OTk5fX19fQ%3D%3D&p=4"
        ],
        [
         "127",
         "L94FK",
         "Studio met slaaphoek (Appartement)",
         "59999.0",
         null,
         null,
         "7100",
         "La Louvière",
         "52.0",
         null,
         null,
         "1.0",
         null,
         "False",
         "493.0",
         null,
         "1950.0",
         null,
         "https://www.zimmo.be/nl/la-louviere-7100/te-koop/appartement/L94FK/?search=eyJmaWx0ZXIiOiB7InN0YXR1cyI6IHsiaW4iOiBbIkZPUl9TQUxFIiwgIlRBS0VfT1ZFUiJdfSwgImNhdGVnb3J5IjogeyJpbiI6IFsiSE9VU0UiLCAiQVBBUlRNRU5UIl19LCAicHJpY2UiOiB7InVua25vd24iOiBmYWxzZSwgInJhbmdlIjogeyJtaW4iOiA1MDAwMCwgIm1heCI6IDk5OTk5fX19fQ%3D%3D&p=4"
        ],
        [
         "164",
         "L907H",
         "Studio met slaaphoek (Appartement)",
         "69000.0",
         null,
         null,
         "1210",
         "Sint-Joost-ten-Node",
         "13.0",
         null,
         null,
         "1.0",
         null,
         "False",
         "528.0",
         null,
         "1876.0",
         "9.6",
         "https://www.zimmo.be/nl/sint-joost-ten-node-1210/te-koop/appartement/L907H/?search=eyJmaWx0ZXIiOiB7InN0YXR1cyI6IHsiaW4iOiBbIkZPUl9TQUxFIiwgIlRBS0VfT1ZFUiJdfSwgImNhdGVnb3J5IjogeyJpbiI6IFsiSE9VU0UiLCAiQVBBUlRNRU5UIl19LCAicHJpY2UiOiB7InVua25vd24iOiBmYWxzZSwgInJhbmdlIjogeyJtaW4iOiA1MDAwMCwgIm1heCI6IDk5OTk5fX19fQ%3D%3D&p=6"
        ],
        [
         "173",
         "L8YVT",
         "Studio (Appartement)",
         "99900.0",
         "Henegouwenstraat",
         "15/06.05",
         "8620",
         "Nieuwpoort",
         "27.0",
         null,
         null,
         "1.0",
         null,
         "True",
         "166.0",
         "False",
         "1980.0",
         "7.6",
         "https://www.zimmo.be/nl/nieuwpoort-8620/te-koop/appartement/L8YVT/?search=eyJmaWx0ZXIiOiB7InN0YXR1cyI6IHsiaW4iOiBbIkZPUl9TQUxFIiwgIlRBS0VfT1ZFUiJdfSwgImNhdGVnb3J5IjogeyJpbiI6IFsiSE9VU0UiLCAiQVBBUlRNRU5UIl19LCAicHJpY2UiOiB7InVua25vd24iOiBmYWxzZSwgInJhbmdlIjogeyJtaW4iOiA1MDAwMCwgIm1heCI6IDk5OTk5fX19fQ%3D%3D&p=6"
        ],
        [
         "179",
         "L8W8F",
         "Studio met slaaphoek (Appartement)",
         "79000.0",
         null,
         null,
         "1210",
         "Sint-Joost-ten-Node",
         "20.0",
         null,
         null,
         "1.0",
         null,
         "False",
         "528.0",
         null,
         "1876.0",
         "9.6",
         "https://www.zimmo.be/nl/sint-joost-ten-node-1210/te-koop/appartement/L8W8F/?search=eyJmaWx0ZXIiOiB7InN0YXR1cyI6IHsiaW4iOiBbIkZPUl9TQUxFIiwgIlRBS0VfT1ZFUiJdfSwgImNhdGVnb3J5IjogeyJpbiI6IFsiSE9VU0UiLCAiQVBBUlRNRU5UIl19LCAicHJpY2UiOiB7InVua25vd24iOiBmYWxzZSwgInJhbmdlIjogeyJtaW4iOiA1MDAwMCwgIm1heCI6IDk5OTk5fX19fQ%3D%3D&p=6"
        ],
        [
         "185",
         "L8QUU",
         "Studio (Appartement)",
         "95000.0",
         "Franslaan",
         "100",
         "8620",
         "Nieuwpoort",
         "27.0",
         null,
         null,
         null,
         null,
         "True",
         "686.0",
         "True",
         "1973.0",
         "7.6",
         "https://www.zimmo.be/nl/nieuwpoort-8620/te-koop/appartement/L8QUU/?search=eyJmaWx0ZXIiOiB7InN0YXR1cyI6IHsiaW4iOiBbIkZPUl9TQUxFIiwgIlRBS0VfT1ZFUiJdfSwgImNhdGVnb3J5IjogeyJpbiI6IFsiSE9VU0UiLCAiQVBBUlRNRU5UIl19LCAicHJpY2UiOiB7InVua25vd24iOiBmYWxzZSwgInJhbmdlIjogeyJtaW4iOiA1MDAwMCwgIm1heCI6IDk5OTk5fX19fQ%3D%3D&p=7"
        ],
        [
         "203",
         "L8H4N",
         "Studio met slaaphoek (Appartement)",
         "89000.0",
         "Gentstraat",
         "10/0104",
         "8430",
         "Middelkerke",
         "32.0",
         null,
         null,
         "1.0",
         null,
         "False",
         "185.0",
         "False",
         null,
         "8.0",
         "https://www.zimmo.be/nl/middelkerke-8430/te-koop/appartement/L8H4N/?search=eyJmaWx0ZXIiOiB7InN0YXR1cyI6IHsiaW4iOiBbIkZPUl9TQUxFIiwgIlRBS0VfT1ZFUiJdfSwgImNhdGVnb3J5IjogeyJpbiI6IFsiSE9VU0UiLCAiQVBBUlRNRU5UIl19LCAicHJpY2UiOiB7InVua25vd24iOiBmYWxzZSwgInJhbmdlIjogeyJtaW4iOiA1MDAwMCwgIm1heCI6IDk5OTk5fX19fQ%3D%3D&p=8"
        ],
        [
         "206",
         "L8HUB",
         "Appartement",
         "95000.0",
         "Lakborslei",
         "305",
         "2100",
         "Deurne",
         null,
         null,
         null,
         null,
         null,
         "False",
         "937.0",
         "True",
         "1931.0",
         "9.1",
         "https://www.zimmo.be/nl/deurne-2100/te-koop/appartement/L8HUB/?search=eyJmaWx0ZXIiOiB7InN0YXR1cyI6IHsiaW4iOiBbIkZPUl9TQUxFIiwgIlRBS0VfT1ZFUiJdfSwgImNhdGVnb3J5IjogeyJpbiI6IFsiSE9VU0UiLCAiQVBBUlRNRU5UIl19LCAicHJpY2UiOiB7InVua25vd24iOiBmYWxzZSwgInJhbmdlIjogeyJtaW4iOiA1MDAwMCwgIm1heCI6IDk5OTk5fX19fQ%3D%3D&p=8"
        ],
        [
         "210",
         "L6VBO",
         "Studio met slaaphoek (Appartement)",
         "85000.0",
         "Gentstraat",
         "10/0306",
         "8430",
         "Middelkerke",
         null,
         null,
         null,
         "1.0",
         null,
         "False",
         "291.0",
         "False",
         null,
         "8.0",
         "https://www.zimmo.be/nl/middelkerke-8430/te-koop/appartement/L6VBO/?search=eyJmaWx0ZXIiOiB7InN0YXR1cyI6IHsiaW4iOiBbIkZPUl9TQUxFIiwgIlRBS0VfT1ZFUiJdfSwgImNhdGVnb3J5IjogeyJpbiI6IFsiSE9VU0UiLCAiQVBBUlRNRU5UIl19LCAicHJpY2UiOiB7InVua25vd24iOiBmYWxzZSwgInJhbmdlIjogeyJtaW4iOiA1MDAwMCwgIm1heCI6IDk5OTk5fX19fQ%3D%3D&p=8"
        ],
        [
         "214",
         "L8HSO",
         "Woning (Huis)",
         "50000.0",
         "Wittenweg",
         "18",
         "3440",
         "Dormaal",
         null,
         "731.0",
         null,
         null,
         null,
         "False",
         "1389.0",
         "True",
         "1930.0",
         "5.9",
         "https://www.zimmo.be/nl/dormaal-3440/te-koop/huis/L8HSO/?search=eyJmaWx0ZXIiOiB7InN0YXR1cyI6IHsiaW4iOiBbIkZPUl9TQUxFIiwgIlRBS0VfT1ZFUiJdfSwgImNhdGVnb3J5IjogeyJpbiI6IFsiSE9VU0UiLCAiQVBBUlRNRU5UIl19LCAicHJpY2UiOiB7InVua25vd24iOiBmYWxzZSwgInJhbmdlIjogeyJtaW4iOiA1MDAwMCwgIm1heCI6IDk5OTk5fX19fQ%3D%3D&p=8"
        ],
        [
         "218",
         "L8H4S",
         "Studio met slaaphoek (Appartement)",
         "85000.0",
         "Gentstraat",
         "10/0306",
         "8430",
         "Middelkerke",
         "32.0",
         null,
         null,
         "1.0",
         null,
         "False",
         "291.0",
         "False",
         null,
         "8.0",
         "https://www.zimmo.be/nl/middelkerke-8430/te-koop/appartement/L8H4S/?search=eyJmaWx0ZXIiOiB7InN0YXR1cyI6IHsiaW4iOiBbIkZPUl9TQUxFIiwgIlRBS0VfT1ZFUiJdfSwgImNhdGVnb3J5IjogeyJpbiI6IFsiSE9VU0UiLCAiQVBBUlRNRU5UIl19LCAicHJpY2UiOiB7InVua25vd24iOiBmYWxzZSwgInJhbmdlIjogeyJtaW4iOiA1MDAwMCwgIm1heCI6IDk5OTk5fX19fQ%3D%3D&p=8"
        ],
        [
         "226",
         "L85XG",
         "Studio (Appartement)",
         "85000.0",
         "Zeedijk",
         "96/1207",
         "8370",
         "Blankenberge",
         "30.0",
         null,
         null,
         "1.0",
         null,
         "True",
         null,
         "False",
         "1998.0",
         "8.8",
         "https://www.zimmo.be/nl/blankenberge-8370/te-koop/appartement/L85XG/?search=eyJmaWx0ZXIiOiB7InN0YXR1cyI6IHsiaW4iOiBbIkZPUl9TQUxFIiwgIlRBS0VfT1ZFUiJdfSwgImNhdGVnb3J5IjogeyJpbiI6IFsiSE9VU0UiLCAiQVBBUlRNRU5UIl19LCAicHJpY2UiOiB7InVua25vd24iOiBmYWxzZSwgInJhbmdlIjogeyJtaW4iOiA1MDAwMCwgIm1heCI6IDk5OTk5fX19fQ%3D%3D&p=9"
        ],
        [
         "228",
         "L8DTV",
         "Appartement",
         "85000.0",
         "Westerlaan",
         "23",
         "8790",
         "Waregem",
         "34.0",
         null,
         null,
         "1.0",
         null,
         "False",
         "131.0",
         "False",
         "2008.0",
         "8.9",
         "https://www.zimmo.be/nl/waregem-8790/te-koop/appartement/L8DTV/?search=eyJmaWx0ZXIiOiB7InN0YXR1cyI6IHsiaW4iOiBbIkZPUl9TQUxFIiwgIlRBS0VfT1ZFUiJdfSwgImNhdGVnb3J5IjogeyJpbiI6IFsiSE9VU0UiLCAiQVBBUlRNRU5UIl19LCAicHJpY2UiOiB7InVua25vd24iOiBmYWxzZSwgInJhbmdlIjogeyJtaW4iOiA1MDAwMCwgIm1heCI6IDk5OTk5fX19fQ%3D%3D&p=9"
        ],
        [
         "234",
         "L8DTS",
         "Studio (Appartement)",
         "85000.0",
         "Westerlaan",
         "23",
         "8790",
         "Waregem",
         "34.0",
         null,
         null,
         "1.0",
         null,
         "False",
         "131.0",
         "False",
         "2008.0",
         "8.9",
         "https://www.zimmo.be/nl/waregem-8790/te-koop/appartement/L8DTS/?search=eyJmaWx0ZXIiOiB7InN0YXR1cyI6IHsiaW4iOiBbIkZPUl9TQUxFIiwgIlRBS0VfT1ZFUiJdfSwgImNhdGVnb3J5IjogeyJpbiI6IFsiSE9VU0UiLCAiQVBBUlRNRU5UIl19LCAicHJpY2UiOiB7InVua25vd24iOiBmYWxzZSwgInJhbmdlIjogeyJtaW4iOiA1MDAwMCwgIm1heCI6IDk5OTk5fX19fQ%3D%3D&p=9"
        ],
        [
         "242",
         "L8DTY",
         "Studio met slaaphoek (Appartement)",
         "85000.0",
         "Westerlaan",
         "23",
         "8790",
         "Waregem",
         "34.0",
         null,
         null,
         "1.0",
         null,
         "False",
         "131.0",
         "False",
         "2008.0",
         "8.9",
         "https://www.zimmo.be/nl/waregem-8790/te-koop/appartement/L8DTY/?search=eyJmaWx0ZXIiOiB7InN0YXR1cyI6IHsiaW4iOiBbIkZPUl9TQUxFIiwgIlRBS0VfT1ZFUiJdfSwgImNhdGVnb3J5IjogeyJpbiI6IFsiSE9VU0UiLCAiQVBBUlRNRU5UIl19LCAicHJpY2UiOiB7InVua25vd24iOiBmYWxzZSwgInJhbmdlIjogeyJtaW4iOiA1MDAwMCwgIm1heCI6IDk5OTk5fX19fQ%3D%3D&p=9"
        ],
        [
         "244",
         "L8BCW",
         "Studio met slaaphoek (Appartement)",
         "95000.0",
         "Parklaan",
         "3/0609",
         "8430",
         "Middelkerke",
         "24.0",
         null,
         null,
         "1.0",
         null,
         "False",
         "188.0",
         "False",
         "1972.0",
         "7.0",
         "https://www.zimmo.be/nl/middelkerke-8430/te-koop/appartement/L8BCW/?search=eyJmaWx0ZXIiOiB7InN0YXR1cyI6IHsiaW4iOiBbIkZPUl9TQUxFIiwgIlRBS0VfT1ZFUiJdfSwgImNhdGVnb3J5IjogeyJpbiI6IFsiSE9VU0UiLCAiQVBBUlRNRU5UIl19LCAicHJpY2UiOiB7InVua25vd24iOiBmYWxzZSwgInJhbmdlIjogeyJtaW4iOiA1MDAwMCwgIm1heCI6IDk5OTk5fX19fQ%3D%3D&p=9"
        ],
        [
         "246",
         "L83QI",
         "Appartement",
         "99900.0",
         "Rue de la Province",
         "24",
         "4000",
         "Liège",
         "36.0",
         null,
         null,
         null,
         null,
         "False",
         "504.0",
         null,
         "1977.0",
         null,
         "https://www.zimmo.be/nl/liege-4000/te-koop/appartement/L83QI/?search=eyJmaWx0ZXIiOiB7InN0YXR1cyI6IHsiaW4iOiBbIkZPUl9TQUxFIiwgIlRBS0VfT1ZFUiJdfSwgImNhdGVnb3J5IjogeyJpbiI6IFsiSE9VU0UiLCAiQVBBUlRNRU5UIl19LCAicHJpY2UiOiB7InVua25vd24iOiBmYWxzZSwgInJhbmdlIjogeyJtaW4iOiA1MDAwMCwgIm1heCI6IDk5OTk5fX19fQ%3D%3D&p=10"
        ],
        [
         "247",
         "L6LFO",
         "Studio met slaaphoek (Appartement)",
         "69000.0",
         "Lalouxlaan",
         "1/104",
         "8670",
         "Koksijde",
         "22.0",
         null,
         null,
         null,
         null,
         "False",
         null,
         "False",
         null,
         "8.4",
         "https://www.zimmo.be/nl/koksijde-8670/te-koop/appartement/L6LFO/?search=eyJmaWx0ZXIiOiB7InN0YXR1cyI6IHsiaW4iOiBbIkZPUl9TQUxFIiwgIlRBS0VfT1ZFUiJdfSwgImNhdGVnb3J5IjogeyJpbiI6IFsiSE9VU0UiLCAiQVBBUlRNRU5UIl19LCAicHJpY2UiOiB7InVua25vd24iOiBmYWxzZSwgInJhbmdlIjogeyJtaW4iOiA1MDAwMCwgIm1heCI6IDk5OTk5fX19fQ%3D%3D&p=10"
        ],
        [
         "251",
         "L7YOU",
         "Chalet (Huis)",
         "50000.0",
         null,
         null,
         "6464",
         "Forges",
         null,
         null,
         null,
         null,
         null,
         "False",
         null,
         null,
         null,
         null,
         "https://www.zimmo.be/nl/forges-6464/te-koop/huis/L7YOU/?search=eyJmaWx0ZXIiOiB7InN0YXR1cyI6IHsiaW4iOiBbIkZPUl9TQUxFIiwgIlRBS0VfT1ZFUiJdfSwgImNhdGVnb3J5IjogeyJpbiI6IFsiSE9VU0UiLCAiQVBBUlRNRU5UIl19LCAicHJpY2UiOiB7InVua25vd24iOiBmYWxzZSwgInJhbmdlIjogeyJtaW4iOiA1MDAwMCwgIm1heCI6IDk5OTk5fX19fQ%3D%3D&p=10"
        ],
        [
         "252",
         "L80LT",
         "Studio (Appartement)",
         "95000.0",
         "de Theuxstraat",
         "140",
         "1040",
         "Etterbeek",
         "22.0",
         null,
         null,
         null,
         null,
         "False",
         "311.0",
         null,
         null,
         "9.4",
         "https://www.zimmo.be/nl/etterbeek-1040/te-koop/appartement/L80LT/?search=eyJmaWx0ZXIiOiB7InN0YXR1cyI6IHsiaW4iOiBbIkZPUl9TQUxFIiwgIlRBS0VfT1ZFUiJdfSwgImNhdGVnb3J5IjogeyJpbiI6IFsiSE9VU0UiLCAiQVBBUlRNRU5UIl19LCAicHJpY2UiOiB7InVua25vd24iOiBmYWxzZSwgInJhbmdlIjogeyJtaW4iOiA1MDAwMCwgIm1heCI6IDk5OTk5fX19fQ%3D%3D&p=10"
        ],
        [
         "259",
         "L83YN",
         "Eengezinswoning (Huis)",
         "99000.0",
         "Ieperstraat",
         "54",
         "8940",
         "Geluwe",
         "157.0",
         "95.0",
         null,
         null,
         null,
         "False",
         "375.0",
         "False",
         "1930.0",
         "7.7",
         "https://www.zimmo.be/nl/geluwe-8940/te-koop/huis/L83YN/?search=eyJmaWx0ZXIiOiB7InN0YXR1cyI6IHsiaW4iOiBbIkZPUl9TQUxFIiwgIlRBS0VfT1ZFUiJdfSwgImNhdGVnb3J5IjogeyJpbiI6IFsiSE9VU0UiLCAiQVBBUlRNRU5UIl19LCAicHJpY2UiOiB7InVua25vd24iOiBmYWxzZSwgInJhbmdlIjogeyJtaW4iOiA1MDAwMCwgIm1heCI6IDk5OTk5fX19fQ%3D%3D&p=10"
        ],
        [
         "261",
         "L80F5",
         "Appartement",
         "75000.0",
         "Place Albert Ier",
         "14/15",
         "7170",
         "Fayt-lez-Manage",
         "14766.0",
         null,
         null,
         null,
         null,
         "False",
         null,
         null,
         null,
         null,
         "https://www.zimmo.be/nl/fayt-lez-manage-7170/te-koop/appartement/L80F5/?search=eyJmaWx0ZXIiOiB7InN0YXR1cyI6IHsiaW4iOiBbIkZPUl9TQUxFIiwgIlRBS0VfT1ZFUiJdfSwgImNhdGVnb3J5IjogeyJpbiI6IFsiSE9VU0UiLCAiQVBBUlRNRU5UIl19LCAicHJpY2UiOiB7InVua25vd24iOiBmYWxzZSwgInJhbmdlIjogeyJtaW4iOiA1MDAwMCwgIm1heCI6IDk5OTk5fX19fQ%3D%3D&p=10"
        ],
        [
         "264",
         "L811J",
         "Studio met slaaphoek (Appartement)",
         "95000.0",
         "Quai de l'Ecluse",
         "5",
         "5000",
         "Namur",
         "32.0",
         null,
         null,
         "1.0",
         null,
         "False",
         "196.0",
         null,
         "1969.0",
         null,
         "https://www.zimmo.be/nl/namur-5000/te-koop/appartement/L811J/?search=eyJmaWx0ZXIiOiB7InN0YXR1cyI6IHsiaW4iOiBbIkZPUl9TQUxFIiwgIlRBS0VfT1ZFUiJdfSwgImNhdGVnb3J5IjogeyJpbiI6IFsiSE9VU0UiLCAiQVBBUlRNRU5UIl19LCAicHJpY2UiOiB7InVua25vd24iOiBmYWxzZSwgInJhbmdlIjogeyJtaW4iOiA1MDAwMCwgIm1heCI6IDk5OTk5fX19fQ%3D%3D&p=10"
        ],
        [
         "267",
         "L7MJG",
         "Appartement",
         "70000.0",
         "Rue des Célestines",
         "18/4B",
         "4000",
         "Liège",
         "30.0",
         null,
         null,
         "1.0",
         null,
         "False",
         "613.0",
         null,
         null,
         null,
         "https://www.zimmo.be/nl/liege-4000/te-koop/appartement/L7MJG/?search=eyJmaWx0ZXIiOiB7InN0YXR1cyI6IHsiaW4iOiBbIkZPUl9TQUxFIiwgIlRBS0VfT1ZFUiJdfSwgImNhdGVnb3J5IjogeyJpbiI6IFsiSE9VU0UiLCAiQVBBUlRNRU5UIl19LCAicHJpY2UiOiB7InVua25vd24iOiBmYWxzZSwgInJhbmdlIjogeyJtaW4iOiA1MDAwMCwgIm1heCI6IDk5OTk5fX19fQ%3D%3D&p=11"
        ],
        [
         "289",
         "L5Q6J",
         "Appartement",
         "79000.0",
         "A. Ruzettelaan",
         "45/1",
         "8370",
         "Blankenberge",
         "37.0",
         null,
         null,
         null,
         null,
         "False",
         "238.0",
         "False",
         "1930.0",
         "8.6",
         "https://www.zimmo.be/nl/blankenberge-8370/te-koop/appartement/L5Q6J/?search=eyJmaWx0ZXIiOiB7InN0YXR1cyI6IHsiaW4iOiBbIkZPUl9TQUxFIiwgIlRBS0VfT1ZFUiJdfSwgImNhdGVnb3J5IjogeyJpbiI6IFsiSE9VU0UiLCAiQVBBUlRNRU5UIl19LCAicHJpY2UiOiB7InVua25vd24iOiBmYWxzZSwgInJhbmdlIjogeyJtaW4iOiA1MDAwMCwgIm1heCI6IDk5OTk5fX19fQ%3D%3D&p=12"
        ],
        [
         "312",
         "L701T",
         "Appartement",
         "89000.0",
         null,
         null,
         "8600",
         "Diksmuide",
         "31.0",
         null,
         null,
         "1.0",
         null,
         "False",
         "131.0",
         "False",
         null,
         "7.4",
         "https://www.zimmo.be/nl/diksmuide-8600/te-koop/appartement/L701T/?search=eyJmaWx0ZXIiOiB7InN0YXR1cyI6IHsiaW4iOiBbIkZPUl9TQUxFIiwgIlRBS0VfT1ZFUiJdfSwgImNhdGVnb3J5IjogeyJpbiI6IFsiSE9VU0UiLCAiQVBBUlRNRU5UIl19LCAicHJpY2UiOiB7InVua25vd24iOiBmYWxzZSwgInJhbmdlIjogeyJtaW4iOiA1MDAwMCwgIm1heCI6IDk5OTk5fX19fQ%3D%3D&p=13"
        ],
        [
         "335",
         "L6FJU",
         "Woning (Huis)",
         "80000.0",
         "Sprookjesbosdreef",
         "56-58",
         "8980",
         "Zonnebeke",
         "14.0",
         "2840.0",
         null,
         null,
         null,
         "False",
         "987.0",
         "True",
         "1970.0",
         "5.2",
         "https://www.zimmo.be/nl/zonnebeke-8980/te-koop/huis/L6FJU/?search=eyJmaWx0ZXIiOiB7InN0YXR1cyI6IHsiaW4iOiBbIkZPUl9TQUxFIiwgIlRBS0VfT1ZFUiJdfSwgImNhdGVnb3J5IjogeyJpbiI6IFsiSE9VU0UiLCAiQVBBUlRNRU5UIl19LCAicHJpY2UiOiB7InVua25vd24iOiBmYWxzZSwgInJhbmdlIjogeyJtaW4iOiA1MDAwMCwgIm1heCI6IDk5OTk5fX19fQ%3D%3D&p=14"
        ],
        [
         "365",
         "L664H",
         "Woning (Huis)",
         "91200.0",
         "Prinsenstraat",
         "50",
         "8940",
         "Wervik",
         null,
         "510.0",
         null,
         null,
         null,
         "False",
         null,
         "False",
         null,
         "7.8",
         "https://www.zimmo.be/nl/wervik-8940/te-koop/huis/L664H/?search=eyJmaWx0ZXIiOiB7InN0YXR1cyI6IHsiaW4iOiBbIkZPUl9TQUxFIiwgIlRBS0VfT1ZFUiJdfSwgImNhdGVnb3J5IjogeyJpbiI6IFsiSE9VU0UiLCAiQVBBUlRNRU5UIl19LCAicHJpY2UiOiB7InVua25vd24iOiBmYWxzZSwgInJhbmdlIjogeyJtaW4iOiA1MDAwMCwgIm1heCI6IDk5OTk5fX19fQ%3D%3D&p=15"
        ],
        [
         "373",
         "L4DOB",
         "Studio met slaaphoek (Appartement)",
         "99000.0",
         "Bergstraat",
         "2/3",
         "2400",
         "Mol",
         "31.0",
         null,
         null,
         "1.0",
         null,
         "False",
         "196.0",
         "False",
         "1986.0",
         "8.5",
         "https://www.zimmo.be/nl/mol-2400/te-koop/appartement/L4DOB/?search=eyJmaWx0ZXIiOiB7InN0YXR1cyI6IHsiaW4iOiBbIkZPUl9TQUxFIiwgIlRBS0VfT1ZFUiJdfSwgImNhdGVnb3J5IjogeyJpbiI6IFsiSE9VU0UiLCAiQVBBUlRNRU5UIl19LCAicHJpY2UiOiB7InVua25vd24iOiBmYWxzZSwgInJhbmdlIjogeyJtaW4iOiA1MDAwMCwgIm1heCI6IDk5OTk5fX19fQ%3D%3D&p=16"
        ],
        [
         "375",
         "L5K0R",
         "Studio (Appartement)",
         "99000.0",
         "Ijslandplein",
         "12/102",
         "8670",
         "Oostduinkerke",
         "32.0",
         null,
         null,
         "1.0",
         null,
         "False",
         "152.0",
         "False",
         null,
         "8.1",
         "https://www.zimmo.be/nl/oostduinkerke-8670/te-koop/appartement/L5K0R/?search=eyJmaWx0ZXIiOiB7InN0YXR1cyI6IHsiaW4iOiBbIkZPUl9TQUxFIiwgIlRBS0VfT1ZFUiJdfSwgImNhdGVnb3J5IjogeyJpbiI6IFsiSE9VU0UiLCAiQVBBUlRNRU5UIl19LCAicHJpY2UiOiB7InVua25vd24iOiBmYWxzZSwgInJhbmdlIjogeyJtaW4iOiA1MDAwMCwgIm1heCI6IDk5OTk5fX19fQ%3D%3D&p=16"
        ]
       ],
       "shape": {
        "columns": 18,
        "rows": 3116
       }
      },
      "text/html": [
       "<div>\n",
       "<style scoped>\n",
       "    .dataframe tbody tr th:only-of-type {\n",
       "        vertical-align: middle;\n",
       "    }\n",
       "\n",
       "    .dataframe tbody tr th {\n",
       "        vertical-align: top;\n",
       "    }\n",
       "\n",
       "    .dataframe thead th {\n",
       "        text-align: right;\n",
       "    }\n",
       "</style>\n",
       "<table border=\"1\" class=\"dataframe\">\n",
       "  <thead>\n",
       "    <tr style=\"text-align: right;\">\n",
       "      <th></th>\n",
       "      <th>zimmo_code</th>\n",
       "      <th>type</th>\n",
       "      <th>price</th>\n",
       "      <th>street</th>\n",
       "      <th>number</th>\n",
       "      <th>postcode</th>\n",
       "      <th>city</th>\n",
       "      <th>living_area(m²)</th>\n",
       "      <th>ground_area(m²)</th>\n",
       "      <th>bedroom</th>\n",
       "      <th>bathroom</th>\n",
       "      <th>garage</th>\n",
       "      <th>garden</th>\n",
       "      <th>EPC(kWh/m²)</th>\n",
       "      <th>renovation_obligation</th>\n",
       "      <th>year_built</th>\n",
       "      <th>mobiscore</th>\n",
       "      <th>url</th>\n",
       "    </tr>\n",
       "  </thead>\n",
       "  <tbody>\n",
       "    <tr>\n",
       "      <th>3</th>\n",
       "      <td>L4X2D</td>\n",
       "      <td>Vakantiewoning (Huis)</td>\n",
       "      <td>40000.0</td>\n",
       "      <td>Molenheidestraat</td>\n",
       "      <td>7</td>\n",
       "      <td>3530</td>\n",
       "      <td>Helchteren</td>\n",
       "      <td>45.0</td>\n",
       "      <td>NaN</td>\n",
       "      <td>NaN</td>\n",
       "      <td>NaN</td>\n",
       "      <td>NaN</td>\n",
       "      <td>False</td>\n",
       "      <td>NaN</td>\n",
       "      <td>False</td>\n",
       "      <td>NaN</td>\n",
       "      <td>5.3</td>\n",
       "      <td>https://www.zimmo.be/nl/helchteren-3530/te-koo...</td>\n",
       "    </tr>\n",
       "    <tr>\n",
       "      <th>12</th>\n",
       "      <td>L5Q5T</td>\n",
       "      <td>Andere (Huis)</td>\n",
       "      <td>45000.0</td>\n",
       "      <td>Hepperstraat</td>\n",
       "      <td>6</td>\n",
       "      <td>3680</td>\n",
       "      <td>Maaseik</td>\n",
       "      <td>NaN</td>\n",
       "      <td>70.0</td>\n",
       "      <td>NaN</td>\n",
       "      <td>NaN</td>\n",
       "      <td>NaN</td>\n",
       "      <td>False</td>\n",
       "      <td>NaN</td>\n",
       "      <td>False</td>\n",
       "      <td>1850.0</td>\n",
       "      <td>7.7</td>\n",
       "      <td>https://www.zimmo.be/nl/maaseik-3680/te-koop/h...</td>\n",
       "    </tr>\n",
       "    <tr>\n",
       "      <th>31</th>\n",
       "      <td>L83B7</td>\n",
       "      <td>Rijwoning (Huis)</td>\n",
       "      <td>40000.0</td>\n",
       "      <td>Kleine Gaffelstraat</td>\n",
       "      <td>18</td>\n",
       "      <td>9500</td>\n",
       "      <td>Geraardsbergen</td>\n",
       "      <td>30.0</td>\n",
       "      <td>30.0</td>\n",
       "      <td>NaN</td>\n",
       "      <td>NaN</td>\n",
       "      <td>NaN</td>\n",
       "      <td>False</td>\n",
       "      <td>690.0</td>\n",
       "      <td>True</td>\n",
       "      <td>1875.0</td>\n",
       "      <td>8.8</td>\n",
       "      <td>https://www.zimmo.be/nl/geraardsbergen-9500/te...</td>\n",
       "    </tr>\n",
       "    <tr>\n",
       "      <th>33</th>\n",
       "      <td>L5O5X</td>\n",
       "      <td>Vakantiewoning (Huis)</td>\n",
       "      <td>42500.0</td>\n",
       "      <td>Parelstrand</td>\n",
       "      <td>154</td>\n",
       "      <td>3920</td>\n",
       "      <td>Lommel</td>\n",
       "      <td>NaN</td>\n",
       "      <td>NaN</td>\n",
       "      <td>NaN</td>\n",
       "      <td>NaN</td>\n",
       "      <td>NaN</td>\n",
       "      <td>False</td>\n",
       "      <td>NaN</td>\n",
       "      <td>False</td>\n",
       "      <td>NaN</td>\n",
       "      <td>6.8</td>\n",
       "      <td>https://www.zimmo.be/nl/lommel-3920/te-koop/hu...</td>\n",
       "    </tr>\n",
       "    <tr>\n",
       "      <th>34</th>\n",
       "      <td>L7MF9</td>\n",
       "      <td>Appartement</td>\n",
       "      <td>38500.0</td>\n",
       "      <td>Dorlodotlaan</td>\n",
       "      <td>8</td>\n",
       "      <td>8670</td>\n",
       "      <td>Koksijde</td>\n",
       "      <td>NaN</td>\n",
       "      <td>NaN</td>\n",
       "      <td>NaN</td>\n",
       "      <td>NaN</td>\n",
       "      <td>NaN</td>\n",
       "      <td>False</td>\n",
       "      <td>NaN</td>\n",
       "      <td>False</td>\n",
       "      <td>1975.0</td>\n",
       "      <td>8.1</td>\n",
       "      <td>https://www.zimmo.be/nl/koksijde-8670/te-koop/...</td>\n",
       "    </tr>\n",
       "    <tr>\n",
       "      <th>...</th>\n",
       "      <td>...</td>\n",
       "      <td>...</td>\n",
       "      <td>...</td>\n",
       "      <td>...</td>\n",
       "      <td>...</td>\n",
       "      <td>...</td>\n",
       "      <td>...</td>\n",
       "      <td>...</td>\n",
       "      <td>...</td>\n",
       "      <td>...</td>\n",
       "      <td>...</td>\n",
       "      <td>...</td>\n",
       "      <td>...</td>\n",
       "      <td>...</td>\n",
       "      <td>...</td>\n",
       "      <td>...</td>\n",
       "      <td>...</td>\n",
       "      <td>...</td>\n",
       "    </tr>\n",
       "    <tr>\n",
       "      <th>25310</th>\n",
       "      <td>KA0AP</td>\n",
       "      <td>Gemengd gebruik (Huis)</td>\n",
       "      <td>2650000.0</td>\n",
       "      <td>Meensesteenweg</td>\n",
       "      <td>298</td>\n",
       "      <td>8501</td>\n",
       "      <td>Bissegem</td>\n",
       "      <td>NaN</td>\n",
       "      <td>1168.0</td>\n",
       "      <td>NaN</td>\n",
       "      <td>NaN</td>\n",
       "      <td>NaN</td>\n",
       "      <td>False</td>\n",
       "      <td>158.0</td>\n",
       "      <td>False</td>\n",
       "      <td>NaN</td>\n",
       "      <td>8.7</td>\n",
       "      <td>https://www.zimmo.be/nl/bissegem-8501/te-koop/...</td>\n",
       "    </tr>\n",
       "    <tr>\n",
       "      <th>25326</th>\n",
       "      <td>KRE0X</td>\n",
       "      <td>Woning (Huis)</td>\n",
       "      <td>1500000.0</td>\n",
       "      <td>Nieuwe Steenweg</td>\n",
       "      <td>183</td>\n",
       "      <td>8420</td>\n",
       "      <td>Klemskerke</td>\n",
       "      <td>NaN</td>\n",
       "      <td>1459.0</td>\n",
       "      <td>NaN</td>\n",
       "      <td>NaN</td>\n",
       "      <td>NaN</td>\n",
       "      <td>False</td>\n",
       "      <td>738.0</td>\n",
       "      <td>True</td>\n",
       "      <td>1970.0</td>\n",
       "      <td>7.8</td>\n",
       "      <td>https://www.zimmo.be/nl/klemskerke-8420/te-koo...</td>\n",
       "    </tr>\n",
       "    <tr>\n",
       "      <th>25339</th>\n",
       "      <td>KPG3V</td>\n",
       "      <td>Appartement</td>\n",
       "      <td>2700000.0</td>\n",
       "      <td>NaN</td>\n",
       "      <td>NaN</td>\n",
       "      <td>8620</td>\n",
       "      <td>Nieuwpoort</td>\n",
       "      <td>293.0</td>\n",
       "      <td>NaN</td>\n",
       "      <td>NaN</td>\n",
       "      <td>NaN</td>\n",
       "      <td>NaN</td>\n",
       "      <td>False</td>\n",
       "      <td>204.0</td>\n",
       "      <td>False</td>\n",
       "      <td>1992.0</td>\n",
       "      <td>7.7</td>\n",
       "      <td>https://www.zimmo.be/nl/nieuwpoort-8620/te-koo...</td>\n",
       "    </tr>\n",
       "    <tr>\n",
       "      <th>25361</th>\n",
       "      <td>KLDH7</td>\n",
       "      <td>Gemengd gebruik (Huis)</td>\n",
       "      <td>1999000.0</td>\n",
       "      <td>Paleisstraat</td>\n",
       "      <td>103</td>\n",
       "      <td>2018</td>\n",
       "      <td>Antwerpen</td>\n",
       "      <td>NaN</td>\n",
       "      <td>NaN</td>\n",
       "      <td>NaN</td>\n",
       "      <td>NaN</td>\n",
       "      <td>NaN</td>\n",
       "      <td>False</td>\n",
       "      <td>NaN</td>\n",
       "      <td>False</td>\n",
       "      <td>NaN</td>\n",
       "      <td>9.5</td>\n",
       "      <td>https://www.zimmo.be/nl/antwerpen-2018/te-koop...</td>\n",
       "    </tr>\n",
       "    <tr>\n",
       "      <th>25374</th>\n",
       "      <td>KF3EI</td>\n",
       "      <td>Woning (Huis)</td>\n",
       "      <td>9250000.0</td>\n",
       "      <td>Tiensevest</td>\n",
       "      <td>37</td>\n",
       "      <td>3000</td>\n",
       "      <td>Leuven</td>\n",
       "      <td>NaN</td>\n",
       "      <td>1255.0</td>\n",
       "      <td>NaN</td>\n",
       "      <td>1.0</td>\n",
       "      <td>22.0</td>\n",
       "      <td>False</td>\n",
       "      <td>NaN</td>\n",
       "      <td>False</td>\n",
       "      <td>NaN</td>\n",
       "      <td>9.1</td>\n",
       "      <td>https://www.zimmo.be/nl/leuven-3000/te-koop/hu...</td>\n",
       "    </tr>\n",
       "  </tbody>\n",
       "</table>\n",
       "<p>3116 rows × 18 columns</p>\n",
       "</div>"
      ],
      "text/plain": [
       "      zimmo_code                    type      price               street  \\\n",
       "3          L4X2D   Vakantiewoning (Huis)    40000.0     Molenheidestraat   \n",
       "12         L5Q5T           Andere (Huis)    45000.0         Hepperstraat   \n",
       "31         L83B7        Rijwoning (Huis)    40000.0  Kleine Gaffelstraat   \n",
       "33         L5O5X   Vakantiewoning (Huis)    42500.0          Parelstrand   \n",
       "34         L7MF9             Appartement    38500.0         Dorlodotlaan   \n",
       "...          ...                     ...        ...                  ...   \n",
       "25310      KA0AP  Gemengd gebruik (Huis)  2650000.0       Meensesteenweg   \n",
       "25326      KRE0X           Woning (Huis)  1500000.0      Nieuwe Steenweg   \n",
       "25339      KPG3V             Appartement  2700000.0                  NaN   \n",
       "25361      KLDH7  Gemengd gebruik (Huis)  1999000.0         Paleisstraat   \n",
       "25374      KF3EI           Woning (Huis)  9250000.0           Tiensevest   \n",
       "\n",
       "      number postcode            city  living_area(m²)  ground_area(m²)  \\\n",
       "3          7     3530      Helchteren             45.0              NaN   \n",
       "12         6     3680         Maaseik              NaN             70.0   \n",
       "31        18     9500  Geraardsbergen             30.0             30.0   \n",
       "33       154     3920          Lommel              NaN              NaN   \n",
       "34         8     8670        Koksijde              NaN              NaN   \n",
       "...      ...      ...             ...              ...              ...   \n",
       "25310    298     8501        Bissegem              NaN           1168.0   \n",
       "25326    183     8420      Klemskerke              NaN           1459.0   \n",
       "25339    NaN     8620      Nieuwpoort            293.0              NaN   \n",
       "25361    103     2018       Antwerpen              NaN              NaN   \n",
       "25374     37     3000          Leuven              NaN           1255.0   \n",
       "\n",
       "       bedroom  bathroom  garage  garden  EPC(kWh/m²) renovation_obligation  \\\n",
       "3          NaN       NaN     NaN   False          NaN                 False   \n",
       "12         NaN       NaN     NaN   False          NaN                 False   \n",
       "31         NaN       NaN     NaN   False        690.0                  True   \n",
       "33         NaN       NaN     NaN   False          NaN                 False   \n",
       "34         NaN       NaN     NaN   False          NaN                 False   \n",
       "...        ...       ...     ...     ...          ...                   ...   \n",
       "25310      NaN       NaN     NaN   False        158.0                 False   \n",
       "25326      NaN       NaN     NaN   False        738.0                  True   \n",
       "25339      NaN       NaN     NaN   False        204.0                 False   \n",
       "25361      NaN       NaN     NaN   False          NaN                 False   \n",
       "25374      NaN       1.0    22.0   False          NaN                 False   \n",
       "\n",
       "       year_built  mobiscore  \\\n",
       "3             NaN        5.3   \n",
       "12         1850.0        7.7   \n",
       "31         1875.0        8.8   \n",
       "33            NaN        6.8   \n",
       "34         1975.0        8.1   \n",
       "...           ...        ...   \n",
       "25310         NaN        8.7   \n",
       "25326      1970.0        7.8   \n",
       "25339      1992.0        7.7   \n",
       "25361         NaN        9.5   \n",
       "25374         NaN        9.1   \n",
       "\n",
       "                                                     url  \n",
       "3      https://www.zimmo.be/nl/helchteren-3530/te-koo...  \n",
       "12     https://www.zimmo.be/nl/maaseik-3680/te-koop/h...  \n",
       "31     https://www.zimmo.be/nl/geraardsbergen-9500/te...  \n",
       "33     https://www.zimmo.be/nl/lommel-3920/te-koop/hu...  \n",
       "34     https://www.zimmo.be/nl/koksijde-8670/te-koop/...  \n",
       "...                                                  ...  \n",
       "25310  https://www.zimmo.be/nl/bissegem-8501/te-koop/...  \n",
       "25326  https://www.zimmo.be/nl/klemskerke-8420/te-koo...  \n",
       "25339  https://www.zimmo.be/nl/nieuwpoort-8620/te-koo...  \n",
       "25361  https://www.zimmo.be/nl/antwerpen-2018/te-koop...  \n",
       "25374  https://www.zimmo.be/nl/leuven-3000/te-koop/hu...  \n",
       "\n",
       "[3116 rows x 18 columns]"
      ]
     },
     "execution_count": 78,
     "metadata": {},
     "output_type": "execute_result"
    }
   ],
   "source": [
    "## Drop these records\n",
    "raw_df[raw_df[['bedroom']].isna().all(axis=1)]"
   ]
  },
  {
   "cell_type": "code",
   "execution_count": null,
   "id": "2accb40c",
   "metadata": {},
   "outputs": [
    {
     "data": {
      "application/vnd.microsoft.datawrangler.viewer.v0+json": {
       "columns": [
        {
         "name": "index",
         "rawType": "int64",
         "type": "integer"
        },
        {
         "name": "zimmo_code",
         "rawType": "object",
         "type": "string"
        },
        {
         "name": "type",
         "rawType": "object",
         "type": "string"
        },
        {
         "name": "price",
         "rawType": "float64",
         "type": "float"
        },
        {
         "name": "street",
         "rawType": "object",
         "type": "unknown"
        },
        {
         "name": "number",
         "rawType": "object",
         "type": "unknown"
        },
        {
         "name": "postcode",
         "rawType": "object",
         "type": "string"
        },
        {
         "name": "city",
         "rawType": "object",
         "type": "string"
        },
        {
         "name": "living_area(m²)",
         "rawType": "float64",
         "type": "float"
        },
        {
         "name": "ground_area(m²)",
         "rawType": "float64",
         "type": "float"
        },
        {
         "name": "bedroom",
         "rawType": "float64",
         "type": "float"
        },
        {
         "name": "bathroom",
         "rawType": "float64",
         "type": "float"
        },
        {
         "name": "garage",
         "rawType": "float64",
         "type": "float"
        },
        {
         "name": "garden",
         "rawType": "bool",
         "type": "boolean"
        },
        {
         "name": "EPC(kWh/m²)",
         "rawType": "float64",
         "type": "float"
        },
        {
         "name": "renovation_obligation",
         "rawType": "object",
         "type": "unknown"
        },
        {
         "name": "year_built",
         "rawType": "float64",
         "type": "float"
        },
        {
         "name": "mobiscore",
         "rawType": "float64",
         "type": "float"
        },
        {
         "name": "url",
         "rawType": "object",
         "type": "string"
        }
       ],
       "ref": "a2bc3382-fa94-4edf-abff-7e8a11d29ea5",
       "rows": [
        [
         "3",
         "L4X2D",
         "Vakantiewoning (Huis)",
         "40000.0",
         "Molenheidestraat",
         "7",
         "3530",
         "Helchteren",
         "45.0",
         null,
         null,
         null,
         null,
         "False",
         null,
         "False",
         null,
         "5.3",
         "https://www.zimmo.be/nl/helchteren-3530/te-koop/huis/L4X2D/?search=eyJmaWx0ZXIiOiB7InN0YXR1cyI6IHsiaW4iOiBbIkZPUl9TQUxFIiwgIlRBS0VfT1ZFUiJdfSwgImNhdGVnb3J5IjogeyJpbiI6IFsiSE9VU0UiLCAiQVBBUlRNRU5UIl19LCAicHJpY2UiOiB7InVua25vd24iOiBmYWxzZSwgInJhbmdlIjogeyJtaW4iOiAwLCAibWF4IjogNDk5OTl9fX19&boosted=1"
        ],
        [
         "12",
         "L5Q5T",
         "Andere (Huis)",
         "45000.0",
         "Hepperstraat",
         "6",
         "3680",
         "Maaseik",
         null,
         "70.0",
         null,
         null,
         null,
         "False",
         null,
         "False",
         "1850.0",
         "7.7",
         "https://www.zimmo.be/nl/maaseik-3680/te-koop/huis/L5Q5T/?search=eyJmaWx0ZXIiOiB7InN0YXR1cyI6IHsiaW4iOiBbIkZPUl9TQUxFIiwgIlRBS0VfT1ZFUiJdfSwgImNhdGVnb3J5IjogeyJpbiI6IFsiSE9VU0UiLCAiQVBBUlRNRU5UIl19LCAicHJpY2UiOiB7InVua25vd24iOiBmYWxzZSwgInJhbmdlIjogeyJtaW4iOiAwLCAibWF4IjogNDk5OTl9fX19"
        ],
        [
         "31",
         "L83B7",
         "Rijwoning (Huis)",
         "40000.0",
         "Kleine Gaffelstraat",
         "18",
         "9500",
         "Geraardsbergen",
         "30.0",
         "30.0",
         null,
         null,
         null,
         "False",
         "690.0",
         "True",
         "1875.0",
         "8.8",
         "https://www.zimmo.be/nl/geraardsbergen-9500/te-koop/huis/L83B7/?search=eyJmaWx0ZXIiOiB7InN0YXR1cyI6IHsiaW4iOiBbIkZPUl9TQUxFIiwgIlRBS0VfT1ZFUiJdfSwgImNhdGVnb3J5IjogeyJpbiI6IFsiSE9VU0UiLCAiQVBBUlRNRU5UIl19LCAicHJpY2UiOiB7InVua25vd24iOiBmYWxzZSwgInJhbmdlIjogeyJtaW4iOiAwLCAibWF4IjogNDk5OTl9fX19&p=2"
        ],
        [
         "33",
         "L5O5X",
         "Vakantiewoning (Huis)",
         "42500.0",
         "Parelstrand",
         "154",
         "3920",
         "Lommel",
         null,
         null,
         null,
         null,
         null,
         "False",
         null,
         "False",
         null,
         "6.8",
         "https://www.zimmo.be/nl/lommel-3920/te-koop/huis/L5O5X/?search=eyJmaWx0ZXIiOiB7InN0YXR1cyI6IHsiaW4iOiBbIkZPUl9TQUxFIiwgIlRBS0VfT1ZFUiJdfSwgImNhdGVnb3J5IjogeyJpbiI6IFsiSE9VU0UiLCAiQVBBUlRNRU5UIl19LCAicHJpY2UiOiB7InVua25vd24iOiBmYWxzZSwgInJhbmdlIjogeyJtaW4iOiAwLCAibWF4IjogNDk5OTl9fX19&p=2"
        ],
        [
         "34",
         "L7MF9",
         "Appartement",
         "38500.0",
         "Dorlodotlaan",
         "8",
         "8670",
         "Koksijde",
         null,
         null,
         null,
         null,
         null,
         "False",
         null,
         "False",
         "1975.0",
         "8.1",
         "https://www.zimmo.be/nl/koksijde-8670/te-koop/appartement/L7MF9/?search=eyJmaWx0ZXIiOiB7InN0YXR1cyI6IHsiaW4iOiBbIkZPUl9TQUxFIiwgIlRBS0VfT1ZFUiJdfSwgImNhdGVnb3J5IjogeyJpbiI6IFsiSE9VU0UiLCAiQVBBUlRNRU5UIl19LCAicHJpY2UiOiB7InVua25vd24iOiBmYWxzZSwgInJhbmdlIjogeyJtaW4iOiAwLCAibWF4IjogNDk5OTl9fX19&p=2"
        ],
        [
         "44",
         "L3Q5V",
         "Gemengd gebruik (Huis)",
         "25000.0",
         "Rue Appâa",
         "15",
         "7340",
         "Wasmes",
         null,
         null,
         null,
         null,
         "1.0",
         "False",
         null,
         null,
         null,
         null,
         "https://www.zimmo.be/nl/wasmes-7340/te-koop/huis/L3Q5V/?search=eyJmaWx0ZXIiOiB7InN0YXR1cyI6IHsiaW4iOiBbIkZPUl9TQUxFIiwgIlRBS0VfT1ZFUiJdfSwgImNhdGVnb3J5IjogeyJpbiI6IFsiSE9VU0UiLCAiQVBBUlRNRU5UIl19LCAicHJpY2UiOiB7InVua25vd24iOiBmYWxzZSwgInJhbmdlIjogeyJtaW4iOiAwLCAibWF4IjogNDk5OTl9fX19&p=3"
        ],
        [
         "46",
         "KZ1LC",
         "Vakantiewoning (Huis)",
         "49000.0",
         "Spechtstraat",
         "57",
         "3730",
         "Sint-Huibrechts-Hern",
         "55.0",
         null,
         null,
         null,
         null,
         "False",
         "2081.0",
         "True",
         null,
         "5.0",
         "https://www.zimmo.be/nl/sint-huibrechts-hern-3730/te-koop/huis/KZ1LC/?search=eyJmaWx0ZXIiOiB7InN0YXR1cyI6IHsiaW4iOiBbIkZPUl9TQUxFIiwgIlRBS0VfT1ZFUiJdfSwgImNhdGVnb3J5IjogeyJpbiI6IFsiSE9VU0UiLCAiQVBBUlRNRU5UIl19LCAicHJpY2UiOiB7InVua25vd24iOiBmYWxzZSwgInJhbmdlIjogeyJtaW4iOiAwLCAibWF4IjogNDk5OTl9fX19&p=3"
        ],
        [
         "49",
         "L3VPC",
         "Woning (Huis)",
         "29000.0",
         "Morelgem",
         null,
         "9520",
         "Vlierzele",
         null,
         null,
         null,
         null,
         null,
         "False",
         null,
         "False",
         null,
         null,
         "https://www.zimmo.be/nl/vlierzele-9520/te-koop/huis/L3VPC/?search=eyJmaWx0ZXIiOiB7InN0YXR1cyI6IHsiaW4iOiBbIkZPUl9TQUxFIiwgIlRBS0VfT1ZFUiJdfSwgImNhdGVnb3J5IjogeyJpbiI6IFsiSE9VU0UiLCAiQVBBUlRNRU5UIl19LCAicHJpY2UiOiB7InVua25vd24iOiBmYWxzZSwgInJhbmdlIjogeyJtaW4iOiAwLCAibWF4IjogNDk5OTl9fX19&p=3"
        ],
        [
         "57",
         "KXLWR",
         "Studio met slaaphoek (Appartement)",
         "29990.0",
         "krommedijk",
         null,
         "8301",
         "Duinbergen",
         null,
         null,
         null,
         null,
         null,
         "False",
         "0.0",
         "False",
         null,
         "8.4",
         "https://www.zimmo.be/nl/duinbergen-8301/te-koop/appartement/KXLWR/?search=eyJmaWx0ZXIiOiB7InN0YXR1cyI6IHsiaW4iOiBbIkZPUl9TQUxFIiwgIlRBS0VfT1ZFUiJdfSwgImNhdGVnb3J5IjogeyJpbiI6IFsiSE9VU0UiLCAiQVBBUlRNRU5UIl19LCAicHJpY2UiOiB7InVua25vd24iOiBmYWxzZSwgInJhbmdlIjogeyJtaW4iOiAwLCAibWF4IjogNDk5OTl9fX19&p=3"
        ],
        [
         "72",
         "L9VU2",
         "Woning (Huis)",
         "89000.0",
         "Doorniksesteenweg",
         null,
         "8582",
         "Outrijve",
         null,
         "99.0",
         null,
         null,
         null,
         "False",
         "1144.0",
         "True",
         null,
         "5.9",
         "https://www.zimmo.be/nl/outrijve-8582/te-koop/huis/L9VU2/?search=eyJmaWx0ZXIiOiB7InN0YXR1cyI6IHsiaW4iOiBbIkZPUl9TQUxFIiwgIlRBS0VfT1ZFUiJdfSwgImNhdGVnb3J5IjogeyJpbiI6IFsiSE9VU0UiLCAiQVBBUlRNRU5UIl19LCAicHJpY2UiOiB7InVua25vd24iOiBmYWxzZSwgInJhbmdlIjogeyJtaW4iOiA1MDAwMCwgIm1heCI6IDk5OTk5fX19fQ%3D%3D"
        ],
        [
         "80",
         "L9OBV",
         "Woning (Huis)",
         "89000.0",
         "Torhoutstraat",
         "2",
         "8650",
         "Klerken",
         "46.0",
         "560.0",
         null,
         null,
         null,
         "True",
         "1761.0",
         "True",
         null,
         "5.4",
         "https://www.zimmo.be/nl/klerken-8650/te-koop/huis/L9OBV/?search=eyJmaWx0ZXIiOiB7InN0YXR1cyI6IHsiaW4iOiBbIkZPUl9TQUxFIiwgIlRBS0VfT1ZFUiJdfSwgImNhdGVnb3J5IjogeyJpbiI6IFsiSE9VU0UiLCAiQVBBUlRNRU5UIl19LCAicHJpY2UiOiB7InVua25vd24iOiBmYWxzZSwgInJhbmdlIjogeyJtaW4iOiA1MDAwMCwgIm1heCI6IDk5OTk5fX19fQ%3D%3D&p=2"
        ],
        [
         "95",
         "KXOGG",
         "Chalet (Huis)",
         "54000.0",
         "Roelerweg zn",
         null,
         "3690",
         "Zutendaal",
         "27.0",
         "836.0",
         null,
         null,
         null,
         "False",
         "1395.0",
         "True",
         "1970.0",
         "6.4",
         "https://www.zimmo.be/nl/zutendaal-3690/te-koop/huis/KXOGG/?search=eyJmaWx0ZXIiOiB7InN0YXR1cyI6IHsiaW4iOiBbIkZPUl9TQUxFIiwgIlRBS0VfT1ZFUiJdfSwgImNhdGVnb3J5IjogeyJpbiI6IFsiSE9VU0UiLCAiQVBBUlRNRU5UIl19LCAicHJpY2UiOiB7InVua25vd24iOiBmYWxzZSwgInJhbmdlIjogeyJtaW4iOiA1MDAwMCwgIm1heCI6IDk5OTk5fX19fQ%3D%3D&p=2"
        ],
        [
         "101",
         "L9J98",
         "Woning (Huis)",
         "98000.0",
         null,
         null,
         "6142",
         "Leernes",
         "200.0",
         "190.0",
         null,
         null,
         null,
         "False",
         null,
         null,
         null,
         null,
         "https://www.zimmo.be/nl/leernes-6142/te-koop/huis/L9J98/?search=eyJmaWx0ZXIiOiB7InN0YXR1cyI6IHsiaW4iOiBbIkZPUl9TQUxFIiwgIlRBS0VfT1ZFUiJdfSwgImNhdGVnb3J5IjogeyJpbiI6IFsiSE9VU0UiLCAiQVBBUlRNRU5UIl19LCAicHJpY2UiOiB7InVua25vd24iOiBmYWxzZSwgInJhbmdlIjogeyJtaW4iOiA1MDAwMCwgIm1heCI6IDk5OTk5fX19fQ%3D%3D&p=3"
        ],
        [
         "104",
         "L479I",
         "Studio met slaaphoek (Appartement)",
         "99000.0",
         "Kielenstraat",
         "73/5",
         "3700",
         "Tongeren",
         null,
         null,
         null,
         null,
         null,
         "False",
         "210.0",
         "False",
         "1966.0",
         "7.9",
         "https://www.zimmo.be/nl/tongeren-3700/te-koop/appartement/L479I/?search=eyJmaWx0ZXIiOiB7InN0YXR1cyI6IHsiaW4iOiBbIkZPUl9TQUxFIiwgIlRBS0VfT1ZFUiJdfSwgImNhdGVnb3J5IjogeyJpbiI6IFsiSE9VU0UiLCAiQVBBUlRNRU5UIl19LCAicHJpY2UiOiB7InVua25vd24iOiBmYWxzZSwgInJhbmdlIjogeyJtaW4iOiA1MDAwMCwgIm1heCI6IDk5OTk5fX19fQ%3D%3D&p=3"
        ],
        [
         "116",
         "L9HB2",
         "Chalet (Huis)",
         "68500.0",
         "Rue du Village",
         "2/113",
         "5542",
         "Blaimont",
         "40.0",
         "343.0",
         null,
         null,
         null,
         "False",
         null,
         null,
         "1970.0",
         null,
         "https://www.zimmo.be/nl/blaimont-5542/te-koop/huis/L9HB2/?search=eyJmaWx0ZXIiOiB7InN0YXR1cyI6IHsiaW4iOiBbIkZPUl9TQUxFIiwgIlRBS0VfT1ZFUiJdfSwgImNhdGVnb3J5IjogeyJpbiI6IFsiSE9VU0UiLCAiQVBBUlRNRU5UIl19LCAicHJpY2UiOiB7InVua25vd24iOiBmYWxzZSwgInJhbmdlIjogeyJtaW4iOiA1MDAwMCwgIm1heCI6IDk5OTk5fX19fQ%3D%3D&p=3"
        ],
        [
         "185",
         "L8QUU",
         "Studio (Appartement)",
         "95000.0",
         "Franslaan",
         "100",
         "8620",
         "Nieuwpoort",
         "27.0",
         null,
         null,
         null,
         null,
         "True",
         "686.0",
         "True",
         "1973.0",
         "7.6",
         "https://www.zimmo.be/nl/nieuwpoort-8620/te-koop/appartement/L8QUU/?search=eyJmaWx0ZXIiOiB7InN0YXR1cyI6IHsiaW4iOiBbIkZPUl9TQUxFIiwgIlRBS0VfT1ZFUiJdfSwgImNhdGVnb3J5IjogeyJpbiI6IFsiSE9VU0UiLCAiQVBBUlRNRU5UIl19LCAicHJpY2UiOiB7InVua25vd24iOiBmYWxzZSwgInJhbmdlIjogeyJtaW4iOiA1MDAwMCwgIm1heCI6IDk5OTk5fX19fQ%3D%3D&p=7"
        ],
        [
         "206",
         "L8HUB",
         "Appartement",
         "95000.0",
         "Lakborslei",
         "305",
         "2100",
         "Deurne",
         null,
         null,
         null,
         null,
         null,
         "False",
         "937.0",
         "True",
         "1931.0",
         "9.1",
         "https://www.zimmo.be/nl/deurne-2100/te-koop/appartement/L8HUB/?search=eyJmaWx0ZXIiOiB7InN0YXR1cyI6IHsiaW4iOiBbIkZPUl9TQUxFIiwgIlRBS0VfT1ZFUiJdfSwgImNhdGVnb3J5IjogeyJpbiI6IFsiSE9VU0UiLCAiQVBBUlRNRU5UIl19LCAicHJpY2UiOiB7InVua25vd24iOiBmYWxzZSwgInJhbmdlIjogeyJtaW4iOiA1MDAwMCwgIm1heCI6IDk5OTk5fX19fQ%3D%3D&p=8"
        ],
        [
         "214",
         "L8HSO",
         "Woning (Huis)",
         "50000.0",
         "Wittenweg",
         "18",
         "3440",
         "Dormaal",
         null,
         "731.0",
         null,
         null,
         null,
         "False",
         "1389.0",
         "True",
         "1930.0",
         "5.9",
         "https://www.zimmo.be/nl/dormaal-3440/te-koop/huis/L8HSO/?search=eyJmaWx0ZXIiOiB7InN0YXR1cyI6IHsiaW4iOiBbIkZPUl9TQUxFIiwgIlRBS0VfT1ZFUiJdfSwgImNhdGVnb3J5IjogeyJpbiI6IFsiSE9VU0UiLCAiQVBBUlRNRU5UIl19LCAicHJpY2UiOiB7InVua25vd24iOiBmYWxzZSwgInJhbmdlIjogeyJtaW4iOiA1MDAwMCwgIm1heCI6IDk5OTk5fX19fQ%3D%3D&p=8"
        ],
        [
         "246",
         "L83QI",
         "Appartement",
         "99900.0",
         "Rue de la Province",
         "24",
         "4000",
         "Liège",
         "36.0",
         null,
         null,
         null,
         null,
         "False",
         "504.0",
         null,
         "1977.0",
         null,
         "https://www.zimmo.be/nl/liege-4000/te-koop/appartement/L83QI/?search=eyJmaWx0ZXIiOiB7InN0YXR1cyI6IHsiaW4iOiBbIkZPUl9TQUxFIiwgIlRBS0VfT1ZFUiJdfSwgImNhdGVnb3J5IjogeyJpbiI6IFsiSE9VU0UiLCAiQVBBUlRNRU5UIl19LCAicHJpY2UiOiB7InVua25vd24iOiBmYWxzZSwgInJhbmdlIjogeyJtaW4iOiA1MDAwMCwgIm1heCI6IDk5OTk5fX19fQ%3D%3D&p=10"
        ],
        [
         "247",
         "L6LFO",
         "Studio met slaaphoek (Appartement)",
         "69000.0",
         "Lalouxlaan",
         "1/104",
         "8670",
         "Koksijde",
         "22.0",
         null,
         null,
         null,
         null,
         "False",
         null,
         "False",
         null,
         "8.4",
         "https://www.zimmo.be/nl/koksijde-8670/te-koop/appartement/L6LFO/?search=eyJmaWx0ZXIiOiB7InN0YXR1cyI6IHsiaW4iOiBbIkZPUl9TQUxFIiwgIlRBS0VfT1ZFUiJdfSwgImNhdGVnb3J5IjogeyJpbiI6IFsiSE9VU0UiLCAiQVBBUlRNRU5UIl19LCAicHJpY2UiOiB7InVua25vd24iOiBmYWxzZSwgInJhbmdlIjogeyJtaW4iOiA1MDAwMCwgIm1heCI6IDk5OTk5fX19fQ%3D%3D&p=10"
        ],
        [
         "251",
         "L7YOU",
         "Chalet (Huis)",
         "50000.0",
         null,
         null,
         "6464",
         "Forges",
         null,
         null,
         null,
         null,
         null,
         "False",
         null,
         null,
         null,
         null,
         "https://www.zimmo.be/nl/forges-6464/te-koop/huis/L7YOU/?search=eyJmaWx0ZXIiOiB7InN0YXR1cyI6IHsiaW4iOiBbIkZPUl9TQUxFIiwgIlRBS0VfT1ZFUiJdfSwgImNhdGVnb3J5IjogeyJpbiI6IFsiSE9VU0UiLCAiQVBBUlRNRU5UIl19LCAicHJpY2UiOiB7InVua25vd24iOiBmYWxzZSwgInJhbmdlIjogeyJtaW4iOiA1MDAwMCwgIm1heCI6IDk5OTk5fX19fQ%3D%3D&p=10"
        ],
        [
         "252",
         "L80LT",
         "Studio (Appartement)",
         "95000.0",
         "de Theuxstraat",
         "140",
         "1040",
         "Etterbeek",
         "22.0",
         null,
         null,
         null,
         null,
         "False",
         "311.0",
         null,
         null,
         "9.4",
         "https://www.zimmo.be/nl/etterbeek-1040/te-koop/appartement/L80LT/?search=eyJmaWx0ZXIiOiB7InN0YXR1cyI6IHsiaW4iOiBbIkZPUl9TQUxFIiwgIlRBS0VfT1ZFUiJdfSwgImNhdGVnb3J5IjogeyJpbiI6IFsiSE9VU0UiLCAiQVBBUlRNRU5UIl19LCAicHJpY2UiOiB7InVua25vd24iOiBmYWxzZSwgInJhbmdlIjogeyJtaW4iOiA1MDAwMCwgIm1heCI6IDk5OTk5fX19fQ%3D%3D&p=10"
        ],
        [
         "259",
         "L83YN",
         "Eengezinswoning (Huis)",
         "99000.0",
         "Ieperstraat",
         "54",
         "8940",
         "Geluwe",
         "157.0",
         "95.0",
         null,
         null,
         null,
         "False",
         "375.0",
         "False",
         "1930.0",
         "7.7",
         "https://www.zimmo.be/nl/geluwe-8940/te-koop/huis/L83YN/?search=eyJmaWx0ZXIiOiB7InN0YXR1cyI6IHsiaW4iOiBbIkZPUl9TQUxFIiwgIlRBS0VfT1ZFUiJdfSwgImNhdGVnb3J5IjogeyJpbiI6IFsiSE9VU0UiLCAiQVBBUlRNRU5UIl19LCAicHJpY2UiOiB7InVua25vd24iOiBmYWxzZSwgInJhbmdlIjogeyJtaW4iOiA1MDAwMCwgIm1heCI6IDk5OTk5fX19fQ%3D%3D&p=10"
        ],
        [
         "261",
         "L80F5",
         "Appartement",
         "75000.0",
         "Place Albert Ier",
         "14/15",
         "7170",
         "Fayt-lez-Manage",
         "14766.0",
         null,
         null,
         null,
         null,
         "False",
         null,
         null,
         null,
         null,
         "https://www.zimmo.be/nl/fayt-lez-manage-7170/te-koop/appartement/L80F5/?search=eyJmaWx0ZXIiOiB7InN0YXR1cyI6IHsiaW4iOiBbIkZPUl9TQUxFIiwgIlRBS0VfT1ZFUiJdfSwgImNhdGVnb3J5IjogeyJpbiI6IFsiSE9VU0UiLCAiQVBBUlRNRU5UIl19LCAicHJpY2UiOiB7InVua25vd24iOiBmYWxzZSwgInJhbmdlIjogeyJtaW4iOiA1MDAwMCwgIm1heCI6IDk5OTk5fX19fQ%3D%3D&p=10"
        ],
        [
         "289",
         "L5Q6J",
         "Appartement",
         "79000.0",
         "A. Ruzettelaan",
         "45/1",
         "8370",
         "Blankenberge",
         "37.0",
         null,
         null,
         null,
         null,
         "False",
         "238.0",
         "False",
         "1930.0",
         "8.6",
         "https://www.zimmo.be/nl/blankenberge-8370/te-koop/appartement/L5Q6J/?search=eyJmaWx0ZXIiOiB7InN0YXR1cyI6IHsiaW4iOiBbIkZPUl9TQUxFIiwgIlRBS0VfT1ZFUiJdfSwgImNhdGVnb3J5IjogeyJpbiI6IFsiSE9VU0UiLCAiQVBBUlRNRU5UIl19LCAicHJpY2UiOiB7InVua25vd24iOiBmYWxzZSwgInJhbmdlIjogeyJtaW4iOiA1MDAwMCwgIm1heCI6IDk5OTk5fX19fQ%3D%3D&p=12"
        ],
        [
         "335",
         "L6FJU",
         "Woning (Huis)",
         "80000.0",
         "Sprookjesbosdreef",
         "56-58",
         "8980",
         "Zonnebeke",
         "14.0",
         "2840.0",
         null,
         null,
         null,
         "False",
         "987.0",
         "True",
         "1970.0",
         "5.2",
         "https://www.zimmo.be/nl/zonnebeke-8980/te-koop/huis/L6FJU/?search=eyJmaWx0ZXIiOiB7InN0YXR1cyI6IHsiaW4iOiBbIkZPUl9TQUxFIiwgIlRBS0VfT1ZFUiJdfSwgImNhdGVnb3J5IjogeyJpbiI6IFsiSE9VU0UiLCAiQVBBUlRNRU5UIl19LCAicHJpY2UiOiB7InVua25vd24iOiBmYWxzZSwgInJhbmdlIjogeyJtaW4iOiA1MDAwMCwgIm1heCI6IDk5OTk5fX19fQ%3D%3D&p=14"
        ],
        [
         "365",
         "L664H",
         "Woning (Huis)",
         "91200.0",
         "Prinsenstraat",
         "50",
         "8940",
         "Wervik",
         null,
         "510.0",
         null,
         null,
         null,
         "False",
         null,
         "False",
         null,
         "7.8",
         "https://www.zimmo.be/nl/wervik-8940/te-koop/huis/L664H/?search=eyJmaWx0ZXIiOiB7InN0YXR1cyI6IHsiaW4iOiBbIkZPUl9TQUxFIiwgIlRBS0VfT1ZFUiJdfSwgImNhdGVnb3J5IjogeyJpbiI6IFsiSE9VU0UiLCAiQVBBUlRNRU5UIl19LCAicHJpY2UiOiB7InVua25vd24iOiBmYWxzZSwgInJhbmdlIjogeyJtaW4iOiA1MDAwMCwgIm1heCI6IDk5OTk5fX19fQ%3D%3D&p=15"
        ],
        [
         "425",
         "L4MML",
         "Woning (Huis)",
         "78000.0",
         "Chemin du Bue",
         "6",
         "7750",
         "Anseroeul",
         null,
         "541.0",
         null,
         null,
         null,
         "True",
         null,
         null,
         null,
         null,
         "https://www.zimmo.be/nl/anseroeul-7750/te-koop/huis/L4MML/?search=eyJmaWx0ZXIiOiB7InN0YXR1cyI6IHsiaW4iOiBbIkZPUl9TQUxFIiwgIlRBS0VfT1ZFUiJdfSwgImNhdGVnb3J5IjogeyJpbiI6IFsiSE9VU0UiLCAiQVBBUlRNRU5UIl19LCAicHJpY2UiOiB7InVua25vd24iOiBmYWxzZSwgInJhbmdlIjogeyJtaW4iOiA1MDAwMCwgIm1heCI6IDk5OTk5fX19fQ%3D%3D&p=18"
        ],
        [
         "429",
         "L41NG",
         "Eengezinswoning (Huis)",
         "79000.0",
         "Lindebornstraat",
         "30",
         "3700",
         "Tongeren",
         null,
         null,
         null,
         null,
         null,
         "False",
         null,
         "False",
         null,
         "5.5",
         "https://www.zimmo.be/nl/tongeren-3700/te-koop/huis/L41NG/?search=eyJmaWx0ZXIiOiB7InN0YXR1cyI6IHsiaW4iOiBbIkZPUl9TQUxFIiwgIlRBS0VfT1ZFUiJdfSwgImNhdGVnb3J5IjogeyJpbiI6IFsiSE9VU0UiLCAiQVBBUlRNRU5UIl19LCAicHJpY2UiOiB7InVua25vd24iOiBmYWxzZSwgInJhbmdlIjogeyJtaW4iOiA1MDAwMCwgIm1heCI6IDk5OTk5fX19fQ%3D%3D&p=18"
        ],
        [
         "443",
         "L2IO1",
         "Studio (Appartement)",
         "99000.0",
         "Kustlaan",
         "99",
         "8380",
         "Zeebrugge",
         null,
         null,
         null,
         null,
         null,
         "False",
         null,
         "False",
         "2017.0",
         "8.0",
         "https://www.zimmo.be/nl/zeebrugge-8380/te-koop/appartement/L2IO1/?search=eyJmaWx0ZXIiOiB7InN0YXR1cyI6IHsiaW4iOiBbIkZPUl9TQUxFIiwgIlRBS0VfT1ZFUiJdfSwgImNhdGVnb3J5IjogeyJpbiI6IFsiSE9VU0UiLCAiQVBBUlRNRU5UIl19LCAicHJpY2UiOiB7InVua25vd24iOiBmYWxzZSwgInJhbmdlIjogeyJtaW4iOiA1MDAwMCwgIm1heCI6IDk5OTk5fX19fQ%3D%3D&p=19"
        ],
        [
         "489",
         "L1X1B",
         "Woning (Huis)",
         "79000.0",
         "Lindebornstraat",
         "30",
         "3700",
         "'s Herenelderen",
         null,
         null,
         null,
         null,
         null,
         "False",
         "965.0",
         "True",
         null,
         "5.5",
         "https://www.zimmo.be/nl/s-herenelderen-3700/te-koop/huis/L1X1B/?search=eyJmaWx0ZXIiOiB7InN0YXR1cyI6IHsiaW4iOiBbIkZPUl9TQUxFIiwgIlRBS0VfT1ZFUiJdfSwgImNhdGVnb3J5IjogeyJpbiI6IFsiSE9VU0UiLCAiQVBBUlRNRU5UIl19LCAicHJpY2UiOiB7InVua25vd24iOiBmYWxzZSwgInJhbmdlIjogeyJtaW4iOiA1MDAwMCwgIm1heCI6IDk5OTk5fX19fQ%3D%3D&p=21"
        ],
        [
         "517",
         "L0NM3",
         "Woning (Huis)",
         "94000.0",
         "Scheldekant",
         "1",
         "9890",
         "Asper",
         null,
         "14463.0",
         null,
         null,
         null,
         "False",
         null,
         "False",
         null,
         "5.4",
         "https://www.zimmo.be/nl/asper-9890/te-koop/huis/L0NM3/?search=eyJmaWx0ZXIiOiB7InN0YXR1cyI6IHsiaW4iOiBbIkZPUl9TQUxFIiwgIlRBS0VfT1ZFUiJdfSwgImNhdGVnb3J5IjogeyJpbiI6IFsiSE9VU0UiLCAiQVBBUlRNRU5UIl19LCAicHJpY2UiOiB7InVua25vd24iOiBmYWxzZSwgInJhbmdlIjogeyJtaW4iOiA1MDAwMCwgIm1heCI6IDk5OTk5fX19fQ%3D%3D&p=23"
        ],
        [
         "537",
         "KX2VR",
         "Appartement",
         "95000.0",
         "Avenue Léopold II",
         "40",
         "4900",
         "Spa",
         null,
         null,
         null,
         null,
         null,
         "False",
         null,
         null,
         null,
         null,
         "https://www.zimmo.be/nl/spa-4900/te-koop/appartement/KX2VR/?search=eyJmaWx0ZXIiOiB7InN0YXR1cyI6IHsiaW4iOiBbIkZPUl9TQUxFIiwgIlRBS0VfT1ZFUiJdfSwgImNhdGVnb3J5IjogeyJpbiI6IFsiSE9VU0UiLCAiQVBBUlRNRU5UIl19LCAicHJpY2UiOiB7InVua25vd24iOiBmYWxzZSwgInJhbmdlIjogeyJtaW4iOiA1MDAwMCwgIm1heCI6IDk5OTk5fX19fQ%3D%3D&p=24"
        ],
        [
         "552",
         "KXNI2",
         "Andere (Huis)",
         "99000.0",
         "Avenue Reine Astrid",
         "214",
         "4802",
         "Heusy",
         null,
         "193.0",
         null,
         null,
         null,
         "False",
         null,
         null,
         null,
         null,
         "https://www.zimmo.be/nl/heusy-4802/te-koop/huis/KXNI2/?search=eyJmaWx0ZXIiOiB7InN0YXR1cyI6IHsiaW4iOiBbIkZPUl9TQUxFIiwgIlRBS0VfT1ZFUiJdfSwgImNhdGVnb3J5IjogeyJpbiI6IFsiSE9VU0UiLCAiQVBBUlRNRU5UIl19LCAicHJpY2UiOiB7InVua25vd24iOiBmYWxzZSwgInJhbmdlIjogeyJtaW4iOiA1MDAwMCwgIm1heCI6IDk5OTk5fX19fQ%3D%3D&p=24"
        ],
        [
         "565",
         "KVUII",
         "Woning (Huis)",
         "85000.0",
         "Morelgem",
         "109",
         "9520",
         "Vlierzele",
         null,
         "260.0",
         null,
         null,
         null,
         "True",
         "1661.0",
         "True",
         null,
         "5.2",
         "https://www.zimmo.be/nl/vlierzele-9520/te-koop/huis/KVUII/?search=eyJmaWx0ZXIiOiB7InN0YXR1cyI6IHsiaW4iOiBbIkZPUl9TQUxFIiwgIlRBS0VfT1ZFUiJdfSwgImNhdGVnb3J5IjogeyJpbiI6IFsiSE9VU0UiLCAiQVBBUlRNRU5UIl19LCAicHJpY2UiOiB7InVua25vd24iOiBmYWxzZSwgInJhbmdlIjogeyJtaW4iOiA1MDAwMCwgIm1heCI6IDk5OTk5fX19fQ%3D%3D&p=25"
        ],
        [
         "583",
         "KM5HO",
         "Appartement",
         "95000.0",
         null,
         null,
         "3680",
         "Maaseik",
         "100.0",
         null,
         null,
         null,
         null,
         "False",
         null,
         "False",
         "1990.0",
         "7.8",
         "https://www.zimmo.be/nl/maaseik-3680/te-koop/appartement/KM5HO/?search=eyJmaWx0ZXIiOiB7InN0YXR1cyI6IHsiaW4iOiBbIkZPUl9TQUxFIiwgIlRBS0VfT1ZFUiJdfSwgImNhdGVnb3J5IjogeyJpbiI6IFsiSE9VU0UiLCAiQVBBUlRNRU5UIl19LCAicHJpY2UiOiB7InVua25vd24iOiBmYWxzZSwgInJhbmdlIjogeyJtaW4iOiA1MDAwMCwgIm1heCI6IDk5OTk5fX19fQ%3D%3D&p=26"
        ],
        [
         "592",
         "KNRBL",
         "Appartement",
         "99000.0",
         "Koerslaan",
         "53/102",
         "8450",
         "Bredene",
         "35.0",
         null,
         null,
         null,
         null,
         "False",
         "286.0",
         "False",
         "1968.0",
         "7.9",
         "https://www.zimmo.be/nl/bredene-8450/te-koop/appartement/KNRBL/?search=eyJmaWx0ZXIiOiB7InN0YXR1cyI6IHsiaW4iOiBbIkZPUl9TQUxFIiwgIlRBS0VfT1ZFUiJdfSwgImNhdGVnb3J5IjogeyJpbiI6IFsiSE9VU0UiLCAiQVBBUlRNRU5UIl19LCAicHJpY2UiOiB7InVua25vd24iOiBmYWxzZSwgInJhbmdlIjogeyJtaW4iOiA1MDAwMCwgIm1heCI6IDk5OTk5fX19fQ%3D%3D&p=26"
        ],
        [
         "655",
         "1004WOO",
         "Project",
         "120000.0",
         "Schaffensestraat",
         "66",
         "3290",
         "Diest",
         "57.0",
         "57.0",
         null,
         null,
         null,
         "False",
         null,
         null,
         null,
         null,
         "https://www.zimmo.be/nl/diest-3290/te-koop/nieuwbouwproject/1004WOO/?search=eyJmaWx0ZXIiOiB7InN0YXR1cyI6IHsiaW4iOiBbIkZPUl9TQUxFIiwgIlRBS0VfT1ZFUiJdfSwgImNhdGVnb3J5IjogeyJpbiI6IFsiSE9VU0UiLCAiQVBBUlRNRU5UIl19LCAicHJpY2UiOiB7InVua25vd24iOiBmYWxzZSwgInJhbmdlIjogeyJtaW4iOiAxMDAwMDAsICJtYXgiOiAxNDk5OTl9fX19&p=2"
        ],
        [
         "671",
         "L4KM2",
         "Appartement",
         "139000.0",
         "Maarschalk Fochstraat",
         "23/5",
         "3970",
         "Leopoldsburg",
         "88.0",
         null,
         null,
         null,
         null,
         "False",
         "194.0",
         "False",
         "1968.0",
         "8.4",
         "https://www.zimmo.be/nl/leopoldsburg-3970/te-koop/appartement/L4KM2/?search=eyJmaWx0ZXIiOiB7InN0YXR1cyI6IHsiaW4iOiBbIkZPUl9TQUxFIiwgIlRBS0VfT1ZFUiJdfSwgImNhdGVnb3J5IjogeyJpbiI6IFsiSE9VU0UiLCAiQVBBUlRNRU5UIl19LCAicHJpY2UiOiB7InVua25vd24iOiBmYWxzZSwgInJhbmdlIjogeyJtaW4iOiAxMDAwMDAsICJtYXgiOiAxNDk5OTl9fX19&p=3"
        ],
        [
         "675",
         "L9UCD",
         "Studio (Appartement)",
         "145000.0",
         null,
         null,
         "1090",
         "Jette",
         "30.0",
         null,
         null,
         null,
         null,
         "False",
         "807.0",
         null,
         "1906.0",
         "9.4",
         "https://www.zimmo.be/nl/jette-1090/te-koop/appartement/L9UCD/?search=eyJmaWx0ZXIiOiB7InN0YXR1cyI6IHsiaW4iOiBbIkZPUl9TQUxFIiwgIlRBS0VfT1ZFUiJdfSwgImNhdGVnb3J5IjogeyJpbiI6IFsiSE9VU0UiLCAiQVBBUlRNRU5UIl19LCAicHJpY2UiOiB7InVua25vd24iOiBmYWxzZSwgInJhbmdlIjogeyJtaW4iOiAxMDAwMDAsICJtYXgiOiAxNDk5OTl9fX19&p=3"
        ],
        [
         "683",
         "L9SC8",
         "Woning (Huis)",
         "105000.0",
         "Noordstraat",
         "107",
         "9220",
         "Hamme",
         null,
         "78.0",
         null,
         null,
         null,
         "True",
         "2418.0",
         "True",
         "1930.0",
         "8.1",
         "https://www.zimmo.be/nl/hamme-9220/te-koop/huis/L9SC8/?search=eyJmaWx0ZXIiOiB7InN0YXR1cyI6IHsiaW4iOiBbIkZPUl9TQUxFIiwgIlRBS0VfT1ZFUiJdfSwgImNhdGVnb3J5IjogeyJpbiI6IFsiSE9VU0UiLCAiQVBBUlRNRU5UIl19LCAicHJpY2UiOiB7InVua25vd24iOiBmYWxzZSwgInJhbmdlIjogeyJtaW4iOiAxMDAwMDAsICJtYXgiOiAxNDk5OTl9fX19&p=4"
        ],
        [
         "706",
         "L9R4V",
         "Appartement",
         "110000.0",
         "Zeedijk",
         "346/0504",
         "8400",
         "Oostende",
         "27.0",
         null,
         null,
         null,
         null,
         "False",
         "165.0",
         "False",
         "1977.0",
         "8.2",
         "https://www.zimmo.be/nl/oostende-8400/te-koop/appartement/L9R4V/?search=eyJmaWx0ZXIiOiB7InN0YXR1cyI6IHsiaW4iOiBbIkZPUl9TQUxFIiwgIlRBS0VfT1ZFUiJdfSwgImNhdGVnb3J5IjogeyJpbiI6IFsiSE9VU0UiLCAiQVBBUlRNRU5UIl19LCAicHJpY2UiOiB7InVua25vd24iOiBmYWxzZSwgInJhbmdlIjogeyJtaW4iOiAxMDAwMDAsICJtYXgiOiAxNDk5OTl9fX19&p=5"
        ],
        [
         "720",
         "L9ON7",
         "Woning (Huis)",
         "135000.0",
         "Dorp",
         "33",
         "8690",
         "Alveringem",
         "213.0",
         "181.0",
         null,
         null,
         null,
         "True",
         null,
         "False",
         null,
         "5.4",
         "https://www.zimmo.be/nl/alveringem-8690/te-koop/huis/L9ON7/?search=eyJmaWx0ZXIiOiB7InN0YXR1cyI6IHsiaW4iOiBbIkZPUl9TQUxFIiwgIlRBS0VfT1ZFUiJdfSwgImNhdGVnb3J5IjogeyJpbiI6IFsiSE9VU0UiLCAiQVBBUlRNRU5UIl19LCAicHJpY2UiOiB7InVua25vd24iOiBmYWxzZSwgInJhbmdlIjogeyJtaW4iOiAxMDAwMDAsICJtYXgiOiAxNDk5OTl9fX19&p=6"
        ],
        [
         "735",
         "L9MB0",
         "Studio met slaaphoek (Appartement)",
         "146000.0",
         "Rasphuisstraat",
         "29/A",
         "9000",
         "Gent",
         "2764.0",
         null,
         null,
         null,
         null,
         "False",
         "274.0",
         "False",
         "1992.0",
         "9.5",
         "https://www.zimmo.be/nl/gent-9000/te-koop/appartement/L9MB0/?search=eyJmaWx0ZXIiOiB7InN0YXR1cyI6IHsiaW4iOiBbIkZPUl9TQUxFIiwgIlRBS0VfT1ZFUiJdfSwgImNhdGVnb3J5IjogeyJpbiI6IFsiSE9VU0UiLCAiQVBBUlRNRU5UIl19LCAicHJpY2UiOiB7InVua25vd24iOiBmYWxzZSwgInJhbmdlIjogeyJtaW4iOiAxMDAwMDAsICJtYXgiOiAxNDk5OTl9fX19&p=6"
        ],
        [
         "739",
         "L9ODL",
         "Studio (Appartement)",
         "114000.0",
         "Raversijdestraat Bus O.F.",
         null,
         "8400",
         "Oostende",
         null,
         null,
         null,
         null,
         null,
         "False",
         "125.0",
         "False",
         "2011.0",
         "8.8",
         "https://www.zimmo.be/nl/oostende-8400/te-koop/appartement/L9ODL/?search=eyJmaWx0ZXIiOiB7InN0YXR1cyI6IHsiaW4iOiBbIkZPUl9TQUxFIiwgIlRBS0VfT1ZFUiJdfSwgImNhdGVnb3J5IjogeyJpbiI6IFsiSE9VU0UiLCAiQVBBUlRNRU5UIl19LCAicHJpY2UiOiB7InVua25vd24iOiBmYWxzZSwgInJhbmdlIjogeyJtaW4iOiAxMDAwMDAsICJtYXgiOiAxNDk5OTl9fX19&p=6"
        ],
        [
         "740",
         "L9OBB",
         "Woning (Huis)",
         "129000.0",
         "Mercatorstraat",
         "191",
         "9100",
         "Sint-Niklaas",
         "87.0",
         "150.0",
         null,
         null,
         null,
         "True",
         "866.0",
         "True",
         null,
         "9.3",
         "https://www.zimmo.be/nl/sint-niklaas-9100/te-koop/huis/L9OBB/?search=eyJmaWx0ZXIiOiB7InN0YXR1cyI6IHsiaW4iOiBbIkZPUl9TQUxFIiwgIlRBS0VfT1ZFUiJdfSwgImNhdGVnb3J5IjogeyJpbiI6IFsiSE9VU0UiLCAiQVBBUlRNRU5UIl19LCAicHJpY2UiOiB7InVua25vd24iOiBmYWxzZSwgInJhbmdlIjogeyJtaW4iOiAxMDAwMDAsICJtYXgiOiAxNDk5OTl9fX19&p=6"
        ],
        [
         "794",
         "L806J",
         "Woning (Huis)",
         "129000.0",
         "Blakstraat",
         "1",
         "9900",
         "Eeklo",
         null,
         null,
         null,
         null,
         null,
         "False",
         null,
         "False",
         null,
         "7.4",
         "https://www.zimmo.be/nl/eeklo-9900/te-koop/huis/L806J/?search=eyJmaWx0ZXIiOiB7InN0YXR1cyI6IHsiaW4iOiBbIkZPUl9TQUxFIiwgIlRBS0VfT1ZFUiJdfSwgImNhdGVnb3J5IjogeyJpbiI6IFsiSE9VU0UiLCAiQVBBUlRNRU5UIl19LCAicHJpY2UiOiB7InVua25vd24iOiBmYWxzZSwgInJhbmdlIjogeyJtaW4iOiAxMDAwMDAsICJtYXgiOiAxNDk5OTl9fX19&p=9"
        ],
        [
         "804",
         "L9FXF",
         "Appartement",
         "144900.0",
         "Sint-Jacobsstraat",
         "16/1D",
         "8900",
         "Ieper",
         null,
         null,
         null,
         null,
         null,
         "False",
         "127.0",
         "False",
         null,
         "7.7",
         "https://www.zimmo.be/nl/ieper-8900/te-koop/appartement/L9FXF/?search=eyJmaWx0ZXIiOiB7InN0YXR1cyI6IHsiaW4iOiBbIkZPUl9TQUxFIiwgIlRBS0VfT1ZFUiJdfSwgImNhdGVnb3J5IjogeyJpbiI6IFsiSE9VU0UiLCAiQVBBUlRNRU5UIl19LCAicHJpY2UiOiB7InVua25vd24iOiBmYWxzZSwgInJhbmdlIjogeyJtaW4iOiAxMDAwMDAsICJtYXgiOiAxNDk5OTl9fX19&p=10"
        ],
        [
         "807",
         "L9FXL",
         "Appartement",
         "144900.0",
         "Sint-Jacobsstraat",
         "16/2C",
         "8900",
         "Ieper",
         null,
         null,
         null,
         null,
         null,
         "False",
         "159.0",
         "False",
         null,
         "7.7",
         "https://www.zimmo.be/nl/ieper-8900/te-koop/appartement/L9FXL/?search=eyJmaWx0ZXIiOiB7InN0YXR1cyI6IHsiaW4iOiBbIkZPUl9TQUxFIiwgIlRBS0VfT1ZFUiJdfSwgImNhdGVnb3J5IjogeyJpbiI6IFsiSE9VU0UiLCAiQVBBUlRNRU5UIl19LCAicHJpY2UiOiB7InVua25vd24iOiBmYWxzZSwgInJhbmdlIjogeyJtaW4iOiAxMDAwMDAsICJtYXgiOiAxNDk5OTl9fX19&p=10"
        ],
        [
         "808",
         "L9FXI",
         "Appartement",
         "149900.0",
         "Sint-Jacobsstraat",
         "16/3A",
         "8900",
         "Ieper",
         null,
         null,
         null,
         null,
         null,
         "False",
         "97.0",
         "False",
         null,
         "7.7",
         "https://www.zimmo.be/nl/ieper-8900/te-koop/appartement/L9FXI/?search=eyJmaWx0ZXIiOiB7InN0YXR1cyI6IHsiaW4iOiBbIkZPUl9TQUxFIiwgIlRBS0VfT1ZFUiJdfSwgImNhdGVnb3J5IjogeyJpbiI6IFsiSE9VU0UiLCAiQVBBUlRNRU5UIl19LCAicHJpY2UiOiB7InVua25vd24iOiBmYWxzZSwgInJhbmdlIjogeyJtaW4iOiAxMDAwMDAsICJtYXgiOiAxNDk5OTl9fX19&p=10"
        ]
       ],
       "shape": {
        "columns": 18,
        "rows": 2782
       }
      },
      "text/html": [
       "<div>\n",
       "<style scoped>\n",
       "    .dataframe tbody tr th:only-of-type {\n",
       "        vertical-align: middle;\n",
       "    }\n",
       "\n",
       "    .dataframe tbody tr th {\n",
       "        vertical-align: top;\n",
       "    }\n",
       "\n",
       "    .dataframe thead th {\n",
       "        text-align: right;\n",
       "    }\n",
       "</style>\n",
       "<table border=\"1\" class=\"dataframe\">\n",
       "  <thead>\n",
       "    <tr style=\"text-align: right;\">\n",
       "      <th></th>\n",
       "      <th>zimmo_code</th>\n",
       "      <th>type</th>\n",
       "      <th>price</th>\n",
       "      <th>street</th>\n",
       "      <th>number</th>\n",
       "      <th>postcode</th>\n",
       "      <th>city</th>\n",
       "      <th>living_area(m²)</th>\n",
       "      <th>ground_area(m²)</th>\n",
       "      <th>bedroom</th>\n",
       "      <th>bathroom</th>\n",
       "      <th>garage</th>\n",
       "      <th>garden</th>\n",
       "      <th>EPC(kWh/m²)</th>\n",
       "      <th>renovation_obligation</th>\n",
       "      <th>year_built</th>\n",
       "      <th>mobiscore</th>\n",
       "      <th>url</th>\n",
       "    </tr>\n",
       "  </thead>\n",
       "  <tbody>\n",
       "    <tr>\n",
       "      <th>3</th>\n",
       "      <td>L4X2D</td>\n",
       "      <td>Vakantiewoning (Huis)</td>\n",
       "      <td>40000.0</td>\n",
       "      <td>Molenheidestraat</td>\n",
       "      <td>7</td>\n",
       "      <td>3530</td>\n",
       "      <td>Helchteren</td>\n",
       "      <td>45.0</td>\n",
       "      <td>NaN</td>\n",
       "      <td>NaN</td>\n",
       "      <td>NaN</td>\n",
       "      <td>NaN</td>\n",
       "      <td>False</td>\n",
       "      <td>NaN</td>\n",
       "      <td>False</td>\n",
       "      <td>NaN</td>\n",
       "      <td>5.3</td>\n",
       "      <td>https://www.zimmo.be/nl/helchteren-3530/te-koo...</td>\n",
       "    </tr>\n",
       "    <tr>\n",
       "      <th>12</th>\n",
       "      <td>L5Q5T</td>\n",
       "      <td>Andere (Huis)</td>\n",
       "      <td>45000.0</td>\n",
       "      <td>Hepperstraat</td>\n",
       "      <td>6</td>\n",
       "      <td>3680</td>\n",
       "      <td>Maaseik</td>\n",
       "      <td>NaN</td>\n",
       "      <td>70.0</td>\n",
       "      <td>NaN</td>\n",
       "      <td>NaN</td>\n",
       "      <td>NaN</td>\n",
       "      <td>False</td>\n",
       "      <td>NaN</td>\n",
       "      <td>False</td>\n",
       "      <td>1850.0</td>\n",
       "      <td>7.7</td>\n",
       "      <td>https://www.zimmo.be/nl/maaseik-3680/te-koop/h...</td>\n",
       "    </tr>\n",
       "    <tr>\n",
       "      <th>31</th>\n",
       "      <td>L83B7</td>\n",
       "      <td>Rijwoning (Huis)</td>\n",
       "      <td>40000.0</td>\n",
       "      <td>Kleine Gaffelstraat</td>\n",
       "      <td>18</td>\n",
       "      <td>9500</td>\n",
       "      <td>Geraardsbergen</td>\n",
       "      <td>30.0</td>\n",
       "      <td>30.0</td>\n",
       "      <td>NaN</td>\n",
       "      <td>NaN</td>\n",
       "      <td>NaN</td>\n",
       "      <td>False</td>\n",
       "      <td>690.0</td>\n",
       "      <td>True</td>\n",
       "      <td>1875.0</td>\n",
       "      <td>8.8</td>\n",
       "      <td>https://www.zimmo.be/nl/geraardsbergen-9500/te...</td>\n",
       "    </tr>\n",
       "    <tr>\n",
       "      <th>33</th>\n",
       "      <td>L5O5X</td>\n",
       "      <td>Vakantiewoning (Huis)</td>\n",
       "      <td>42500.0</td>\n",
       "      <td>Parelstrand</td>\n",
       "      <td>154</td>\n",
       "      <td>3920</td>\n",
       "      <td>Lommel</td>\n",
       "      <td>NaN</td>\n",
       "      <td>NaN</td>\n",
       "      <td>NaN</td>\n",
       "      <td>NaN</td>\n",
       "      <td>NaN</td>\n",
       "      <td>False</td>\n",
       "      <td>NaN</td>\n",
       "      <td>False</td>\n",
       "      <td>NaN</td>\n",
       "      <td>6.8</td>\n",
       "      <td>https://www.zimmo.be/nl/lommel-3920/te-koop/hu...</td>\n",
       "    </tr>\n",
       "    <tr>\n",
       "      <th>34</th>\n",
       "      <td>L7MF9</td>\n",
       "      <td>Appartement</td>\n",
       "      <td>38500.0</td>\n",
       "      <td>Dorlodotlaan</td>\n",
       "      <td>8</td>\n",
       "      <td>8670</td>\n",
       "      <td>Koksijde</td>\n",
       "      <td>NaN</td>\n",
       "      <td>NaN</td>\n",
       "      <td>NaN</td>\n",
       "      <td>NaN</td>\n",
       "      <td>NaN</td>\n",
       "      <td>False</td>\n",
       "      <td>NaN</td>\n",
       "      <td>False</td>\n",
       "      <td>1975.0</td>\n",
       "      <td>8.1</td>\n",
       "      <td>https://www.zimmo.be/nl/koksijde-8670/te-koop/...</td>\n",
       "    </tr>\n",
       "    <tr>\n",
       "      <th>...</th>\n",
       "      <td>...</td>\n",
       "      <td>...</td>\n",
       "      <td>...</td>\n",
       "      <td>...</td>\n",
       "      <td>...</td>\n",
       "      <td>...</td>\n",
       "      <td>...</td>\n",
       "      <td>...</td>\n",
       "      <td>...</td>\n",
       "      <td>...</td>\n",
       "      <td>...</td>\n",
       "      <td>...</td>\n",
       "      <td>...</td>\n",
       "      <td>...</td>\n",
       "      <td>...</td>\n",
       "      <td>...</td>\n",
       "      <td>...</td>\n",
       "      <td>...</td>\n",
       "    </tr>\n",
       "    <tr>\n",
       "      <th>25289</th>\n",
       "      <td>KW4NR</td>\n",
       "      <td>Villa (Huis)</td>\n",
       "      <td>1850000.0</td>\n",
       "      <td>Doornpark</td>\n",
       "      <td>7</td>\n",
       "      <td>9120</td>\n",
       "      <td>Beveren-Waas</td>\n",
       "      <td>910.0</td>\n",
       "      <td>2785.0</td>\n",
       "      <td>NaN</td>\n",
       "      <td>NaN</td>\n",
       "      <td>NaN</td>\n",
       "      <td>False</td>\n",
       "      <td>95.0</td>\n",
       "      <td>False</td>\n",
       "      <td>NaN</td>\n",
       "      <td>7.7</td>\n",
       "      <td>https://www.zimmo.be/nl/beveren-waas-9120/te-k...</td>\n",
       "    </tr>\n",
       "    <tr>\n",
       "      <th>25310</th>\n",
       "      <td>KA0AP</td>\n",
       "      <td>Gemengd gebruik (Huis)</td>\n",
       "      <td>2650000.0</td>\n",
       "      <td>Meensesteenweg</td>\n",
       "      <td>298</td>\n",
       "      <td>8501</td>\n",
       "      <td>Bissegem</td>\n",
       "      <td>NaN</td>\n",
       "      <td>1168.0</td>\n",
       "      <td>NaN</td>\n",
       "      <td>NaN</td>\n",
       "      <td>NaN</td>\n",
       "      <td>False</td>\n",
       "      <td>158.0</td>\n",
       "      <td>False</td>\n",
       "      <td>NaN</td>\n",
       "      <td>8.7</td>\n",
       "      <td>https://www.zimmo.be/nl/bissegem-8501/te-koop/...</td>\n",
       "    </tr>\n",
       "    <tr>\n",
       "      <th>25326</th>\n",
       "      <td>KRE0X</td>\n",
       "      <td>Woning (Huis)</td>\n",
       "      <td>1500000.0</td>\n",
       "      <td>Nieuwe Steenweg</td>\n",
       "      <td>183</td>\n",
       "      <td>8420</td>\n",
       "      <td>Klemskerke</td>\n",
       "      <td>NaN</td>\n",
       "      <td>1459.0</td>\n",
       "      <td>NaN</td>\n",
       "      <td>NaN</td>\n",
       "      <td>NaN</td>\n",
       "      <td>False</td>\n",
       "      <td>738.0</td>\n",
       "      <td>True</td>\n",
       "      <td>1970.0</td>\n",
       "      <td>7.8</td>\n",
       "      <td>https://www.zimmo.be/nl/klemskerke-8420/te-koo...</td>\n",
       "    </tr>\n",
       "    <tr>\n",
       "      <th>25339</th>\n",
       "      <td>KPG3V</td>\n",
       "      <td>Appartement</td>\n",
       "      <td>2700000.0</td>\n",
       "      <td>NaN</td>\n",
       "      <td>NaN</td>\n",
       "      <td>8620</td>\n",
       "      <td>Nieuwpoort</td>\n",
       "      <td>293.0</td>\n",
       "      <td>NaN</td>\n",
       "      <td>NaN</td>\n",
       "      <td>NaN</td>\n",
       "      <td>NaN</td>\n",
       "      <td>False</td>\n",
       "      <td>204.0</td>\n",
       "      <td>False</td>\n",
       "      <td>1992.0</td>\n",
       "      <td>7.7</td>\n",
       "      <td>https://www.zimmo.be/nl/nieuwpoort-8620/te-koo...</td>\n",
       "    </tr>\n",
       "    <tr>\n",
       "      <th>25361</th>\n",
       "      <td>KLDH7</td>\n",
       "      <td>Gemengd gebruik (Huis)</td>\n",
       "      <td>1999000.0</td>\n",
       "      <td>Paleisstraat</td>\n",
       "      <td>103</td>\n",
       "      <td>2018</td>\n",
       "      <td>Antwerpen</td>\n",
       "      <td>NaN</td>\n",
       "      <td>NaN</td>\n",
       "      <td>NaN</td>\n",
       "      <td>NaN</td>\n",
       "      <td>NaN</td>\n",
       "      <td>False</td>\n",
       "      <td>NaN</td>\n",
       "      <td>False</td>\n",
       "      <td>NaN</td>\n",
       "      <td>9.5</td>\n",
       "      <td>https://www.zimmo.be/nl/antwerpen-2018/te-koop...</td>\n",
       "    </tr>\n",
       "  </tbody>\n",
       "</table>\n",
       "<p>2782 rows × 18 columns</p>\n",
       "</div>"
      ],
      "text/plain": [
       "      zimmo_code                    type      price               street  \\\n",
       "3          L4X2D   Vakantiewoning (Huis)    40000.0     Molenheidestraat   \n",
       "12         L5Q5T           Andere (Huis)    45000.0         Hepperstraat   \n",
       "31         L83B7        Rijwoning (Huis)    40000.0  Kleine Gaffelstraat   \n",
       "33         L5O5X   Vakantiewoning (Huis)    42500.0          Parelstrand   \n",
       "34         L7MF9             Appartement    38500.0         Dorlodotlaan   \n",
       "...          ...                     ...        ...                  ...   \n",
       "25289      KW4NR            Villa (Huis)  1850000.0            Doornpark   \n",
       "25310      KA0AP  Gemengd gebruik (Huis)  2650000.0       Meensesteenweg   \n",
       "25326      KRE0X           Woning (Huis)  1500000.0      Nieuwe Steenweg   \n",
       "25339      KPG3V             Appartement  2700000.0                  NaN   \n",
       "25361      KLDH7  Gemengd gebruik (Huis)  1999000.0         Paleisstraat   \n",
       "\n",
       "      number postcode            city  living_area(m²)  ground_area(m²)  \\\n",
       "3          7     3530      Helchteren             45.0              NaN   \n",
       "12         6     3680         Maaseik              NaN             70.0   \n",
       "31        18     9500  Geraardsbergen             30.0             30.0   \n",
       "33       154     3920          Lommel              NaN              NaN   \n",
       "34         8     8670        Koksijde              NaN              NaN   \n",
       "...      ...      ...             ...              ...              ...   \n",
       "25289      7     9120    Beveren-Waas            910.0           2785.0   \n",
       "25310    298     8501        Bissegem              NaN           1168.0   \n",
       "25326    183     8420      Klemskerke              NaN           1459.0   \n",
       "25339    NaN     8620      Nieuwpoort            293.0              NaN   \n",
       "25361    103     2018       Antwerpen              NaN              NaN   \n",
       "\n",
       "       bedroom  bathroom  garage  garden  EPC(kWh/m²) renovation_obligation  \\\n",
       "3          NaN       NaN     NaN   False          NaN                 False   \n",
       "12         NaN       NaN     NaN   False          NaN                 False   \n",
       "31         NaN       NaN     NaN   False        690.0                  True   \n",
       "33         NaN       NaN     NaN   False          NaN                 False   \n",
       "34         NaN       NaN     NaN   False          NaN                 False   \n",
       "...        ...       ...     ...     ...          ...                   ...   \n",
       "25289      NaN       NaN     NaN   False         95.0                 False   \n",
       "25310      NaN       NaN     NaN   False        158.0                 False   \n",
       "25326      NaN       NaN     NaN   False        738.0                  True   \n",
       "25339      NaN       NaN     NaN   False        204.0                 False   \n",
       "25361      NaN       NaN     NaN   False          NaN                 False   \n",
       "\n",
       "       year_built  mobiscore  \\\n",
       "3             NaN        5.3   \n",
       "12         1850.0        7.7   \n",
       "31         1875.0        8.8   \n",
       "33            NaN        6.8   \n",
       "34         1975.0        8.1   \n",
       "...           ...        ...   \n",
       "25289         NaN        7.7   \n",
       "25310         NaN        8.7   \n",
       "25326      1970.0        7.8   \n",
       "25339      1992.0        7.7   \n",
       "25361         NaN        9.5   \n",
       "\n",
       "                                                     url  \n",
       "3      https://www.zimmo.be/nl/helchteren-3530/te-koo...  \n",
       "12     https://www.zimmo.be/nl/maaseik-3680/te-koop/h...  \n",
       "31     https://www.zimmo.be/nl/geraardsbergen-9500/te...  \n",
       "33     https://www.zimmo.be/nl/lommel-3920/te-koop/hu...  \n",
       "34     https://www.zimmo.be/nl/koksijde-8670/te-koop/...  \n",
       "...                                                  ...  \n",
       "25289  https://www.zimmo.be/nl/beveren-waas-9120/te-k...  \n",
       "25310  https://www.zimmo.be/nl/bissegem-8501/te-koop/...  \n",
       "25326  https://www.zimmo.be/nl/klemskerke-8420/te-koo...  \n",
       "25339  https://www.zimmo.be/nl/nieuwpoort-8620/te-koo...  \n",
       "25361  https://www.zimmo.be/nl/antwerpen-2018/te-koop...  \n",
       "\n",
       "[2782 rows x 18 columns]"
      ]
     },
     "execution_count": 27,
     "metadata": {},
     "output_type": "execute_result"
    }
   ],
   "source": [
    "\n",
    "raw_df[raw_df[['bedroom', 'bathroom']].isna().all(axis=1)]"
   ]
  },
  {
   "cell_type": "code",
   "execution_count": 30,
   "id": "487b977c",
   "metadata": {},
   "outputs": [
    {
     "data": {
      "application/vnd.microsoft.datawrangler.viewer.v0+json": {
       "columns": [
        {
         "name": "index",
         "rawType": "int64",
         "type": "integer"
        },
        {
         "name": "zimmo_code",
         "rawType": "object",
         "type": "string"
        },
        {
         "name": "type",
         "rawType": "object",
         "type": "string"
        },
        {
         "name": "price",
         "rawType": "float64",
         "type": "float"
        },
        {
         "name": "street",
         "rawType": "object",
         "type": "unknown"
        },
        {
         "name": "number",
         "rawType": "object",
         "type": "unknown"
        },
        {
         "name": "postcode",
         "rawType": "object",
         "type": "string"
        },
        {
         "name": "city",
         "rawType": "object",
         "type": "string"
        },
        {
         "name": "living_area(m²)",
         "rawType": "float64",
         "type": "float"
        },
        {
         "name": "ground_area(m²)",
         "rawType": "float64",
         "type": "float"
        },
        {
         "name": "bedroom",
         "rawType": "float64",
         "type": "float"
        },
        {
         "name": "bathroom",
         "rawType": "float64",
         "type": "float"
        },
        {
         "name": "garage",
         "rawType": "float64",
         "type": "float"
        },
        {
         "name": "garden",
         "rawType": "bool",
         "type": "boolean"
        },
        {
         "name": "EPC(kWh/m²)",
         "rawType": "float64",
         "type": "float"
        },
        {
         "name": "renovation_obligation",
         "rawType": "object",
         "type": "unknown"
        },
        {
         "name": "year_built",
         "rawType": "float64",
         "type": "float"
        },
        {
         "name": "mobiscore",
         "rawType": "float64",
         "type": "float"
        },
        {
         "name": "url",
         "rawType": "object",
         "type": "string"
        }
       ],
       "ref": "758306f3-8fac-4204-b826-e1180f59e9ce",
       "rows": [
        [
         "1",
         "L9SVC",
         "Appartement",
         "45000.0",
         null,
         null,
         "5570",
         "Beauraing",
         "62.0",
         null,
         "2.0",
         "1.0",
         null,
         "False",
         null,
         null,
         null,
         null,
         "https://www.zimmo.be/nl/beauraing-5570/te-koop/appartement/L9SVC/?search=eyJmaWx0ZXIiOiB7InN0YXR1cyI6IHsiaW4iOiBbIkZPUl9TQUxFIiwgIlRBS0VfT1ZFUiJdfSwgImNhdGVnb3J5IjogeyJpbiI6IFsiSE9VU0UiLCAiQVBBUlRNRU5UIl19LCAicHJpY2UiOiB7InVua25vd24iOiBmYWxzZSwgInJhbmdlIjogeyJtaW4iOiAwLCAibWF4IjogNDk5OTl9fX19"
        ],
        [
         "25",
         "KLWPI",
         "Eengezinswoning (Huis)",
         "28500.0",
         null,
         null,
         "7370",
         "Dour",
         null,
         "196.0",
         "2.0",
         null,
         null,
         "False",
         null,
         null,
         null,
         null,
         "https://www.zimmo.be/nl/dour-7370/te-koop/huis/KLWPI/?search=eyJmaWx0ZXIiOiB7InN0YXR1cyI6IHsiaW4iOiBbIkZPUl9TQUxFIiwgIlRBS0VfT1ZFUiJdfSwgImNhdGVnb3J5IjogeyJpbiI6IFsiSE9VU0UiLCAiQVBBUlRNRU5UIl19LCAicHJpY2UiOiB7InVua25vd24iOiBmYWxzZSwgInJhbmdlIjogeyJtaW4iOiAwLCAibWF4IjogNDk5OTl9fX19&p=2"
        ],
        [
         "37",
         "L5AWE",
         "Eengezinswoning (Huis)",
         "45000.0",
         "Rue du Vert Velu",
         "8",
         "7608",
         "Wiers",
         "90.0",
         null,
         "2.0",
         "1.0",
         null,
         "False",
         null,
         null,
         null,
         null,
         "https://www.zimmo.be/nl/wiers-7608/te-koop/huis/L5AWE/?search=eyJmaWx0ZXIiOiB7InN0YXR1cyI6IHsiaW4iOiBbIkZPUl9TQUxFIiwgIlRBS0VfT1ZFUiJdfSwgImNhdGVnb3J5IjogeyJpbiI6IFsiSE9VU0UiLCAiQVBBUlRNRU5UIl19LCAicHJpY2UiOiB7InVua25vd24iOiBmYWxzZSwgInJhbmdlIjogeyJtaW4iOiAwLCAibWF4IjogNDk5OTl9fX19&p=2"
        ],
        [
         "43",
         "KVO7C",
         "Chalet (Huis)",
         "29000.0",
         null,
         null,
         "4920",
         "Aywaille",
         "3123.0",
         "700.0",
         "1.0",
         "1.0",
         null,
         "False",
         null,
         null,
         null,
         null,
         "https://www.zimmo.be/nl/aywaille-4920/te-koop/huis/KVO7C/?search=eyJmaWx0ZXIiOiB7InN0YXR1cyI6IHsiaW4iOiBbIkZPUl9TQUxFIiwgIlRBS0VfT1ZFUiJdfSwgImNhdGVnb3J5IjogeyJpbiI6IFsiSE9VU0UiLCAiQVBBUlRNRU5UIl19LCAicHJpY2UiOiB7InVua25vd24iOiBmYWxzZSwgInJhbmdlIjogeyJtaW4iOiAwLCAibWF4IjogNDk5OTl9fX19&p=3"
        ],
        [
         "44",
         "L3Q5V",
         "Gemengd gebruik (Huis)",
         "25000.0",
         "Rue Appâa",
         "15",
         "7340",
         "Wasmes",
         null,
         null,
         null,
         null,
         "1.0",
         "False",
         null,
         null,
         null,
         null,
         "https://www.zimmo.be/nl/wasmes-7340/te-koop/huis/L3Q5V/?search=eyJmaWx0ZXIiOiB7InN0YXR1cyI6IHsiaW4iOiBbIkZPUl9TQUxFIiwgIlRBS0VfT1ZFUiJdfSwgImNhdGVnb3J5IjogeyJpbiI6IFsiSE9VU0UiLCAiQVBBUlRNRU5UIl19LCAicHJpY2UiOiB7InVua25vd24iOiBmYWxzZSwgInJhbmdlIjogeyJtaW4iOiAwLCAibWF4IjogNDk5OTl9fX19&p=3"
        ],
        [
         "50",
         "KRE17",
         "Chalet (Huis)",
         "29000.0",
         "Clos des Genêts",
         "244-245",
         "6464",
         "Forges",
         "50.0",
         "491.0",
         "3.0",
         null,
         null,
         "False",
         null,
         null,
         null,
         null,
         "https://www.zimmo.be/nl/forges-6464/te-koop/huis/KRE17/?search=eyJmaWx0ZXIiOiB7InN0YXR1cyI6IHsiaW4iOiBbIkZPUl9TQUxFIiwgIlRBS0VfT1ZFUiJdfSwgImNhdGVnb3J5IjogeyJpbiI6IFsiSE9VU0UiLCAiQVBBUlRNRU5UIl19LCAicHJpY2UiOiB7InVua25vd24iOiBmYWxzZSwgInJhbmdlIjogeyJtaW4iOiAwLCAibWF4IjogNDk5OTl9fX19&p=3"
        ],
        [
         "53",
         "KKIDA",
         "Bungalow (Huis)",
         "20000.0",
         null,
         null,
         "6464",
         "Forges",
         "45.0",
         "237.0",
         "2.0",
         null,
         null,
         "True",
         null,
         null,
         null,
         null,
         "https://www.zimmo.be/nl/forges-6464/te-koop/huis/KKIDA/?search=eyJmaWx0ZXIiOiB7InN0YXR1cyI6IHsiaW4iOiBbIkZPUl9TQUxFIiwgIlRBS0VfT1ZFUiJdfSwgImNhdGVnb3J5IjogeyJpbiI6IFsiSE9VU0UiLCAiQVBBUlRNRU5UIl19LCAicHJpY2UiOiB7InVua25vd24iOiBmYWxzZSwgInJhbmdlIjogeyJtaW4iOiAwLCAibWF4IjogNDk5OTl9fX19&p=3"
        ],
        [
         "55",
         "KFPEN",
         "Eengezinswoning (Huis)",
         "37500.0",
         null,
         null,
         "7370",
         "Dour",
         null,
         "1456.0",
         "1.0",
         null,
         null,
         "False",
         null,
         null,
         null,
         null,
         "https://www.zimmo.be/nl/dour-7370/te-koop/huis/KFPEN/?search=eyJmaWx0ZXIiOiB7InN0YXR1cyI6IHsiaW4iOiBbIkZPUl9TQUxFIiwgIlRBS0VfT1ZFUiJdfSwgImNhdGVnb3J5IjogeyJpbiI6IFsiSE9VU0UiLCAiQVBBUlRNRU5UIl19LCAicHJpY2UiOiB7InVua25vd24iOiBmYWxzZSwgInJhbmdlIjogeyJtaW4iOiAwLCAibWF4IjogNDk5OTl9fX19&p=3"
        ],
        [
         "63",
         "L9TSZ",
         "Woning (Huis)",
         "95000.0",
         "Rue du Fief",
         "42",
         "7340",
         "Paturages",
         "229.0",
         "360.0",
         "4.0",
         "1.0",
         null,
         "False",
         null,
         null,
         null,
         null,
         "https://www.zimmo.be/nl/paturages-7340/te-koop/huis/L9TSZ/?search=eyJmaWx0ZXIiOiB7InN0YXR1cyI6IHsiaW4iOiBbIkZPUl9TQUxFIiwgIlRBS0VfT1ZFUiJdfSwgImNhdGVnb3J5IjogeyJpbiI6IFsiSE9VU0UiLCAiQVBBUlRNRU5UIl19LCAicHJpY2UiOiB7InVua25vd24iOiBmYWxzZSwgInJhbmdlIjogeyJtaW4iOiA1MDAwMCwgIm1heCI6IDk5OTk5fX19fQ%3D%3D"
        ],
        [
         "101",
         "L9J98",
         "Woning (Huis)",
         "98000.0",
         null,
         null,
         "6142",
         "Leernes",
         "200.0",
         "190.0",
         null,
         null,
         null,
         "False",
         null,
         null,
         null,
         null,
         "https://www.zimmo.be/nl/leernes-6142/te-koop/huis/L9J98/?search=eyJmaWx0ZXIiOiB7InN0YXR1cyI6IHsiaW4iOiBbIkZPUl9TQUxFIiwgIlRBS0VfT1ZFUiJdfSwgImNhdGVnb3J5IjogeyJpbiI6IFsiSE9VU0UiLCAiQVBBUlRNRU5UIl19LCAicHJpY2UiOiB7InVua25vd24iOiBmYWxzZSwgInJhbmdlIjogeyJtaW4iOiA1MDAwMCwgIm1heCI6IDk5OTk5fX19fQ%3D%3D&p=3"
        ],
        [
         "106",
         "L9HZF",
         "Eengezinswoning (Huis)",
         "99900.0",
         null,
         null,
         "5140",
         "Sombreffe",
         "106.0",
         "423.0",
         "4.0",
         "1.0",
         null,
         "False",
         null,
         null,
         null,
         null,
         "https://www.zimmo.be/nl/sombreffe-5140/te-koop/huis/L9HZF/?search=eyJmaWx0ZXIiOiB7InN0YXR1cyI6IHsiaW4iOiBbIkZPUl9TQUxFIiwgIlRBS0VfT1ZFUiJdfSwgImNhdGVnb3J5IjogeyJpbiI6IFsiSE9VU0UiLCAiQVBBUlRNRU5UIl19LCAicHJpY2UiOiB7InVua25vd24iOiBmYWxzZSwgInJhbmdlIjogeyJtaW4iOiA1MDAwMCwgIm1heCI6IDk5OTk5fX19fQ%3D%3D&p=3"
        ],
        [
         "141",
         "L948A",
         "Woning (Huis)",
         "79000.0",
         null,
         null,
         "7100",
         "Saint-Vaast",
         "190.0",
         "530.0",
         "3.0",
         "2.0",
         "1.0",
         "False",
         null,
         null,
         null,
         null,
         "https://www.zimmo.be/nl/saint-vaast-7100/te-koop/huis/L948A/?search=eyJmaWx0ZXIiOiB7InN0YXR1cyI6IHsiaW4iOiBbIkZPUl9TQUxFIiwgIlRBS0VfT1ZFUiJdfSwgImNhdGVnb3J5IjogeyJpbiI6IFsiSE9VU0UiLCAiQVBBUlRNRU5UIl19LCAicHJpY2UiOiB7InVua25vd24iOiBmYWxzZSwgInJhbmdlIjogeyJtaW4iOiA1MDAwMCwgIm1heCI6IDk5OTk5fX19fQ%3D%3D&p=5"
        ],
        [
         "142",
         "L94A9",
         "Eengezinswoning (Huis)",
         "59999.0",
         null,
         null,
         "6030",
         "Marchienne-au-Pont",
         null,
         "370.0",
         "3.0",
         "1.0",
         "1.0",
         "False",
         null,
         null,
         null,
         null,
         "https://www.zimmo.be/nl/marchienne-au-pont-6030/te-koop/huis/L94A9/?search=eyJmaWx0ZXIiOiB7InN0YXR1cyI6IHsiaW4iOiBbIkZPUl9TQUxFIiwgIlRBS0VfT1ZFUiJdfSwgImNhdGVnb3J5IjogeyJpbiI6IFsiSE9VU0UiLCAiQVBBUlRNRU5UIl19LCAicHJpY2UiOiB7InVua25vd24iOiBmYWxzZSwgInJhbmdlIjogeyJtaW4iOiA1MDAwMCwgIm1heCI6IDk5OTk5fX19fQ%3D%3D&p=5"
        ],
        [
         "187",
         "L8Q97",
         "Appartement",
         "99000.0",
         "Rue de Morges",
         "2/1.1/appart1.1",
         "5580",
         "Rochefort",
         "64.0",
         null,
         "1.0",
         "1.0",
         null,
         "False",
         null,
         null,
         null,
         null,
         "https://www.zimmo.be/nl/rochefort-5580/te-koop/appartement/L8Q97/?search=eyJmaWx0ZXIiOiB7InN0YXR1cyI6IHsiaW4iOiBbIkZPUl9TQUxFIiwgIlRBS0VfT1ZFUiJdfSwgImNhdGVnb3J5IjogeyJpbiI6IFsiSE9VU0UiLCAiQVBBUlRNRU5UIl19LCAicHJpY2UiOiB7InVua25vd24iOiBmYWxzZSwgInJhbmdlIjogeyJtaW4iOiA1MDAwMCwgIm1heCI6IDk5OTk5fX19fQ%3D%3D&p=7"
        ],
        [
         "193",
         "L8R8V",
         "Chalet (Huis)",
         "65000.0",
         "Rue d'Andenne",
         "20/86",
         "6940",
         "Grandhan",
         "60.0",
         null,
         "2.0",
         "1.0",
         null,
         "False",
         null,
         null,
         null,
         null,
         "https://www.zimmo.be/nl/grandhan-6940/te-koop/huis/L8R8V/?search=eyJmaWx0ZXIiOiB7InN0YXR1cyI6IHsiaW4iOiBbIkZPUl9TQUxFIiwgIlRBS0VfT1ZFUiJdfSwgImNhdGVnb3J5IjogeyJpbiI6IFsiSE9VU0UiLCAiQVBBUlRNRU5UIl19LCAicHJpY2UiOiB7InVua25vd24iOiBmYWxzZSwgInJhbmdlIjogeyJtaW4iOiA1MDAwMCwgIm1heCI6IDk5OTk5fX19fQ%3D%3D&p=7"
        ],
        [
         "200",
         "L8RKV",
         "Eengezinswoning (Huis)",
         "50000.0",
         "Rue Basse Marihaye",
         "63",
         "4100",
         "Seraing",
         null,
         null,
         "3.0",
         "1.0",
         "1.0",
         "False",
         null,
         null,
         null,
         null,
         "https://www.zimmo.be/nl/seraing-4100/te-koop/huis/L8RKV/?search=eyJmaWx0ZXIiOiB7InN0YXR1cyI6IHsiaW4iOiBbIkZPUl9TQUxFIiwgIlRBS0VfT1ZFUiJdfSwgImNhdGVnb3J5IjogeyJpbiI6IFsiSE9VU0UiLCAiQVBBUlRNRU5UIl19LCAicHJpY2UiOiB7InVua25vd24iOiBmYWxzZSwgInJhbmdlIjogeyJtaW4iOiA1MDAwMCwgIm1heCI6IDk5OTk5fX19fQ%3D%3D&p=7"
        ],
        [
         "216",
         "L8GZ5",
         "Appartement",
         "89000.0",
         "Place Marie de Hongrie",
         "9",
         "5660",
         "Mariembourg",
         "145.0",
         null,
         "3.0",
         "1.0",
         null,
         "False",
         null,
         null,
         null,
         null,
         "https://www.zimmo.be/nl/mariembourg-5660/te-koop/appartement/L8GZ5/?search=eyJmaWx0ZXIiOiB7InN0YXR1cyI6IHsiaW4iOiBbIkZPUl9TQUxFIiwgIlRBS0VfT1ZFUiJdfSwgImNhdGVnb3J5IjogeyJpbiI6IFsiSE9VU0UiLCAiQVBBUlRNRU5UIl19LCAicHJpY2UiOiB7InVua25vd24iOiBmYWxzZSwgInJhbmdlIjogeyJtaW4iOiA1MDAwMCwgIm1heCI6IDk5OTk5fX19fQ%3D%3D&p=8"
        ],
        [
         "222",
         "L8JAV",
         "Chalet (Huis)",
         "85000.0",
         "Allée des Genêts",
         "66",
         "5540",
         "Hastière-Lavaux",
         "48.0",
         "1723.0",
         "2.0",
         null,
         null,
         "False",
         null,
         null,
         null,
         null,
         "https://www.zimmo.be/nl/hastiere-lavaux-5540/te-koop/huis/L8JAV/?search=eyJmaWx0ZXIiOiB7InN0YXR1cyI6IHsiaW4iOiBbIkZPUl9TQUxFIiwgIlRBS0VfT1ZFUiJdfSwgImNhdGVnb3J5IjogeyJpbiI6IFsiSE9VU0UiLCAiQVBBUlRNRU5UIl19LCAicHJpY2UiOiB7InVua25vd24iOiBmYWxzZSwgInJhbmdlIjogeyJtaW4iOiA1MDAwMCwgIm1heCI6IDk5OTk5fX19fQ%3D%3D&p=8"
        ],
        [
         "230",
         "L84T8",
         "Woning (Huis)",
         "90000.0",
         null,
         null,
         "5570",
         "Beauraing",
         null,
         "933.0",
         "1.0",
         null,
         null,
         "False",
         null,
         null,
         null,
         null,
         "https://www.zimmo.be/nl/beauraing-5570/te-koop/huis/L84T8/?search=eyJmaWx0ZXIiOiB7InN0YXR1cyI6IHsiaW4iOiBbIkZPUl9TQUxFIiwgIlRBS0VfT1ZFUiJdfSwgImNhdGVnb3J5IjogeyJpbiI6IFsiSE9VU0UiLCAiQVBBUlRNRU5UIl19LCAicHJpY2UiOiB7InVua25vd24iOiBmYWxzZSwgInJhbmdlIjogeyJtaW4iOiA1MDAwMCwgIm1heCI6IDk5OTk5fX19fQ%3D%3D&p=9"
        ],
        [
         "251",
         "L7YOU",
         "Chalet (Huis)",
         "50000.0",
         null,
         null,
         "6464",
         "Forges",
         null,
         null,
         null,
         null,
         null,
         "False",
         null,
         null,
         null,
         null,
         "https://www.zimmo.be/nl/forges-6464/te-koop/huis/L7YOU/?search=eyJmaWx0ZXIiOiB7InN0YXR1cyI6IHsiaW4iOiBbIkZPUl9TQUxFIiwgIlRBS0VfT1ZFUiJdfSwgImNhdGVnb3J5IjogeyJpbiI6IFsiSE9VU0UiLCAiQVBBUlRNRU5UIl19LCAicHJpY2UiOiB7InVua25vd24iOiBmYWxzZSwgInJhbmdlIjogeyJtaW4iOiA1MDAwMCwgIm1heCI6IDk5OTk5fX19fQ%3D%3D&p=10"
        ],
        [
         "261",
         "L80F5",
         "Appartement",
         "75000.0",
         "Place Albert Ier",
         "14/15",
         "7170",
         "Fayt-lez-Manage",
         "14766.0",
         null,
         null,
         null,
         null,
         "False",
         null,
         null,
         null,
         null,
         "https://www.zimmo.be/nl/fayt-lez-manage-7170/te-koop/appartement/L80F5/?search=eyJmaWx0ZXIiOiB7InN0YXR1cyI6IHsiaW4iOiBbIkZPUl9TQUxFIiwgIlRBS0VfT1ZFUiJdfSwgImNhdGVnb3J5IjogeyJpbiI6IFsiSE9VU0UiLCAiQVBBUlRNRU5UIl19LCAicHJpY2UiOiB7InVua25vd24iOiBmYWxzZSwgInJhbmdlIjogeyJtaW4iOiA1MDAwMCwgIm1heCI6IDk5OTk5fX19fQ%3D%3D&p=10"
        ],
        [
         "278",
         "L7X6U",
         "Chalet (Huis)",
         "75000.0",
         "Rue d'Andenne",
         "20/183",
         "6940",
         "Grandhan",
         "74.0",
         null,
         "2.0",
         "1.0",
         null,
         "False",
         null,
         null,
         null,
         null,
         "https://www.zimmo.be/nl/grandhan-6940/te-koop/huis/L7X6U/?search=eyJmaWx0ZXIiOiB7InN0YXR1cyI6IHsiaW4iOiBbIkZPUl9TQUxFIiwgIlRBS0VfT1ZFUiJdfSwgImNhdGVnb3J5IjogeyJpbiI6IFsiSE9VU0UiLCAiQVBBUlRNRU5UIl19LCAicHJpY2UiOiB7InVua25vd24iOiBmYWxzZSwgInJhbmdlIjogeyJtaW4iOiA1MDAwMCwgIm1heCI6IDk5OTk5fX19fQ%3D%3D&p=11"
        ],
        [
         "300",
         "L7BXF",
         "Appartement",
         "99000.0",
         "Rue du Villez",
         "13",
         "5060",
         "Velaine-sur-Sambre",
         "83.0",
         null,
         "1.0",
         null,
         null,
         "False",
         null,
         null,
         null,
         null,
         "https://www.zimmo.be/nl/velaine-sur-sambre-5060/te-koop/appartement/L7BXF/?search=eyJmaWx0ZXIiOiB7InN0YXR1cyI6IHsiaW4iOiBbIkZPUl9TQUxFIiwgIlRBS0VfT1ZFUiJdfSwgImNhdGVnb3J5IjogeyJpbiI6IFsiSE9VU0UiLCAiQVBBUlRNRU5UIl19LCAicHJpY2UiOiB7InVua25vd24iOiBmYWxzZSwgInJhbmdlIjogeyJtaW4iOiA1MDAwMCwgIm1heCI6IDk5OTk5fX19fQ%3D%3D&p=12"
        ],
        [
         "360",
         "L4WNR",
         "Chalet (Huis)",
         "67000.0",
         "Rue du Village",
         "2/41",
         "5542",
         "Blaimont",
         "40.0",
         "300.0",
         "2.0",
         "1.0",
         null,
         "True",
         null,
         null,
         null,
         null,
         "https://www.zimmo.be/nl/blaimont-5542/te-koop/huis/L4WNR/?search=eyJmaWx0ZXIiOiB7InN0YXR1cyI6IHsiaW4iOiBbIkZPUl9TQUxFIiwgIlRBS0VfT1ZFUiJdfSwgImNhdGVnb3J5IjogeyJpbiI6IFsiSE9VU0UiLCAiQVBBUlRNRU5UIl19LCAicHJpY2UiOiB7InVua25vd24iOiBmYWxzZSwgInJhbmdlIjogeyJtaW4iOiA1MDAwMCwgIm1heCI6IDk5OTk5fX19fQ%3D%3D&p=15"
        ],
        [
         "385",
         "L5MWT",
         "Wooncaravan (Huis)",
         "77000.0",
         null,
         null,
         "5670",
         "Vierves-sur-Viroin",
         "69.0",
         "200.0",
         "2.0",
         "1.0",
         null,
         "False",
         null,
         null,
         null,
         null,
         "https://www.zimmo.be/nl/vierves-sur-viroin-5670/te-koop/huis/L5MWT/?search=eyJmaWx0ZXIiOiB7InN0YXR1cyI6IHsiaW4iOiBbIkZPUl9TQUxFIiwgIlRBS0VfT1ZFUiJdfSwgImNhdGVnb3J5IjogeyJpbiI6IFsiSE9VU0UiLCAiQVBBUlRNRU5UIl19LCAicHJpY2UiOiB7InVua25vd24iOiBmYWxzZSwgInJhbmdlIjogeyJtaW4iOiA1MDAwMCwgIm1heCI6IDk5OTk5fX19fQ%3D%3D&p=16"
        ],
        [
         "398",
         "L5ICJ",
         "Eengezinswoning (Huis)",
         "75000.0",
         "Rue Godefroid Kurth",
         "26",
         "6747",
         "Saint-Léger",
         "80.0",
         null,
         "2.0",
         null,
         null,
         "False",
         null,
         null,
         null,
         null,
         "https://www.zimmo.be/nl/saint-leger-6747/te-koop/huis/L5ICJ/?search=eyJmaWx0ZXIiOiB7InN0YXR1cyI6IHsiaW4iOiBbIkZPUl9TQUxFIiwgIlRBS0VfT1ZFUiJdfSwgImNhdGVnb3J5IjogeyJpbiI6IFsiSE9VU0UiLCAiQVBBUlRNRU5UIl19LCAicHJpY2UiOiB7InVua25vd24iOiBmYWxzZSwgInJhbmdlIjogeyJtaW4iOiA1MDAwMCwgIm1heCI6IDk5OTk5fX19fQ%3D%3D&p=17"
        ],
        [
         "401",
         "L4TH7",
         "Appartement",
         "98000.0",
         "Rue de l'Infante Isabelle",
         "107",
         "7110",
         "Houdeng-Aimeries",
         null,
         null,
         null,
         "1.0",
         null,
         "False",
         null,
         null,
         null,
         null,
         "https://www.zimmo.be/nl/houdeng-aimeries-7110/te-koop/appartement/L4TH7/?search=eyJmaWx0ZXIiOiB7InN0YXR1cyI6IHsiaW4iOiBbIkZPUl9TQUxFIiwgIlRBS0VfT1ZFUiJdfSwgImNhdGVnb3J5IjogeyJpbiI6IFsiSE9VU0UiLCAiQVBBUlRNRU5UIl19LCAicHJpY2UiOiB7InVua25vd24iOiBmYWxzZSwgInJhbmdlIjogeyJtaW4iOiA1MDAwMCwgIm1heCI6IDk5OTk5fX19fQ%3D%3D&p=17"
        ],
        [
         "425",
         "L4MML",
         "Woning (Huis)",
         "78000.0",
         "Chemin du Bue",
         "6",
         "7750",
         "Anseroeul",
         null,
         "541.0",
         null,
         null,
         null,
         "True",
         null,
         null,
         null,
         null,
         "https://www.zimmo.be/nl/anseroeul-7750/te-koop/huis/L4MML/?search=eyJmaWx0ZXIiOiB7InN0YXR1cyI6IHsiaW4iOiBbIkZPUl9TQUxFIiwgIlRBS0VfT1ZFUiJdfSwgImNhdGVnb3J5IjogeyJpbiI6IFsiSE9VU0UiLCAiQVBBUlRNRU5UIl19LCAicHJpY2UiOiB7InVua25vd24iOiBmYWxzZSwgInJhbmdlIjogeyJtaW4iOiA1MDAwMCwgIm1heCI6IDk5OTk5fX19fQ%3D%3D&p=18"
        ],
        [
         "438",
         "L2J3F",
         "Eengezinswoning (Huis)",
         "90000.0",
         null,
         null,
         "7370",
         "Dour",
         "150.0",
         "360.0",
         "3.0",
         "1.0",
         null,
         "False",
         null,
         null,
         null,
         null,
         "https://www.zimmo.be/nl/dour-7370/te-koop/huis/L2J3F/?search=eyJmaWx0ZXIiOiB7InN0YXR1cyI6IHsiaW4iOiBbIkZPUl9TQUxFIiwgIlRBS0VfT1ZFUiJdfSwgImNhdGVnb3J5IjogeyJpbiI6IFsiSE9VU0UiLCAiQVBBUlRNRU5UIl19LCAicHJpY2UiOiB7InVua25vd24iOiBmYWxzZSwgInJhbmdlIjogeyJtaW4iOiA1MDAwMCwgIm1heCI6IDk5OTk5fX19fQ%3D%3D&p=19"
        ],
        [
         "449",
         "L3TRX",
         "Eengezinswoning (Huis)",
         "69900.0",
         null,
         null,
         "6020",
         "Dampremy",
         "100.0",
         "145.0",
         "2.0",
         "1.0",
         null,
         "False",
         null,
         null,
         null,
         null,
         "https://www.zimmo.be/nl/dampremy-6020/te-koop/huis/L3TRX/?search=eyJmaWx0ZXIiOiB7InN0YXR1cyI6IHsiaW4iOiBbIkZPUl9TQUxFIiwgIlRBS0VfT1ZFUiJdfSwgImNhdGVnb3J5IjogeyJpbiI6IFsiSE9VU0UiLCAiQVBBUlRNRU5UIl19LCAicHJpY2UiOiB7InVua25vd24iOiBmYWxzZSwgInJhbmdlIjogeyJtaW4iOiA1MDAwMCwgIm1heCI6IDk5OTk5fX19fQ%3D%3D&p=19"
        ],
        [
         "450",
         "L3V3E",
         "Studio met slaaphoek (Appartement)",
         "64900.0",
         null,
         null,
         "6020",
         "Dampremy",
         "37.0",
         null,
         "1.0",
         "1.0",
         "1.0",
         "False",
         null,
         null,
         null,
         null,
         "https://www.zimmo.be/nl/dampremy-6020/te-koop/appartement/L3V3E/?search=eyJmaWx0ZXIiOiB7InN0YXR1cyI6IHsiaW4iOiBbIkZPUl9TQUxFIiwgIlRBS0VfT1ZFUiJdfSwgImNhdGVnb3J5IjogeyJpbiI6IFsiSE9VU0UiLCAiQVBBUlRNRU5UIl19LCAicHJpY2UiOiB7InVua25vd24iOiBmYWxzZSwgInJhbmdlIjogeyJtaW4iOiA1MDAwMCwgIm1heCI6IDk5OTk5fX19fQ%3D%3D&p=19"
        ],
        [
         "454",
         "L3NZU",
         "Woning (Huis)",
         "70000.0",
         "Rue de la Lorraine",
         "80",
         "6044",
         "Roux",
         null,
         "200.0",
         "2.0",
         null,
         "1.0",
         "False",
         null,
         null,
         null,
         null,
         "https://www.zimmo.be/nl/roux-6044/te-koop/huis/L3NZU/?search=eyJmaWx0ZXIiOiB7InN0YXR1cyI6IHsiaW4iOiBbIkZPUl9TQUxFIiwgIlRBS0VfT1ZFUiJdfSwgImNhdGVnb3J5IjogeyJpbiI6IFsiSE9VU0UiLCAiQVBBUlRNRU5UIl19LCAicHJpY2UiOiB7InVua25vd24iOiBmYWxzZSwgInJhbmdlIjogeyJtaW4iOiA1MDAwMCwgIm1heCI6IDk5OTk5fX19fQ%3D%3D&p=19"
        ],
        [
         "477",
         "L28B5",
         "Bungalow (Huis)",
         "80000.0",
         "Rue d'Andenne",
         "20/102/102",
         "6940",
         "Durbuy",
         "74.0",
         null,
         "3.0",
         null,
         null,
         "False",
         null,
         null,
         null,
         null,
         "https://www.zimmo.be/nl/durbuy-6940/te-koop/huis/L28B5/?search=eyJmaWx0ZXIiOiB7InN0YXR1cyI6IHsiaW4iOiBbIkZPUl9TQUxFIiwgIlRBS0VfT1ZFUiJdfSwgImNhdGVnb3J5IjogeyJpbiI6IFsiSE9VU0UiLCAiQVBBUlRNRU5UIl19LCAicHJpY2UiOiB7InVua25vd24iOiBmYWxzZSwgInJhbmdlIjogeyJtaW4iOiA1MDAwMCwgIm1heCI6IDk5OTk5fX19fQ%3D%3D&p=21"
        ],
        [
         "482",
         "L2Q21",
         "Woning (Huis)",
         "69000.0",
         "Rue du Petit Champ",
         "61",
         "7012",
         "Flénu",
         "97.0",
         null,
         "2.0",
         "1.0",
         null,
         "False",
         null,
         null,
         null,
         null,
         "https://www.zimmo.be/nl/flenu-7012/te-koop/huis/L2Q21/?search=eyJmaWx0ZXIiOiB7InN0YXR1cyI6IHsiaW4iOiBbIkZPUl9TQUxFIiwgIlRBS0VfT1ZFUiJdfSwgImNhdGVnb3J5IjogeyJpbiI6IFsiSE9VU0UiLCAiQVBBUlRNRU5UIl19LCAicHJpY2UiOiB7InVua25vd24iOiBmYWxzZSwgInJhbmdlIjogeyJtaW4iOiA1MDAwMCwgIm1heCI6IDk5OTk5fX19fQ%3D%3D&p=21"
        ],
        [
         "510",
         "KYHO3",
         "Appartement",
         "94000.0",
         null,
         null,
         "6001",
         "Marcinelle",
         "49.0",
         null,
         "1.0",
         null,
         null,
         "False",
         null,
         null,
         null,
         null,
         "https://www.zimmo.be/nl/marcinelle-6001/te-koop/appartement/KYHO3/?search=eyJmaWx0ZXIiOiB7InN0YXR1cyI6IHsiaW4iOiBbIkZPUl9TQUxFIiwgIlRBS0VfT1ZFUiJdfSwgImNhdGVnb3J5IjogeyJpbiI6IFsiSE9VU0UiLCAiQVBBUlRNRU5UIl19LCAicHJpY2UiOiB7InVua25vd24iOiBmYWxzZSwgInJhbmdlIjogeyJtaW4iOiA1MDAwMCwgIm1heCI6IDk5OTk5fX19fQ%3D%3D&p=22"
        ],
        [
         "521",
         "L08DT",
         "Arbeiderswoning (Huis)",
         "75000.0",
         "du Molinay",
         "54/7",
         "4100",
         "Seraing",
         null,
         null,
         "2.0",
         null,
         null,
         "False",
         null,
         null,
         null,
         null,
         "https://www.zimmo.be/nl/seraing-4100/te-koop/huis/L08DT/?search=eyJmaWx0ZXIiOiB7InN0YXR1cyI6IHsiaW4iOiBbIkZPUl9TQUxFIiwgIlRBS0VfT1ZFUiJdfSwgImNhdGVnb3J5IjogeyJpbiI6IFsiSE9VU0UiLCAiQVBBUlRNRU5UIl19LCAicHJpY2UiOiB7InVua25vd24iOiBmYWxzZSwgInJhbmdlIjogeyJtaW4iOiA1MDAwMCwgIm1heCI6IDk5OTk5fX19fQ%3D%3D&p=23"
        ],
        [
         "537",
         "KX2VR",
         "Appartement",
         "95000.0",
         "Avenue Léopold II",
         "40",
         "4900",
         "Spa",
         null,
         null,
         null,
         null,
         null,
         "False",
         null,
         null,
         null,
         null,
         "https://www.zimmo.be/nl/spa-4900/te-koop/appartement/KX2VR/?search=eyJmaWx0ZXIiOiB7InN0YXR1cyI6IHsiaW4iOiBbIkZPUl9TQUxFIiwgIlRBS0VfT1ZFUiJdfSwgImNhdGVnb3J5IjogeyJpbiI6IFsiSE9VU0UiLCAiQVBBUlRNRU5UIl19LCAicHJpY2UiOiB7InVua25vd24iOiBmYWxzZSwgInJhbmdlIjogeyJtaW4iOiA1MDAwMCwgIm1heCI6IDk5OTk5fX19fQ%3D%3D&p=24"
        ],
        [
         "552",
         "KXNI2",
         "Andere (Huis)",
         "99000.0",
         "Avenue Reine Astrid",
         "214",
         "4802",
         "Heusy",
         null,
         "193.0",
         null,
         null,
         null,
         "False",
         null,
         null,
         null,
         null,
         "https://www.zimmo.be/nl/heusy-4802/te-koop/huis/KXNI2/?search=eyJmaWx0ZXIiOiB7InN0YXR1cyI6IHsiaW4iOiBbIkZPUl9TQUxFIiwgIlRBS0VfT1ZFUiJdfSwgImNhdGVnb3J5IjogeyJpbiI6IFsiSE9VU0UiLCAiQVBBUlRNRU5UIl19LCAicHJpY2UiOiB7InVua25vd24iOiBmYWxzZSwgInJhbmdlIjogeyJtaW4iOiA1MDAwMCwgIm1heCI6IDk5OTk5fX19fQ%3D%3D&p=24"
        ],
        [
         "578",
         "KIKFJ",
         "Villa (Huis)",
         "69500.0",
         null,
         null,
         "6250",
         "Presles",
         "225.0",
         "482.0",
         "5.0",
         "2.0",
         "1.0",
         "False",
         null,
         null,
         null,
         null,
         "https://www.zimmo.be/nl/presles-6250/te-koop/huis/KIKFJ/?search=eyJmaWx0ZXIiOiB7InN0YXR1cyI6IHsiaW4iOiBbIkZPUl9TQUxFIiwgIlRBS0VfT1ZFUiJdfSwgImNhdGVnb3J5IjogeyJpbiI6IFsiSE9VU0UiLCAiQVBBUlRNRU5UIl19LCAicHJpY2UiOiB7InVua25vd24iOiBmYWxzZSwgInJhbmdlIjogeyJtaW4iOiA1MDAwMCwgIm1heCI6IDk5OTk5fX19fQ%3D%3D&p=26"
        ],
        [
         "597",
         "KMBYS",
         "Chalet (Huis)",
         "63500.0",
         "Rue de Dochamps - PARC",
         "30/51",
         "6997",
         "Amonines",
         "40.0",
         "233.0",
         "1.0",
         "1.0",
         null,
         "False",
         null,
         null,
         null,
         null,
         "https://www.zimmo.be/nl/amonines-6997/te-koop/huis/KMBYS/?search=eyJmaWx0ZXIiOiB7InN0YXR1cyI6IHsiaW4iOiBbIkZPUl9TQUxFIiwgIlRBS0VfT1ZFUiJdfSwgImNhdGVnb3J5IjogeyJpbiI6IFsiSE9VU0UiLCAiQVBBUlRNRU5UIl19LCAicHJpY2UiOiB7InVua25vd24iOiBmYWxzZSwgInJhbmdlIjogeyJtaW4iOiA1MDAwMCwgIm1heCI6IDk5OTk5fX19fQ%3D%3D&p=26"
        ],
        [
         "604",
         "KK15V",
         "Chalet (Huis)",
         "95000.0",
         "Rue du Village",
         "2/179/179",
         "5542",
         "Blaimont",
         "54.0",
         "502.0",
         "3.0",
         null,
         null,
         "False",
         null,
         null,
         null,
         null,
         "https://www.zimmo.be/nl/blaimont-5542/te-koop/huis/KK15V/?search=eyJmaWx0ZXIiOiB7InN0YXR1cyI6IHsiaW4iOiBbIkZPUl9TQUxFIiwgIlRBS0VfT1ZFUiJdfSwgImNhdGVnb3J5IjogeyJpbiI6IFsiSE9VU0UiLCAiQVBBUlRNRU5UIl19LCAicHJpY2UiOiB7InVua25vd24iOiBmYWxzZSwgInJhbmdlIjogeyJtaW4iOiA1MDAwMCwgIm1heCI6IDk5OTk5fX19fQ%3D%3D&p=27"
        ],
        [
         "606",
         "KHF9X",
         "Eengezinswoning (Huis)",
         "90000.0",
         null,
         null,
         "7300",
         "Boussu",
         null,
         null,
         "3.0",
         "1.0",
         null,
         "False",
         null,
         null,
         null,
         null,
         "https://www.zimmo.be/nl/boussu-7300/te-koop/huis/KHF9X/?search=eyJmaWx0ZXIiOiB7InN0YXR1cyI6IHsiaW4iOiBbIkZPUl9TQUxFIiwgIlRBS0VfT1ZFUiJdfSwgImNhdGVnb3J5IjogeyJpbiI6IFsiSE9VU0UiLCAiQVBBUlRNRU5UIl19LCAicHJpY2UiOiB7InVua25vd24iOiBmYWxzZSwgInJhbmdlIjogeyJtaW4iOiA1MDAwMCwgIm1heCI6IDk5OTk5fX19fQ%3D%3D&p=27"
        ],
        [
         "609",
         "KK15U",
         "Chalet (Huis)",
         "95000.0",
         "Rue du Village",
         "2/178/178",
         "5542",
         "Blaimont",
         "54.0",
         "253.0",
         "3.0",
         "1.0",
         null,
         "False",
         null,
         null,
         null,
         null,
         "https://www.zimmo.be/nl/blaimont-5542/te-koop/huis/KK15U/?search=eyJmaWx0ZXIiOiB7InN0YXR1cyI6IHsiaW4iOiBbIkZPUl9TQUxFIiwgIlRBS0VfT1ZFUiJdfSwgImNhdGVnb3J5IjogeyJpbiI6IFsiSE9VU0UiLCAiQVBBUlRNRU5UIl19LCAicHJpY2UiOiB7InVua25vd24iOiBmYWxzZSwgInJhbmdlIjogeyJtaW4iOiA1MDAwMCwgIm1heCI6IDk5OTk5fX19fQ%3D%3D&p=27"
        ],
        [
         "626",
         "L9YIN",
         "Woning (Huis)",
         "135000.0",
         "Rue Masuy",
         "32",
         "4041",
         "Milmort",
         "243.0",
         null,
         "3.0",
         "1.0",
         null,
         "False",
         null,
         null,
         null,
         null,
         "https://www.zimmo.be/nl/milmort-4041/te-koop/huis/L9YIN/?search=eyJmaWx0ZXIiOiB7InN0YXR1cyI6IHsiaW4iOiBbIkZPUl9TQUxFIiwgIlRBS0VfT1ZFUiJdfSwgImNhdGVnb3J5IjogeyJpbiI6IFsiSE9VU0UiLCAiQVBBUlRNRU5UIl19LCAicHJpY2UiOiB7InVua25vd24iOiBmYWxzZSwgInJhbmdlIjogeyJtaW4iOiAxMDAwMDAsICJtYXgiOiAxNDk5OTl9fX19"
        ],
        [
         "655",
         "1004WOO",
         "Project",
         "120000.0",
         "Schaffensestraat",
         "66",
         "3290",
         "Diest",
         "57.0",
         "57.0",
         null,
         null,
         null,
         "False",
         null,
         null,
         null,
         null,
         "https://www.zimmo.be/nl/diest-3290/te-koop/nieuwbouwproject/1004WOO/?search=eyJmaWx0ZXIiOiB7InN0YXR1cyI6IHsiaW4iOiBbIkZPUl9TQUxFIiwgIlRBS0VfT1ZFUiJdfSwgImNhdGVnb3J5IjogeyJpbiI6IFsiSE9VU0UiLCAiQVBBUlRNRU5UIl19LCAicHJpY2UiOiB7InVua25vd24iOiBmYWxzZSwgInJhbmdlIjogeyJtaW4iOiAxMDAwMDAsICJtYXgiOiAxNDk5OTl9fX19&p=2"
        ],
        [
         "970",
         "1004TV2",
         "Project",
         "142500.0",
         "Rue Paul Pastur",
         null,
         "7500",
         "Tournai",
         "41.0",
         null,
         null,
         null,
         null,
         "False",
         null,
         null,
         null,
         null,
         "https://www.zimmo.be/nl/tournai-7500/te-koop/nieuwbouwproject/1004TV2/?search=eyJmaWx0ZXIiOiB7InN0YXR1cyI6IHsiaW4iOiBbIkZPUl9TQUxFIiwgIlRBS0VfT1ZFUiJdfSwgImNhdGVnb3J5IjogeyJpbiI6IFsiSE9VU0UiLCAiQVBBUlRNRU5UIl19LCAicHJpY2UiOiB7InVua25vd24iOiBmYWxzZSwgInJhbmdlIjogeyJtaW4iOiAxMDAwMDAsICJtYXgiOiAxNDk5OTl9fX19&p=17"
        ],
        [
         "1042",
         "1004VVN",
         "Project",
         "111000.0",
         "Beekstraat",
         "116",
         "8730",
         "Oedelem",
         null,
         "300.0",
         null,
         null,
         null,
         "False",
         null,
         null,
         null,
         null,
         "https://www.zimmo.be/nl/oedelem-8730/te-koop/nieuwbouwproject/1004VVN/?search=eyJmaWx0ZXIiOiB7InN0YXR1cyI6IHsiaW4iOiBbIkZPUl9TQUxFIiwgIlRBS0VfT1ZFUiJdfSwgImNhdGVnb3J5IjogeyJpbiI6IFsiSE9VU0UiLCAiQVBBUlRNRU5UIl19LCAicHJpY2UiOiB7InVua25vd24iOiBmYWxzZSwgInJhbmdlIjogeyJtaW4iOiAxMDAwMDAsICJtYXgiOiAxNDk5OTl9fX19&p=21"
        ],
        [
         "1056",
         "1004LVJ",
         "Project",
         "133041.0",
         null,
         null,
         "7333",
         "Tertre",
         "81.0",
         null,
         null,
         null,
         null,
         "False",
         null,
         null,
         null,
         null,
         "https://www.zimmo.be/nl/tertre-7333/te-koop/nieuwbouwproject/1004LVJ/?search=eyJmaWx0ZXIiOiB7InN0YXR1cyI6IHsiaW4iOiBbIkZPUl9TQUxFIiwgIlRBS0VfT1ZFUiJdfSwgImNhdGVnb3J5IjogeyJpbiI6IFsiSE9VU0UiLCAiQVBBUlRNRU5UIl19LCAicHJpY2UiOiB7InVua25vd24iOiBmYWxzZSwgInJhbmdlIjogeyJtaW4iOiAxMDAwMDAsICJtYXgiOiAxNDk5OTl9fX19&p=22"
        ],
        [
         "1075",
         "1004TIF",
         "Project",
         "111845.0",
         "Markt",
         "29-31",
         "8650",
         "Houthulst",
         "41.0",
         null,
         null,
         null,
         null,
         "False",
         null,
         null,
         null,
         null,
         "https://www.zimmo.be/nl/houthulst-8650/te-koop/nieuwbouwproject/1004TIF/?search=eyJmaWx0ZXIiOiB7InN0YXR1cyI6IHsiaW4iOiBbIkZPUl9TQUxFIiwgIlRBS0VfT1ZFUiJdfSwgImNhdGVnb3J5IjogeyJpbiI6IFsiSE9VU0UiLCAiQVBBUlRNRU5UIl19LCAicHJpY2UiOiB7InVua25vd24iOiBmYWxzZSwgInJhbmdlIjogeyJtaW4iOiAxMDAwMDAsICJtYXgiOiAxNDk5OTl9fX19&p=23"
        ],
        [
         "1218",
         "L80FG",
         "Appartement",
         "125000.0",
         "Place Albert Ier",
         "14/15",
         "7170",
         "Fayt-lez-Manage",
         null,
         null,
         null,
         null,
         null,
         "False",
         null,
         null,
         null,
         null,
         "https://www.zimmo.be/nl/fayt-lez-manage-7170/te-koop/appartement/L80FG/?search=eyJmaWx0ZXIiOiB7InN0YXR1cyI6IHsiaW4iOiBbIkZPUl9TQUxFIiwgIlRBS0VfT1ZFUiJdfSwgImNhdGVnb3J5IjogeyJpbiI6IFsiSE9VU0UiLCAiQVBBUlRNRU5UIl19LCAicHJpY2UiOiB7InVua25vd24iOiBmYWxzZSwgInJhbmdlIjogeyJtaW4iOiAxMDAwMDAsICJtYXgiOiAxNDk5OTl9fX19&p=29"
        ]
       ],
       "shape": {
        "columns": 18,
        "rows": 1062
       }
      },
      "text/html": [
       "<div>\n",
       "<style scoped>\n",
       "    .dataframe tbody tr th:only-of-type {\n",
       "        vertical-align: middle;\n",
       "    }\n",
       "\n",
       "    .dataframe tbody tr th {\n",
       "        vertical-align: top;\n",
       "    }\n",
       "\n",
       "    .dataframe thead th {\n",
       "        text-align: right;\n",
       "    }\n",
       "</style>\n",
       "<table border=\"1\" class=\"dataframe\">\n",
       "  <thead>\n",
       "    <tr style=\"text-align: right;\">\n",
       "      <th></th>\n",
       "      <th>zimmo_code</th>\n",
       "      <th>type</th>\n",
       "      <th>price</th>\n",
       "      <th>street</th>\n",
       "      <th>number</th>\n",
       "      <th>postcode</th>\n",
       "      <th>city</th>\n",
       "      <th>living_area(m²)</th>\n",
       "      <th>ground_area(m²)</th>\n",
       "      <th>bedroom</th>\n",
       "      <th>bathroom</th>\n",
       "      <th>garage</th>\n",
       "      <th>garden</th>\n",
       "      <th>EPC(kWh/m²)</th>\n",
       "      <th>renovation_obligation</th>\n",
       "      <th>year_built</th>\n",
       "      <th>mobiscore</th>\n",
       "      <th>url</th>\n",
       "    </tr>\n",
       "  </thead>\n",
       "  <tbody>\n",
       "    <tr>\n",
       "      <th>1</th>\n",
       "      <td>L9SVC</td>\n",
       "      <td>Appartement</td>\n",
       "      <td>45000.0</td>\n",
       "      <td>NaN</td>\n",
       "      <td>NaN</td>\n",
       "      <td>5570</td>\n",
       "      <td>Beauraing</td>\n",
       "      <td>62.0</td>\n",
       "      <td>NaN</td>\n",
       "      <td>2.0</td>\n",
       "      <td>1.0</td>\n",
       "      <td>NaN</td>\n",
       "      <td>False</td>\n",
       "      <td>NaN</td>\n",
       "      <td>NaN</td>\n",
       "      <td>NaN</td>\n",
       "      <td>NaN</td>\n",
       "      <td>https://www.zimmo.be/nl/beauraing-5570/te-koop...</td>\n",
       "    </tr>\n",
       "    <tr>\n",
       "      <th>25</th>\n",
       "      <td>KLWPI</td>\n",
       "      <td>Eengezinswoning (Huis)</td>\n",
       "      <td>28500.0</td>\n",
       "      <td>NaN</td>\n",
       "      <td>NaN</td>\n",
       "      <td>7370</td>\n",
       "      <td>Dour</td>\n",
       "      <td>NaN</td>\n",
       "      <td>196.0</td>\n",
       "      <td>2.0</td>\n",
       "      <td>NaN</td>\n",
       "      <td>NaN</td>\n",
       "      <td>False</td>\n",
       "      <td>NaN</td>\n",
       "      <td>NaN</td>\n",
       "      <td>NaN</td>\n",
       "      <td>NaN</td>\n",
       "      <td>https://www.zimmo.be/nl/dour-7370/te-koop/huis...</td>\n",
       "    </tr>\n",
       "    <tr>\n",
       "      <th>37</th>\n",
       "      <td>L5AWE</td>\n",
       "      <td>Eengezinswoning (Huis)</td>\n",
       "      <td>45000.0</td>\n",
       "      <td>Rue du Vert Velu</td>\n",
       "      <td>8</td>\n",
       "      <td>7608</td>\n",
       "      <td>Wiers</td>\n",
       "      <td>90.0</td>\n",
       "      <td>NaN</td>\n",
       "      <td>2.0</td>\n",
       "      <td>1.0</td>\n",
       "      <td>NaN</td>\n",
       "      <td>False</td>\n",
       "      <td>NaN</td>\n",
       "      <td>NaN</td>\n",
       "      <td>NaN</td>\n",
       "      <td>NaN</td>\n",
       "      <td>https://www.zimmo.be/nl/wiers-7608/te-koop/hui...</td>\n",
       "    </tr>\n",
       "    <tr>\n",
       "      <th>43</th>\n",
       "      <td>KVO7C</td>\n",
       "      <td>Chalet (Huis)</td>\n",
       "      <td>29000.0</td>\n",
       "      <td>NaN</td>\n",
       "      <td>NaN</td>\n",
       "      <td>4920</td>\n",
       "      <td>Aywaille</td>\n",
       "      <td>3123.0</td>\n",
       "      <td>700.0</td>\n",
       "      <td>1.0</td>\n",
       "      <td>1.0</td>\n",
       "      <td>NaN</td>\n",
       "      <td>False</td>\n",
       "      <td>NaN</td>\n",
       "      <td>NaN</td>\n",
       "      <td>NaN</td>\n",
       "      <td>NaN</td>\n",
       "      <td>https://www.zimmo.be/nl/aywaille-4920/te-koop/...</td>\n",
       "    </tr>\n",
       "    <tr>\n",
       "      <th>44</th>\n",
       "      <td>L3Q5V</td>\n",
       "      <td>Gemengd gebruik (Huis)</td>\n",
       "      <td>25000.0</td>\n",
       "      <td>Rue Appâa</td>\n",
       "      <td>15</td>\n",
       "      <td>7340</td>\n",
       "      <td>Wasmes</td>\n",
       "      <td>NaN</td>\n",
       "      <td>NaN</td>\n",
       "      <td>NaN</td>\n",
       "      <td>NaN</td>\n",
       "      <td>1.0</td>\n",
       "      <td>False</td>\n",
       "      <td>NaN</td>\n",
       "      <td>NaN</td>\n",
       "      <td>NaN</td>\n",
       "      <td>NaN</td>\n",
       "      <td>https://www.zimmo.be/nl/wasmes-7340/te-koop/hu...</td>\n",
       "    </tr>\n",
       "    <tr>\n",
       "      <th>...</th>\n",
       "      <td>...</td>\n",
       "      <td>...</td>\n",
       "      <td>...</td>\n",
       "      <td>...</td>\n",
       "      <td>...</td>\n",
       "      <td>...</td>\n",
       "      <td>...</td>\n",
       "      <td>...</td>\n",
       "      <td>...</td>\n",
       "      <td>...</td>\n",
       "      <td>...</td>\n",
       "      <td>...</td>\n",
       "      <td>...</td>\n",
       "      <td>...</td>\n",
       "      <td>...</td>\n",
       "      <td>...</td>\n",
       "      <td>...</td>\n",
       "      <td>...</td>\n",
       "    </tr>\n",
       "    <tr>\n",
       "      <th>25195</th>\n",
       "      <td>L23QB</td>\n",
       "      <td>Herenwoning (Huis)</td>\n",
       "      <td>5000000.0</td>\n",
       "      <td>NaN</td>\n",
       "      <td>NaN</td>\n",
       "      <td>1000</td>\n",
       "      <td>Brussel</td>\n",
       "      <td>NaN</td>\n",
       "      <td>NaN</td>\n",
       "      <td>4.0</td>\n",
       "      <td>NaN</td>\n",
       "      <td>NaN</td>\n",
       "      <td>False</td>\n",
       "      <td>NaN</td>\n",
       "      <td>NaN</td>\n",
       "      <td>NaN</td>\n",
       "      <td>9.7</td>\n",
       "      <td>https://www.zimmo.be/nl/brussel-1000/te-koop/h...</td>\n",
       "    </tr>\n",
       "    <tr>\n",
       "      <th>25196</th>\n",
       "      <td>L23Q1</td>\n",
       "      <td>Woning (Huis)</td>\n",
       "      <td>2200000.0</td>\n",
       "      <td>Wayezstraat</td>\n",
       "      <td>NaN</td>\n",
       "      <td>1070</td>\n",
       "      <td>Anderlecht</td>\n",
       "      <td>NaN</td>\n",
       "      <td>NaN</td>\n",
       "      <td>NaN</td>\n",
       "      <td>NaN</td>\n",
       "      <td>NaN</td>\n",
       "      <td>False</td>\n",
       "      <td>NaN</td>\n",
       "      <td>NaN</td>\n",
       "      <td>NaN</td>\n",
       "      <td>9.6</td>\n",
       "      <td>https://www.zimmo.be/nl/anderlecht-1070/te-koo...</td>\n",
       "    </tr>\n",
       "    <tr>\n",
       "      <th>25203</th>\n",
       "      <td>L23QV</td>\n",
       "      <td>Gemengd gebruik (Huis)</td>\n",
       "      <td>2900000.0</td>\n",
       "      <td>NaN</td>\n",
       "      <td>NaN</td>\n",
       "      <td>1000</td>\n",
       "      <td>Brussel</td>\n",
       "      <td>600.0</td>\n",
       "      <td>NaN</td>\n",
       "      <td>NaN</td>\n",
       "      <td>NaN</td>\n",
       "      <td>NaN</td>\n",
       "      <td>False</td>\n",
       "      <td>NaN</td>\n",
       "      <td>NaN</td>\n",
       "      <td>NaN</td>\n",
       "      <td>9.7</td>\n",
       "      <td>https://www.zimmo.be/nl/brussel-1000/te-koop/h...</td>\n",
       "    </tr>\n",
       "    <tr>\n",
       "      <th>25306</th>\n",
       "      <td>KWJC2</td>\n",
       "      <td>Woning (Huis)</td>\n",
       "      <td>2300000.0</td>\n",
       "      <td>NaN</td>\n",
       "      <td>NaN</td>\n",
       "      <td>1050</td>\n",
       "      <td>Elsene</td>\n",
       "      <td>600.0</td>\n",
       "      <td>750.0</td>\n",
       "      <td>3.0</td>\n",
       "      <td>NaN</td>\n",
       "      <td>1.0</td>\n",
       "      <td>False</td>\n",
       "      <td>NaN</td>\n",
       "      <td>NaN</td>\n",
       "      <td>NaN</td>\n",
       "      <td>9.5</td>\n",
       "      <td>https://www.zimmo.be/nl/elsene-1050/te-koop/hu...</td>\n",
       "    </tr>\n",
       "    <tr>\n",
       "      <th>25397</th>\n",
       "      <td>K29RP</td>\n",
       "      <td>Gemengd gebruik (Huis)</td>\n",
       "      <td>15000000.0</td>\n",
       "      <td>Rue de Beaulieu</td>\n",
       "      <td>NaN</td>\n",
       "      <td>7021</td>\n",
       "      <td>Havré</td>\n",
       "      <td>8800.0</td>\n",
       "      <td>43000.0</td>\n",
       "      <td>79.0</td>\n",
       "      <td>NaN</td>\n",
       "      <td>NaN</td>\n",
       "      <td>False</td>\n",
       "      <td>NaN</td>\n",
       "      <td>NaN</td>\n",
       "      <td>NaN</td>\n",
       "      <td>NaN</td>\n",
       "      <td>https://www.zimmo.be/nl/havre-7021/te-koop/hui...</td>\n",
       "    </tr>\n",
       "  </tbody>\n",
       "</table>\n",
       "<p>1062 rows × 18 columns</p>\n",
       "</div>"
      ],
      "text/plain": [
       "      zimmo_code                    type       price            street number  \\\n",
       "1          L9SVC             Appartement     45000.0               NaN    NaN   \n",
       "25         KLWPI  Eengezinswoning (Huis)     28500.0               NaN    NaN   \n",
       "37         L5AWE  Eengezinswoning (Huis)     45000.0  Rue du Vert Velu      8   \n",
       "43         KVO7C           Chalet (Huis)     29000.0               NaN    NaN   \n",
       "44         L3Q5V  Gemengd gebruik (Huis)     25000.0         Rue Appâa     15   \n",
       "...          ...                     ...         ...               ...    ...   \n",
       "25195      L23QB      Herenwoning (Huis)   5000000.0               NaN    NaN   \n",
       "25196      L23Q1           Woning (Huis)   2200000.0       Wayezstraat    NaN   \n",
       "25203      L23QV  Gemengd gebruik (Huis)   2900000.0               NaN    NaN   \n",
       "25306      KWJC2           Woning (Huis)   2300000.0               NaN    NaN   \n",
       "25397      K29RP  Gemengd gebruik (Huis)  15000000.0   Rue de Beaulieu    NaN   \n",
       "\n",
       "      postcode        city  living_area(m²)  ground_area(m²)  bedroom  \\\n",
       "1         5570   Beauraing             62.0              NaN      2.0   \n",
       "25        7370        Dour              NaN            196.0      2.0   \n",
       "37        7608       Wiers             90.0              NaN      2.0   \n",
       "43        4920    Aywaille           3123.0            700.0      1.0   \n",
       "44        7340      Wasmes              NaN              NaN      NaN   \n",
       "...        ...         ...              ...              ...      ...   \n",
       "25195     1000     Brussel              NaN              NaN      4.0   \n",
       "25196     1070  Anderlecht              NaN              NaN      NaN   \n",
       "25203     1000     Brussel            600.0              NaN      NaN   \n",
       "25306     1050      Elsene            600.0            750.0      3.0   \n",
       "25397     7021       Havré           8800.0          43000.0     79.0   \n",
       "\n",
       "       bathroom  garage  garden  EPC(kWh/m²) renovation_obligation  \\\n",
       "1           1.0     NaN   False          NaN                   NaN   \n",
       "25          NaN     NaN   False          NaN                   NaN   \n",
       "37          1.0     NaN   False          NaN                   NaN   \n",
       "43          1.0     NaN   False          NaN                   NaN   \n",
       "44          NaN     1.0   False          NaN                   NaN   \n",
       "...         ...     ...     ...          ...                   ...   \n",
       "25195       NaN     NaN   False          NaN                   NaN   \n",
       "25196       NaN     NaN   False          NaN                   NaN   \n",
       "25203       NaN     NaN   False          NaN                   NaN   \n",
       "25306       NaN     1.0   False          NaN                   NaN   \n",
       "25397       NaN     NaN   False          NaN                   NaN   \n",
       "\n",
       "       year_built  mobiscore  \\\n",
       "1             NaN        NaN   \n",
       "25            NaN        NaN   \n",
       "37            NaN        NaN   \n",
       "43            NaN        NaN   \n",
       "44            NaN        NaN   \n",
       "...           ...        ...   \n",
       "25195         NaN        9.7   \n",
       "25196         NaN        9.6   \n",
       "25203         NaN        9.7   \n",
       "25306         NaN        9.5   \n",
       "25397         NaN        NaN   \n",
       "\n",
       "                                                     url  \n",
       "1      https://www.zimmo.be/nl/beauraing-5570/te-koop...  \n",
       "25     https://www.zimmo.be/nl/dour-7370/te-koop/huis...  \n",
       "37     https://www.zimmo.be/nl/wiers-7608/te-koop/hui...  \n",
       "43     https://www.zimmo.be/nl/aywaille-4920/te-koop/...  \n",
       "44     https://www.zimmo.be/nl/wasmes-7340/te-koop/hu...  \n",
       "...                                                  ...  \n",
       "25195  https://www.zimmo.be/nl/brussel-1000/te-koop/h...  \n",
       "25196  https://www.zimmo.be/nl/anderlecht-1070/te-koo...  \n",
       "25203  https://www.zimmo.be/nl/brussel-1000/te-koop/h...  \n",
       "25306  https://www.zimmo.be/nl/elsene-1050/te-koop/hu...  \n",
       "25397  https://www.zimmo.be/nl/havre-7021/te-koop/hui...  \n",
       "\n",
       "[1062 rows x 18 columns]"
      ]
     },
     "execution_count": 30,
     "metadata": {},
     "output_type": "execute_result"
    }
   ],
   "source": [
    "raw_df[raw_df[['EPC(kWh/m²)', 'renovation_obligation', 'year_built']].isna().all(axis=1)]"
   ]
  },
  {
   "cell_type": "code",
   "execution_count": 24,
   "id": "9be5cdcd",
   "metadata": {},
   "outputs": [
    {
     "name": "stdout",
     "output_type": "stream",
     "text": [
      "Correlation: 0.04776507923790415\n"
     ]
    }
   ],
   "source": [
    "correlation = raw_df['bedroom'].corr(raw_df['living_area(m²)'])\n",
    "print(\"Correlation:\", correlation)"
   ]
  },
  {
   "cell_type": "markdown",
   "id": "238c5192",
   "metadata": {},
   "source": [
    "#### Dropping the url columns"
   ]
  },
  {
   "cell_type": "code",
   "execution_count": 115,
   "id": "34da7583",
   "metadata": {},
   "outputs": [],
   "source": [
    "clean_df = raw_df.drop(columns={'url'})"
   ]
  },
  {
   "cell_type": "code",
   "execution_count": 77,
   "id": "b84b3ae0",
   "metadata": {},
   "outputs": [
    {
     "data": {
      "text/plain": [
       "np.float64(526991.0466444908)"
      ]
     },
     "execution_count": 77,
     "metadata": {},
     "output_type": "execute_result"
    }
   ],
   "source": [
    "raw_df['price'].mean()"
   ]
  },
  {
   "cell_type": "markdown",
   "id": "4951a35a",
   "metadata": {},
   "source": [
    "### Comparing attributes with price"
   ]
  },
  {
   "cell_type": "code",
   "execution_count": 58,
   "id": "9d84701f",
   "metadata": {},
   "outputs": [],
   "source": [
    "df_n_bedrooms = raw_df[~raw_df[['bedroom']].isna().all(axis=1)]"
   ]
  },
  {
   "cell_type": "code",
   "execution_count": 59,
   "id": "85e4c20c",
   "metadata": {},
   "outputs": [
    {
     "data": {
      "text/plain": [
       "np.float64(542169.1577960246)"
      ]
     },
     "execution_count": 59,
     "metadata": {},
     "output_type": "execute_result"
    }
   ],
   "source": [
    "avg_price_before = df_n_bedrooms['price'].mean()\n",
    "avg_price_before"
   ]
  },
  {
   "cell_type": "markdown",
   "id": "355e1353",
   "metadata": {},
   "source": [
    "#### Excluding EPC"
   ]
  },
  {
   "cell_type": "code",
   "execution_count": 66,
   "id": "5ae89a7a",
   "metadata": {},
   "outputs": [
    {
     "name": "stdout",
     "output_type": "stream",
     "text": [
      "Correlation between EPC and price -0.08285424760200585\n"
     ]
    }
   ],
   "source": [
    "corr_EPC = df_n_bedrooms['price'].corr(df_n_bedrooms['EPC(kWh/m²)'])\n",
    "print(f\"Correlation between EPC and price {corr_EPC}\")"
   ]
  },
  {
   "cell_type": "code",
   "execution_count": 86,
   "id": "cc0fbfa5",
   "metadata": {},
   "outputs": [
    {
     "data": {
      "text/plain": [
       "np.float64(531790.582530695)"
      ]
     },
     "execution_count": 86,
     "metadata": {},
     "output_type": "execute_result"
    }
   ],
   "source": [
    "df_n_bedrooms[df_n_bedrooms['EPC(kWh/m²)'].notna()]['price'].mean()"
   ]
  },
  {
   "cell_type": "code",
   "execution_count": null,
   "id": "364fdaa6",
   "metadata": {},
   "outputs": [
    {
     "name": "stdout",
     "output_type": "stream",
     "text": [
      " Average without EPC attribute 531790.582530695\n"
     ]
    }
   ],
   "source": [
    "df_n_EPC = df_n_bedrooms[~df_n_bedrooms[['EPC(kWh/m²)']].isna().all(axis=1)]\n",
    "print(f\"Average without EPC attribute {df_n_EPC['price'].mean()}\")"
   ]
  },
  {
   "cell_type": "markdown",
   "id": "2c15842d",
   "metadata": {},
   "source": [
    "#### Excluding year_built"
   ]
  },
  {
   "cell_type": "code",
   "execution_count": null,
   "id": "c9e85c90",
   "metadata": {},
   "outputs": [
    {
     "name": "stdout",
     "output_type": "stream",
     "text": [
      " Average without year_built attribute 562942.6589981682\n"
     ]
    }
   ],
   "source": [
    "df_n_year = df_n_bedrooms[~df_n_bedrooms[['year_built']].isna().all(axis=1)]\n",
    "print(f\"Average without year_built attribute {df_n_year['price'].mean()}\")"
   ]
  },
  {
   "cell_type": "markdown",
   "id": "8c7394c6",
   "metadata": {},
   "source": [
    "#### Excluding renovation_obligation"
   ]
  },
  {
   "cell_type": "code",
   "execution_count": null,
   "id": "bdb183be",
   "metadata": {},
   "outputs": [
    {
     "name": "stdout",
     "output_type": "stream",
     "text": [
      " Average without renovation_obligation attribute 542408.206654972\n"
     ]
    },
    {
     "data": {
      "text/plain": [
       "4045"
      ]
     },
     "execution_count": 90,
     "metadata": {},
     "output_type": "execute_result"
    }
   ],
   "source": [
    "df_n_ren = df_n_bedrooms[~df_n_bedrooms[['renovation_obligation']].isna().all(axis=1)]\n",
    "print(f\" Average without renovation_obligation attribute {df_n_ren['price'].mean()}\")\n"
   ]
  },
  {
   "cell_type": "code",
   "execution_count": 92,
   "id": "b67b6aa8",
   "metadata": {},
   "outputs": [
    {
     "name": "stdout",
     "output_type": "stream",
     "text": [
      " Average without mobiscore attribute 563950.8678374153\n"
     ]
    }
   ],
   "source": [
    "df_n_mobi = df_n_bedrooms[~df_n_bedrooms[['mobiscore']].isna().all(axis=1)]\n",
    "print(f\" Average without mobiscore attribute {df_n_mobi['price'].mean()}\")\n"
   ]
  },
  {
   "cell_type": "code",
   "execution_count": 97,
   "id": "854a6f5c",
   "metadata": {},
   "outputs": [
    {
     "data": {
      "text/plain": [
       "<Axes: xlabel='living_area(m²)', ylabel='price'>"
      ]
     },
     "execution_count": 97,
     "metadata": {},
     "output_type": "execute_result"
    },
    {
     "data": {
      "image/png": "[encoded data removed]",
      "text/plain": [
       "<Figure size 640x480 with 1 Axes>"
      ]
     },
     "metadata": {},
     "output_type": "display_data"
    }
   ],
   "source": [
    "sns.scatterplot(x='living_area(m²)', y='price', data = df_n_bedrooms.head(1000))"
   ]
  }
 ],
 "metadata": {
  "kernelspec": {
   "display_name": "venv",
   "language": "python",
   "name": "python3"
  },
  "language_info": {
   "codemirror_mode": {
    "name": "ipython",
    "version": 3
   },
   "file_extension": ".py",
   "mimetype": "text/x-python",
   "name": "python",
   "nbconvert_exporter": "python",
   "pygments_lexer": "ipython3",
   "version": "3.10.4"
  }
 },
 "nbformat": 4,
 "nbformat_minor": 5
}
