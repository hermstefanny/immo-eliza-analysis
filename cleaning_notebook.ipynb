{
 "cells": [
  {
   "cell_type": "code",
   "execution_count": 2,
   "id": "2cf57823",
   "metadata": {},
   "outputs": [],
   "source": [
    "import pandas as pd\n",
    "import matplotlib as plt\n",
    "import seaborn as sns\n",
    "from clean_dataset import import_csv_data"
   ]
  },
  {
   "cell_type": "code",
   "execution_count": 3,
   "id": "c0033ece",
   "metadata": {},
   "outputs": [],
   "source": [
    "file_path = 'data\\properties06191148_modified.csv'\n",
    "raw_df = import_csv_data(file_path)\n"
   ]
  },
  {
   "cell_type": "markdown",
   "id": "b8576de3",
   "metadata": {},
   "source": [
    "### Change columns names"
   ]
  },
  {
   "cell_type": "code",
   "execution_count": 5,
   "id": "90e0398a",
   "metadata": {},
   "outputs": [
    {
     "data": {
      "text/plain": [
       "Index(['zimmo code', 'type', 'price', 'street', 'number', 'postcode', 'city',\n",
       "       'living area(m²)', 'ground area(m²)', 'bedroom', 'bathroom', 'garage',\n",
       "       'garden', 'EPC(kWh/m²)', 'renovation obligation', 'year built',\n",
       "       'mobiscore', 'url'],\n",
       "      dtype='object')"
      ]
     },
     "execution_count": 5,
     "metadata": {},
     "output_type": "execute_result"
    }
   ],
   "source": [
    "raw_df.columns"
   ]
  },
  {
   "cell_type": "code",
   "execution_count": 6,
   "id": "6551771b",
   "metadata": {},
   "outputs": [],
   "source": [
    "def join_column_names(df:pd) -> None:\n",
    "    columns_new_names = dict()\n",
    "    for column in df.columns:\n",
    "        s = \"_\".join(column.split())\n",
    "        if s != column:\n",
    "            columns_new_names[column] = s\n",
    "\n",
    "    df.rename(columns=columns_new_names, inplace=True)"
   ]
  },
  {
   "cell_type": "code",
   "execution_count": 12,
   "id": "3a976503",
   "metadata": {},
   "outputs": [],
   "source": [
    "join_column_names(raw_df)"
   ]
  },
  {
   "cell_type": "markdown",
   "id": "2389c194",
   "metadata": {},
   "source": [
    "#### Duplicates"
   ]
  },
  {
   "cell_type": "code",
   "execution_count": 4,
   "id": "4afe9c45",
   "metadata": {},
   "outputs": [
    {
     "data": {
      "application/vnd.microsoft.datawrangler.viewer.v0+json": {
       "columns": [
        {
         "name": "index",
         "rawType": "int64",
         "type": "integer"
        },
        {
         "name": "zimmo code",
         "rawType": "object",
         "type": "string"
        },
        {
         "name": "type",
         "rawType": "object",
         "type": "string"
        },
        {
         "name": "price",
         "rawType": "float64",
         "type": "float"
        },
        {
         "name": "street",
         "rawType": "object",
         "type": "string"
        },
        {
         "name": "number",
         "rawType": "object",
         "type": "string"
        },
        {
         "name": "postcode",
         "rawType": "object",
         "type": "string"
        },
        {
         "name": "city",
         "rawType": "object",
         "type": "string"
        },
        {
         "name": "living area(m²)",
         "rawType": "float64",
         "type": "float"
        },
        {
         "name": "ground area(m²)",
         "rawType": "float64",
         "type": "float"
        },
        {
         "name": "bedroom",
         "rawType": "float64",
         "type": "float"
        },
        {
         "name": "bathroom",
         "rawType": "float64",
         "type": "float"
        },
        {
         "name": "garage",
         "rawType": "float64",
         "type": "float"
        },
        {
         "name": "garden",
         "rawType": "bool",
         "type": "boolean"
        },
        {
         "name": "EPC(kWh/m²)",
         "rawType": "float64",
         "type": "float"
        },
        {
         "name": "renovation obligation",
         "rawType": "object",
         "type": "string"
        },
        {
         "name": "year built",
         "rawType": "float64",
         "type": "float"
        },
        {
         "name": "mobiscore",
         "rawType": "float64",
         "type": "float"
        },
        {
         "name": "url",
         "rawType": "object",
         "type": "string"
        }
       ],
       "ref": "c0826b65-6783-4906-847f-1c0fb343d0cb",
       "rows": [],
       "shape": {
        "columns": 18,
        "rows": 0
       }
      },
      "text/html": [
       "<div>\n",
       "<style scoped>\n",
       "    .dataframe tbody tr th:only-of-type {\n",
       "        vertical-align: middle;\n",
       "    }\n",
       "\n",
       "    .dataframe tbody tr th {\n",
       "        vertical-align: top;\n",
       "    }\n",
       "\n",
       "    .dataframe thead th {\n",
       "        text-align: right;\n",
       "    }\n",
       "</style>\n",
       "<table border=\"1\" class=\"dataframe\">\n",
       "  <thead>\n",
       "    <tr style=\"text-align: right;\">\n",
       "      <th></th>\n",
       "      <th>zimmo code</th>\n",
       "      <th>type</th>\n",
       "      <th>price</th>\n",
       "      <th>street</th>\n",
       "      <th>number</th>\n",
       "      <th>postcode</th>\n",
       "      <th>city</th>\n",
       "      <th>living area(m²)</th>\n",
       "      <th>ground area(m²)</th>\n",
       "      <th>bedroom</th>\n",
       "      <th>bathroom</th>\n",
       "      <th>garage</th>\n",
       "      <th>garden</th>\n",
       "      <th>EPC(kWh/m²)</th>\n",
       "      <th>renovation obligation</th>\n",
       "      <th>year built</th>\n",
       "      <th>mobiscore</th>\n",
       "      <th>url</th>\n",
       "    </tr>\n",
       "  </thead>\n",
       "  <tbody>\n",
       "  </tbody>\n",
       "</table>\n",
       "</div>"
      ],
      "text/plain": [
       "Empty DataFrame\n",
       "Columns: [zimmo code, type, price, street, number, postcode, city, living area(m²), ground area(m²), bedroom, bathroom, garage, garden, EPC(kWh/m²), renovation obligation, year built, mobiscore, url]\n",
       "Index: []"
      ]
     },
     "execution_count": 4,
     "metadata": {},
     "output_type": "execute_result"
    }
   ],
   "source": [
    "raw_df[raw_df.duplicated()]"
   ]
  },
  {
   "cell_type": "code",
   "execution_count": 7,
   "id": "d5acafb2",
   "metadata": {},
   "outputs": [
    {
     "data": {
      "text/plain": [
       "25403"
      ]
     },
     "execution_count": 7,
     "metadata": {},
     "output_type": "execute_result"
    }
   ],
   "source": [
    "len(raw_df)"
   ]
  },
  {
   "cell_type": "code",
   "execution_count": 8,
   "id": "73a7d986",
   "metadata": {},
   "outputs": [],
   "source": [
    "raw_df.drop_duplicates(subset=['zimmo code'], inplace=True)"
   ]
  },
  {
   "cell_type": "code",
   "execution_count": 9,
   "id": "bd9635a1",
   "metadata": {},
   "outputs": [
    {
     "data": {
      "text/plain": [
       "25403"
      ]
     },
     "execution_count": 9,
     "metadata": {},
     "output_type": "execute_result"
    }
   ],
   "source": [
    "len(raw_df)"
   ]
  },
  {
   "cell_type": "code",
   "execution_count": 30,
   "id": "0055d8ef",
   "metadata": {},
   "outputs": [
    {
     "data": {
      "application/vnd.microsoft.datawrangler.viewer.v0+json": {
       "columns": [
        {
         "name": "index",
         "rawType": "int64",
         "type": "integer"
        },
        {
         "name": "zimmo code",
         "rawType": "object",
         "type": "string"
        },
        {
         "name": "type",
         "rawType": "object",
         "type": "string"
        },
        {
         "name": "price",
         "rawType": "float64",
         "type": "float"
        },
        {
         "name": "street",
         "rawType": "object",
         "type": "unknown"
        },
        {
         "name": "number",
         "rawType": "object",
         "type": "unknown"
        },
        {
         "name": "postcode",
         "rawType": "object",
         "type": "string"
        },
        {
         "name": "city",
         "rawType": "object",
         "type": "string"
        },
        {
         "name": "living area(m²)",
         "rawType": "float64",
         "type": "float"
        },
        {
         "name": "ground area(m²)",
         "rawType": "float64",
         "type": "float"
        },
        {
         "name": "bedroom",
         "rawType": "float64",
         "type": "float"
        },
        {
         "name": "bathroom",
         "rawType": "float64",
         "type": "float"
        },
        {
         "name": "garage",
         "rawType": "float64",
         "type": "float"
        },
        {
         "name": "garden",
         "rawType": "bool",
         "type": "boolean"
        },
        {
         "name": "EPC(kWh/m²)",
         "rawType": "float64",
         "type": "float"
        },
        {
         "name": "renovation obligation",
         "rawType": "object",
         "type": "unknown"
        },
        {
         "name": "year built",
         "rawType": "float64",
         "type": "float"
        },
        {
         "name": "mobiscore",
         "rawType": "float64",
         "type": "float"
        },
        {
         "name": "url",
         "rawType": "object",
         "type": "string"
        }
       ],
       "ref": "c0867ed5-df3d-4bd2-8daa-9f68a2c0401c",
       "rows": [
        [
         "0",
         "L97OB",
         "Vakantiewoning (Huis)",
         "25000.0",
         null,
         null,
         "8620",
         "Nieuwpoort",
         "35.0",
         "128.0",
         "2.0",
         "1.0",
         null,
         "False",
         null,
         "False",
         null,
         "7.0",
         "https://www.zimmo.be/nl/nieuwpoort-8620/te-koop/huis/L97OB/?search=eyJmaWx0ZXIiOiB7InN0YXR1cyI6IHsiaW4iOiBbIkZPUl9TQUxFIiwgIlRBS0VfT1ZFUiJdfSwgImNhdGVnb3J5IjogeyJpbiI6IFsiSE9VU0UiLCAiQVBBUlRNRU5UIl19LCAicHJpY2UiOiB7InVua25vd24iOiBmYWxzZSwgInJhbmdlIjogeyJtaW4iOiAwLCAibWF4IjogNDk5OTl9fX19"
        ],
        [
         "1",
         "L9SVC",
         "Appartement",
         "45000.0",
         null,
         null,
         "5570",
         "Beauraing",
         "62.0",
         null,
         "2.0",
         "1.0",
         null,
         "False",
         null,
         null,
         null,
         null,
         "https://www.zimmo.be/nl/beauraing-5570/te-koop/appartement/L9SVC/?search=eyJmaWx0ZXIiOiB7InN0YXR1cyI6IHsiaW4iOiBbIkZPUl9TQUxFIiwgIlRBS0VfT1ZFUiJdfSwgImNhdGVnb3J5IjogeyJpbiI6IFsiSE9VU0UiLCAiQVBBUlRNRU5UIl19LCAicHJpY2UiOiB7InVua25vd24iOiBmYWxzZSwgInJhbmdlIjogeyJtaW4iOiAwLCAibWF4IjogNDk5OTl9fX19"
        ],
        [
         "2",
         "LA02N",
         "Rijwoning (Huis)",
         "45000.0",
         "Oudestraat",
         "94",
         "9600",
         "Ronse",
         null,
         "232.0",
         "2.0",
         "1.0",
         null,
         "False",
         "716.0",
         "True",
         "1850.0",
         "7.3",
         "https://www.zimmo.be/nl/ronse-9600/te-koop/huis/LA02N/?search=eyJmaWx0ZXIiOiB7InN0YXR1cyI6IHsiaW4iOiBbIkZPUl9TQUxFIiwgIlRBS0VfT1ZFUiJdfSwgImNhdGVnb3J5IjogeyJpbiI6IFsiSE9VU0UiLCAiQVBBUlRNRU5UIl19LCAicHJpY2UiOiB7InVua25vd24iOiBmYWxzZSwgInJhbmdlIjogeyJtaW4iOiAwLCAibWF4IjogNDk5OTl9fX19"
        ],
        [
         "3",
         "L4X2D",
         "Vakantiewoning (Huis)",
         "40000.0",
         "Molenheidestraat",
         "7",
         "3530",
         "Helchteren",
         "45.0",
         null,
         null,
         null,
         null,
         "False",
         null,
         "False",
         null,
         "5.3",
         "https://www.zimmo.be/nl/helchteren-3530/te-koop/huis/L4X2D/?search=eyJmaWx0ZXIiOiB7InN0YXR1cyI6IHsiaW4iOiBbIkZPUl9TQUxFIiwgIlRBS0VfT1ZFUiJdfSwgImNhdGVnb3J5IjogeyJpbiI6IFsiSE9VU0UiLCAiQVBBUlRNRU5UIl19LCAicHJpY2UiOiB7InVua25vd24iOiBmYWxzZSwgInJhbmdlIjogeyJtaW4iOiAwLCAibWF4IjogNDk5OTl9fX19&boosted=1"
        ],
        [
         "4",
         "L9KJ7",
         "Eengezinswoning (Huis)",
         "49900.0",
         "Route Napoléon",
         "10",
         "4400",
         "Ivoz-Ramet",
         "123.0",
         "8885.0",
         "2.0",
         "1.0",
         null,
         "False",
         "569.0",
         null,
         null,
         null,
         "https://www.zimmo.be/nl/ivoz-ramet-4400/te-koop/huis/L9KJ7/?search=eyJmaWx0ZXIiOiB7InN0YXR1cyI6IHsiaW4iOiBbIkZPUl9TQUxFIiwgIlRBS0VfT1ZFUiJdfSwgImNhdGVnb3J5IjogeyJpbiI6IFsiSE9VU0UiLCAiQVBBUlRNRU5UIl19LCAicHJpY2UiOiB7InVua25vd24iOiBmYWxzZSwgInJhbmdlIjogeyJtaW4iOiAwLCAibWF4IjogNDk5OTl9fX19"
        ]
       ],
       "shape": {
        "columns": 18,
        "rows": 5
       }
      },
      "text/html": [
       "<div>\n",
       "<style scoped>\n",
       "    .dataframe tbody tr th:only-of-type {\n",
       "        vertical-align: middle;\n",
       "    }\n",
       "\n",
       "    .dataframe tbody tr th {\n",
       "        vertical-align: top;\n",
       "    }\n",
       "\n",
       "    .dataframe thead th {\n",
       "        text-align: right;\n",
       "    }\n",
       "</style>\n",
       "<table border=\"1\" class=\"dataframe\">\n",
       "  <thead>\n",
       "    <tr style=\"text-align: right;\">\n",
       "      <th></th>\n",
       "      <th>zimmo code</th>\n",
       "      <th>type</th>\n",
       "      <th>price</th>\n",
       "      <th>street</th>\n",
       "      <th>number</th>\n",
       "      <th>postcode</th>\n",
       "      <th>city</th>\n",
       "      <th>living area(m²)</th>\n",
       "      <th>ground area(m²)</th>\n",
       "      <th>bedroom</th>\n",
       "      <th>bathroom</th>\n",
       "      <th>garage</th>\n",
       "      <th>garden</th>\n",
       "      <th>EPC(kWh/m²)</th>\n",
       "      <th>renovation obligation</th>\n",
       "      <th>year built</th>\n",
       "      <th>mobiscore</th>\n",
       "      <th>url</th>\n",
       "    </tr>\n",
       "  </thead>\n",
       "  <tbody>\n",
       "    <tr>\n",
       "      <th>0</th>\n",
       "      <td>L97OB</td>\n",
       "      <td>Vakantiewoning (Huis)</td>\n",
       "      <td>25000.0</td>\n",
       "      <td>NaN</td>\n",
       "      <td>NaN</td>\n",
       "      <td>8620</td>\n",
       "      <td>Nieuwpoort</td>\n",
       "      <td>35.0</td>\n",
       "      <td>128.0</td>\n",
       "      <td>2.0</td>\n",
       "      <td>1.0</td>\n",
       "      <td>NaN</td>\n",
       "      <td>False</td>\n",
       "      <td>NaN</td>\n",
       "      <td>False</td>\n",
       "      <td>NaN</td>\n",
       "      <td>7.0</td>\n",
       "      <td>https://www.zimmo.be/nl/nieuwpoort-8620/te-koo...</td>\n",
       "    </tr>\n",
       "    <tr>\n",
       "      <th>1</th>\n",
       "      <td>L9SVC</td>\n",
       "      <td>Appartement</td>\n",
       "      <td>45000.0</td>\n",
       "      <td>NaN</td>\n",
       "      <td>NaN</td>\n",
       "      <td>5570</td>\n",
       "      <td>Beauraing</td>\n",
       "      <td>62.0</td>\n",
       "      <td>NaN</td>\n",
       "      <td>2.0</td>\n",
       "      <td>1.0</td>\n",
       "      <td>NaN</td>\n",
       "      <td>False</td>\n",
       "      <td>NaN</td>\n",
       "      <td>NaN</td>\n",
       "      <td>NaN</td>\n",
       "      <td>NaN</td>\n",
       "      <td>https://www.zimmo.be/nl/beauraing-5570/te-koop...</td>\n",
       "    </tr>\n",
       "    <tr>\n",
       "      <th>2</th>\n",
       "      <td>LA02N</td>\n",
       "      <td>Rijwoning (Huis)</td>\n",
       "      <td>45000.0</td>\n",
       "      <td>Oudestraat</td>\n",
       "      <td>94</td>\n",
       "      <td>9600</td>\n",
       "      <td>Ronse</td>\n",
       "      <td>NaN</td>\n",
       "      <td>232.0</td>\n",
       "      <td>2.0</td>\n",
       "      <td>1.0</td>\n",
       "      <td>NaN</td>\n",
       "      <td>False</td>\n",
       "      <td>716.0</td>\n",
       "      <td>True</td>\n",
       "      <td>1850.0</td>\n",
       "      <td>7.3</td>\n",
       "      <td>https://www.zimmo.be/nl/ronse-9600/te-koop/hui...</td>\n",
       "    </tr>\n",
       "    <tr>\n",
       "      <th>3</th>\n",
       "      <td>L4X2D</td>\n",
       "      <td>Vakantiewoning (Huis)</td>\n",
       "      <td>40000.0</td>\n",
       "      <td>Molenheidestraat</td>\n",
       "      <td>7</td>\n",
       "      <td>3530</td>\n",
       "      <td>Helchteren</td>\n",
       "      <td>45.0</td>\n",
       "      <td>NaN</td>\n",
       "      <td>NaN</td>\n",
       "      <td>NaN</td>\n",
       "      <td>NaN</td>\n",
       "      <td>False</td>\n",
       "      <td>NaN</td>\n",
       "      <td>False</td>\n",
       "      <td>NaN</td>\n",
       "      <td>5.3</td>\n",
       "      <td>https://www.zimmo.be/nl/helchteren-3530/te-koo...</td>\n",
       "    </tr>\n",
       "    <tr>\n",
       "      <th>4</th>\n",
       "      <td>L9KJ7</td>\n",
       "      <td>Eengezinswoning (Huis)</td>\n",
       "      <td>49900.0</td>\n",
       "      <td>Route Napoléon</td>\n",
       "      <td>10</td>\n",
       "      <td>4400</td>\n",
       "      <td>Ivoz-Ramet</td>\n",
       "      <td>123.0</td>\n",
       "      <td>8885.0</td>\n",
       "      <td>2.0</td>\n",
       "      <td>1.0</td>\n",
       "      <td>NaN</td>\n",
       "      <td>False</td>\n",
       "      <td>569.0</td>\n",
       "      <td>NaN</td>\n",
       "      <td>NaN</td>\n",
       "      <td>NaN</td>\n",
       "      <td>https://www.zimmo.be/nl/ivoz-ramet-4400/te-koo...</td>\n",
       "    </tr>\n",
       "  </tbody>\n",
       "</table>\n",
       "</div>"
      ],
      "text/plain": [
       "  zimmo code  ...                                                url\n",
       "0      L97OB  ...  https://www.zimmo.be/nl/nieuwpoort-8620/te-koo...\n",
       "1      L9SVC  ...  https://www.zimmo.be/nl/beauraing-5570/te-koop...\n",
       "2      LA02N  ...  https://www.zimmo.be/nl/ronse-9600/te-koop/hui...\n",
       "3      L4X2D  ...  https://www.zimmo.be/nl/helchteren-3530/te-koo...\n",
       "4      L9KJ7  ...  https://www.zimmo.be/nl/ivoz-ramet-4400/te-koo...\n",
       "\n",
       "[5 rows x 18 columns]"
      ]
     },
     "execution_count": 30,
     "metadata": {},
     "output_type": "execute_result"
    }
   ],
   "source": [
    "raw_df.head()"
   ]
  },
  {
   "cell_type": "markdown",
   "id": "08201f2b",
   "metadata": {},
   "source": [
    "#### Bedroom"
   ]
  },
  {
   "cell_type": "code",
   "execution_count": null,
   "id": "dc9568fe",
   "metadata": {},
   "outputs": [
    {
     "data": {
      "application/vnd.microsoft.datawrangler.viewer.v0+json": {
       "columns": [
        {
         "name": "index",
         "rawType": "object",
         "type": "string"
        },
        {
         "name": "bedroom",
         "rawType": "float64",
         "type": "float"
        }
       ],
       "ref": "5114c8a0-b2ec-4eef-a158-a697519234d9",
       "rows": [
        [
         "count",
         "22287.0"
        ],
        [
         "mean",
         "3.1440301521066094"
        ],
        [
         "std",
         "1.7621472772279105"
        ],
        [
         "min",
         "0.0"
        ],
        [
         "25%",
         "2.0"
        ],
        [
         "50%",
         "3.0"
        ],
        [
         "75%",
         "4.0"
        ],
        [
         "max",
         "79.0"
        ]
       ],
       "shape": {
        "columns": 1,
        "rows": 8
       }
      },
      "text/plain": [
       "count    22287.000000\n",
       "mean         3.144030\n",
       "std          1.762147\n",
       "min          0.000000\n",
       "25%          2.000000\n",
       "50%          3.000000\n",
       "75%          4.000000\n",
       "max         79.000000\n",
       "Name: bedroom, dtype: float64"
      ]
     },
     "execution_count": 33,
     "metadata": {},
     "output_type": "execute_result"
    }
   ],
   "source": [
    "raw_df['bedroom'].describe()\n"
   ]
  },
  {
   "cell_type": "code",
   "execution_count": 39,
   "id": "67ecde98",
   "metadata": {},
   "outputs": [
    {
     "data": {
      "text/plain": [
       "3116"
      ]
     },
     "execution_count": 39,
     "metadata": {},
     "output_type": "execute_result"
    }
   ],
   "source": [
    "# Null values\n",
    "number_of_nan_bedrooms = len(raw_df[raw_df['bedroom'].isna()])\n",
    "number_of_nan_bedrooms"
   ]
  },
  {
   "cell_type": "markdown",
   "id": "a8a37e21",
   "metadata": {},
   "source": [
    "#### Bathroom"
   ]
  },
  {
   "cell_type": "code",
   "execution_count": 42,
   "id": "a7ed879f",
   "metadata": {},
   "outputs": [
    {
     "data": {
      "application/vnd.microsoft.datawrangler.viewer.v0+json": {
       "columns": [
        {
         "name": "index",
         "rawType": "object",
         "type": "string"
        },
        {
         "name": "bathroom",
         "rawType": "float64",
         "type": "float"
        }
       ],
       "ref": "91abba22-80cf-4dbc-b793-f41e84424b19",
       "rows": [
        [
         "count",
         "20773.0"
        ],
        [
         "mean",
         "1.4821162085399315"
        ],
        [
         "std",
         "1.0732960820103647"
        ],
        [
         "min",
         "1.0"
        ],
        [
         "25%",
         "1.0"
        ],
        [
         "50%",
         "1.0"
        ],
        [
         "75%",
         "2.0"
        ],
        [
         "max",
         "29.0"
        ]
       ],
       "shape": {
        "columns": 1,
        "rows": 8
       }
      },
      "text/plain": [
       "count    20773.000000\n",
       "mean         1.482116\n",
       "std          1.073296\n",
       "min          1.000000\n",
       "25%          1.000000\n",
       "50%          1.000000\n",
       "75%          2.000000\n",
       "max         29.000000\n",
       "Name: bathroom, dtype: float64"
      ]
     },
     "execution_count": 42,
     "metadata": {},
     "output_type": "execute_result"
    }
   ],
   "source": [
    "raw_df['bathroom'].describe()"
   ]
  },
  {
   "cell_type": "code",
   "execution_count": 43,
   "id": "04edb5f8",
   "metadata": {},
   "outputs": [
    {
     "data": {
      "text/plain": [
       "4630"
      ]
     },
     "execution_count": 43,
     "metadata": {},
     "output_type": "execute_result"
    }
   ],
   "source": [
    "number_of_nan_bathrooms = len(raw_df[raw_df['bathroom'].isna()])\n",
    "number_of_nan_bathrooms"
   ]
  },
  {
   "cell_type": "markdown",
   "id": "037928a2",
   "metadata": {},
   "source": [
    "#### Garage"
   ]
  },
  {
   "cell_type": "code",
   "execution_count": 44,
   "id": "df305bff",
   "metadata": {},
   "outputs": [
    {
     "data": {
      "application/vnd.microsoft.datawrangler.viewer.v0+json": {
       "columns": [
        {
         "name": "index",
         "rawType": "object",
         "type": "string"
        },
        {
         "name": "garage",
         "rawType": "float64",
         "type": "float"
        }
       ],
       "ref": "546d9295-4ef1-4d29-828a-2745d7109da8",
       "rows": [
        [
         "count",
         "8859.0"
        ],
        [
         "mean",
         "1.3852579297889152"
        ],
        [
         "std",
         "2.6172249019015754"
        ],
        [
         "min",
         "1.0"
        ],
        [
         "25%",
         "1.0"
        ],
        [
         "50%",
         "1.0"
        ],
        [
         "75%",
         "1.0"
        ],
        [
         "max",
         "110.0"
        ]
       ],
       "shape": {
        "columns": 1,
        "rows": 8
       }
      },
      "text/plain": [
       "count    8859.000000\n",
       "mean        1.385258\n",
       "std         2.617225\n",
       "min         1.000000\n",
       "25%         1.000000\n",
       "50%         1.000000\n",
       "75%         1.000000\n",
       "max       110.000000\n",
       "Name: garage, dtype: float64"
      ]
     },
     "execution_count": 44,
     "metadata": {},
     "output_type": "execute_result"
    }
   ],
   "source": [
    "raw_df['garage'].describe()"
   ]
  },
  {
   "cell_type": "code",
   "execution_count": 52,
   "id": "eac67bc9",
   "metadata": {},
   "outputs": [
    {
     "data": {
      "text/plain": [
       "0"
      ]
     },
     "execution_count": 52,
     "metadata": {},
     "output_type": "execute_result"
    }
   ],
   "source": [
    "number_of_nan_garage = len(raw_df[raw_df['garage'].isna()])\n",
    "number_of_nan_garage "
   ]
  },
  {
   "cell_type": "markdown",
   "id": "81fdb268",
   "metadata": {},
   "source": [
    "##### Replace NaN elements with 0's"
   ]
  },
  {
   "cell_type": "code",
   "execution_count": 82,
   "id": "83973e9e",
   "metadata": {},
   "outputs": [
    {
     "name": "stderr",
     "output_type": "stream",
     "text": [
      "C:\\Users\\herms\\AppData\\Local\\Temp\\ipykernel_6208\\523427857.py:1: FutureWarning: A value is trying to be set on a copy of a DataFrame or Series through chained assignment using an inplace method.\n",
      "The behavior will change in pandas 3.0. This inplace method will never work because the intermediate object on which we are setting values always behaves as a copy.\n",
      "\n",
      "For example, when doing 'df[col].method(value, inplace=True)', try using 'df.method({col: value}, inplace=True)' or df[col] = df[col].method(value) instead, to perform the operation inplace on the original object.\n",
      "\n",
      "\n",
      "  raw_df['garage'].fillna(0,inplace=True)\n"
     ]
    }
   ],
   "source": [
    "raw_df['garage'].fillna(0,inplace=True)"
   ]
  },
  {
   "cell_type": "code",
   "execution_count": 83,
   "id": "f3d7b87d",
   "metadata": {},
   "outputs": [
    {
     "data": {
      "text/plain": [
       "0"
      ]
     },
     "execution_count": 83,
     "metadata": {},
     "output_type": "execute_result"
    }
   ],
   "source": [
    "number_of_nan_garage = len(raw_df[raw_df['garage'].isna()])\n",
    "number_of_nan_garage "
   ]
  },
  {
   "cell_type": "code",
   "execution_count": null,
   "id": "e2f9be7f",
   "metadata": {},
   "outputs": [],
   "source": [
    "join_column_names(raw_df)"
   ]
  },
  {
   "cell_type": "markdown",
   "id": "77b8f46a",
   "metadata": {},
   "source": [
    "#### Garden"
   ]
  },
  {
   "cell_type": "code",
   "execution_count": 49,
   "id": "cd93abc0",
   "metadata": {},
   "outputs": [
    {
     "data": {
      "application/vnd.microsoft.datawrangler.viewer.v0+json": {
       "columns": [
        {
         "name": "index",
         "rawType": "object",
         "type": "string"
        },
        {
         "name": "garden",
         "rawType": "object",
         "type": "unknown"
        }
       ],
       "ref": "d61a4d30-9c39-4c32-aecb-85ed46d85a3e",
       "rows": [
        [
         "count",
         "25403"
        ],
        [
         "unique",
         "2"
        ],
        [
         "top",
         "False"
        ],
        [
         "freq",
         "20835"
        ]
       ],
       "shape": {
        "columns": 1,
        "rows": 4
       }
      },
      "text/plain": [
       "count     25403\n",
       "unique        2\n",
       "top       False\n",
       "freq      20835\n",
       "Name: garden, dtype: object"
      ]
     },
     "execution_count": 49,
     "metadata": {},
     "output_type": "execute_result"
    }
   ],
   "source": [
    "raw_df['garden'].describe()"
   ]
  },
  {
   "cell_type": "code",
   "execution_count": 51,
   "id": "67f5ca7f",
   "metadata": {},
   "outputs": [
    {
     "data": {
      "text/plain": [
       "0"
      ]
     },
     "execution_count": 51,
     "metadata": {},
     "output_type": "execute_result"
    }
   ],
   "source": [
    "number_of_nan_garden = len(raw_df[raw_df['garden'].isna()])\n",
    "number_of_nan_garden"
   ]
  },
  {
   "cell_type": "markdown",
   "id": "f08076dd",
   "metadata": {},
   "source": [
    "#### EPC"
   ]
  },
  {
   "cell_type": "code",
   "execution_count": 53,
   "id": "7daa28bb",
   "metadata": {},
   "outputs": [
    {
     "data": {
      "application/vnd.microsoft.datawrangler.viewer.v0+json": {
       "columns": [
        {
         "name": "index",
         "rawType": "object",
         "type": "string"
        },
        {
         "name": "EPC(kWh/m²)",
         "rawType": "float64",
         "type": "float"
        }
       ],
       "ref": "39e8adca-0e00-43e1-a503-84d095ecf026",
       "rows": [
        [
         "count",
         "17467.0"
        ],
        [
         "mean",
         "309.1277265701036"
        ],
        [
         "std",
         "454.99304892507706"
        ],
        [
         "min",
         "0.0"
        ],
        [
         "25%",
         "139.0"
        ],
        [
         "50%",
         "237.0"
        ],
        [
         "75%",
         "383.0"
        ],
        [
         "max",
         "14954.0"
        ]
       ],
       "shape": {
        "columns": 1,
        "rows": 8
       }
      },
      "text/plain": [
       "count    17467.000000\n",
       "mean       309.127727\n",
       "std        454.993049\n",
       "min          0.000000\n",
       "25%        139.000000\n",
       "50%        237.000000\n",
       "75%        383.000000\n",
       "max      14954.000000\n",
       "Name: EPC(kWh/m²), dtype: float64"
      ]
     },
     "execution_count": 53,
     "metadata": {},
     "output_type": "execute_result"
    }
   ],
   "source": [
    "raw_df['EPC(kWh/m²)'].describe()"
   ]
  },
  {
   "cell_type": "code",
   "execution_count": 55,
   "id": "a82188ba",
   "metadata": {},
   "outputs": [
    {
     "data": {
      "text/plain": [
       "7936"
      ]
     },
     "execution_count": 55,
     "metadata": {},
     "output_type": "execute_result"
    }
   ],
   "source": [
    "number_of_nan_EPC = len(raw_df[raw_df['EPC(kWh/m²)'].isna()])\n",
    "number_of_nan_EPC"
   ]
  },
  {
   "cell_type": "markdown",
   "id": "7dfc19a9",
   "metadata": {},
   "source": [
    "#### Renovation Obligation"
   ]
  },
  {
   "cell_type": "code",
   "execution_count": 56,
   "id": "f245bb6b",
   "metadata": {},
   "outputs": [
    {
     "data": {
      "application/vnd.microsoft.datawrangler.viewer.v0+json": {
       "columns": [
        {
         "name": "index",
         "rawType": "object",
         "type": "string"
        },
        {
         "name": "renovation obligation",
         "rawType": "object",
         "type": "unknown"
        }
       ],
       "ref": "bfcebf4a-7a76-49f1-9809-c9a7c18ca3c7",
       "rows": [
        [
         "count",
         "19275"
        ],
        [
         "unique",
         "2"
        ],
        [
         "top",
         "False"
        ],
        [
         "freq",
         "16259"
        ]
       ],
       "shape": {
        "columns": 1,
        "rows": 4
       }
      },
      "text/plain": [
       "count     19275\n",
       "unique        2\n",
       "top       False\n",
       "freq      16259\n",
       "Name: renovation obligation, dtype: object"
      ]
     },
     "execution_count": 56,
     "metadata": {},
     "output_type": "execute_result"
    }
   ],
   "source": [
    "raw_df['renovation obligation'].describe()\n"
   ]
  },
  {
   "cell_type": "code",
   "execution_count": 57,
   "id": "f67aa205",
   "metadata": {},
   "outputs": [
    {
     "data": {
      "text/plain": [
       "6128"
      ]
     },
     "execution_count": 57,
     "metadata": {},
     "output_type": "execute_result"
    }
   ],
   "source": [
    "number_of_nan_ren = len(raw_df[raw_df['renovation obligation'].isna()])\n",
    "number_of_nan_ren"
   ]
  },
  {
   "cell_type": "code",
   "execution_count": 58,
   "id": "032b86b6",
   "metadata": {},
   "outputs": [
    {
     "data": {
      "application/vnd.microsoft.datawrangler.viewer.v0+json": {
       "columns": [
        {
         "name": "index",
         "rawType": "object",
         "type": "string"
        },
        {
         "name": "year built",
         "rawType": "float64",
         "type": "float"
        }
       ],
       "ref": "91d9d6d8-c3fb-4833-944d-f70e676dea81",
       "rows": [
        [
         "count",
         "17761.0"
        ],
        [
         "mean",
         "1980.8944879229773"
        ],
        [
         "std",
         "57.72658171019764"
        ],
        [
         "min",
         "6.0"
        ],
        [
         "25%",
         "1961.0"
        ],
        [
         "50%",
         "1989.0"
        ],
        [
         "75%",
         "2022.0"
        ],
        [
         "max",
         "3025.0"
        ]
       ],
       "shape": {
        "columns": 1,
        "rows": 8
       }
      },
      "text/plain": [
       "count    17761.000000\n",
       "mean      1980.894488\n",
       "std         57.726582\n",
       "min          6.000000\n",
       "25%       1961.000000\n",
       "50%       1989.000000\n",
       "75%       2022.000000\n",
       "max       3025.000000\n",
       "Name: year built, dtype: float64"
      ]
     },
     "execution_count": 58,
     "metadata": {},
     "output_type": "execute_result"
    }
   ],
   "source": [
    "raw_df['year built'].describe()\n"
   ]
  },
  {
   "cell_type": "code",
   "execution_count": 59,
   "id": "58f8bc8f",
   "metadata": {},
   "outputs": [
    {
     "data": {
      "text/plain": [
       "7642"
      ]
     },
     "execution_count": 59,
     "metadata": {},
     "output_type": "execute_result"
    }
   ],
   "source": [
    "number_of_nan_year= len(raw_df[raw_df['year built'].isna()])\n",
    "number_of_nan_year"
   ]
  },
  {
   "cell_type": "code",
   "execution_count": 61,
   "id": "1545598d",
   "metadata": {},
   "outputs": [
    {
     "data": {
      "application/vnd.microsoft.datawrangler.viewer.v0+json": {
       "columns": [
        {
         "name": "index",
         "rawType": "object",
         "type": "string"
        },
        {
         "name": "mobiscore",
         "rawType": "float64",
         "type": "float"
        }
       ],
       "ref": "1ac17f7b-90ac-411d-a398-00cacbc8c194",
       "rows": [
        [
         "count",
         "20103.0"
        ],
        [
         "mean",
         "7.855981694274486"
        ],
        [
         "std",
         "1.216389711408343"
        ],
        [
         "min",
         "3.3"
        ],
        [
         "25%",
         "7.0"
        ],
        [
         "50%",
         "8.1"
        ],
        [
         "75%",
         "8.8"
        ],
        [
         "max",
         "9.9"
        ]
       ],
       "shape": {
        "columns": 1,
        "rows": 8
       }
      },
      "text/plain": [
       "count    20103.000000\n",
       "mean         7.855982\n",
       "std          1.216390\n",
       "min          3.300000\n",
       "25%          7.000000\n",
       "50%          8.100000\n",
       "75%          8.800000\n",
       "max          9.900000\n",
       "Name: mobiscore, dtype: float64"
      ]
     },
     "execution_count": 61,
     "metadata": {},
     "output_type": "execute_result"
    }
   ],
   "source": [
    "raw_df['mobiscore'].describe()\n"
   ]
  },
  {
   "cell_type": "code",
   "execution_count": 63,
   "id": "dce2d765",
   "metadata": {},
   "outputs": [
    {
     "data": {
      "text/plain": [
       "5300"
      ]
     },
     "execution_count": 63,
     "metadata": {},
     "output_type": "execute_result"
    }
   ],
   "source": [
    "number_of_nan_mobi = len(raw_df[raw_df['mobiscore'].isna()])\n",
    "number_of_nan_mobi"
   ]
  },
  {
   "cell_type": "code",
   "execution_count": 91,
   "id": "734e9f20",
   "metadata": {},
   "outputs": [],
   "source": [
    "raw_df['postcode'] = raw_df['postcode'].astype('category')"
   ]
  },
  {
   "cell_type": "code",
   "execution_count": 1,
   "id": "b8cc0d2c",
   "metadata": {},
   "outputs": [
    {
     "ename": "NameError",
     "evalue": "name 'sns' is not defined",
     "output_type": "error",
     "traceback": [
      "\u001b[1;31m---------------------------------------------------------------------------\u001b[0m",
      "\u001b[1;31mNameError\u001b[0m                                 Traceback (most recent call last)",
      "Cell \u001b[1;32mIn[1], line 1\u001b[0m\n\u001b[1;32m----> 1\u001b[0m \u001b[43msns\u001b[49m\u001b[38;5;241m.\u001b[39mswarmplot(x\u001b[38;5;241m=\u001b[39m\u001b[38;5;124m'\u001b[39m\u001b[38;5;124mpostcode\u001b[39m\u001b[38;5;124m'\u001b[39m, y\u001b[38;5;241m=\u001b[39m\u001b[38;5;124m'\u001b[39m\u001b[38;5;124mmobiscore\u001b[39m\u001b[38;5;124m'\u001b[39m, data\u001b[38;5;241m=\u001b[39mraw_df\u001b[38;5;241m.\u001b[39mhead(\u001b[38;5;241m50\u001b[39m)) \n",
      "\u001b[1;31mNameError\u001b[0m: name 'sns' is not defined"
     ]
    }
   ],
   "source": [
    "sns.swarmplot(x='postcode', y='mobiscore', data=raw_df.head(50)) \n",
    "\n"
   ]
  },
  {
   "cell_type": "markdown",
   "id": "d55fa94f",
   "metadata": {},
   "source": [
    "#### Checking attributes types"
   ]
  },
  {
   "cell_type": "code",
   "execution_count": 13,
   "id": "540c1238",
   "metadata": {},
   "outputs": [
    {
     "data": {
      "application/vnd.microsoft.datawrangler.viewer.v0+json": {
       "columns": [
        {
         "name": "index",
         "rawType": "object",
         "type": "string"
        },
        {
         "name": "0",
         "rawType": "object",
         "type": "unknown"
        }
       ],
       "ref": "9f9a12ed-492e-499a-ad1e-dd02d36176d1",
       "rows": [
        [
         "zimmo_code",
         "object"
        ],
        [
         "type",
         "object"
        ],
        [
         "price",
         "float64"
        ],
        [
         "street",
         "object"
        ],
        [
         "number",
         "object"
        ],
        [
         "postcode",
         "object"
        ],
        [
         "city",
         "object"
        ],
        [
         "living_area(m²)",
         "float64"
        ],
        [
         "ground_area(m²)",
         "float64"
        ],
        [
         "bedroom",
         "float64"
        ],
        [
         "bathroom",
         "float64"
        ],
        [
         "garage",
         "float64"
        ],
        [
         "garden",
         "bool"
        ],
        [
         "EPC(kWh/m²)",
         "float64"
        ],
        [
         "renovation_obligation",
         "object"
        ],
        [
         "year_built",
         "float64"
        ],
        [
         "mobiscore",
         "float64"
        ],
        [
         "url",
         "object"
        ]
       ],
       "shape": {
        "columns": 1,
        "rows": 18
       }
      },
      "text/plain": [
       "zimmo_code                object\n",
       "type                      object\n",
       "price                    float64\n",
       "street                    object\n",
       "number                    object\n",
       "postcode                  object\n",
       "city                      object\n",
       "living_area(m²)          float64\n",
       "ground_area(m²)          float64\n",
       "bedroom                  float64\n",
       "bathroom                 float64\n",
       "garage                   float64\n",
       "garden                      bool\n",
       "EPC(kWh/m²)              float64\n",
       "renovation_obligation     object\n",
       "year_built               float64\n",
       "mobiscore                float64\n",
       "url                       object\n",
       "dtype: object"
      ]
     },
     "execution_count": 13,
     "metadata": {},
     "output_type": "execute_result"
    }
   ],
   "source": [
    "raw_df.dtypes"
   ]
  },
  {
   "cell_type": "markdown",
   "id": "0d63677f",
   "metadata": {},
   "source": [
    "##### Check to see if several attributes have NaN values"
   ]
  },
  {
   "cell_type": "code",
   "execution_count": 14,
   "id": "0989645b",
   "metadata": {},
   "outputs": [
    {
     "data": {
      "application/vnd.microsoft.datawrangler.viewer.v0+json": {
       "columns": [
        {
         "name": "index",
         "rawType": "int64",
         "type": "integer"
        },
        {
         "name": "zimmo_code",
         "rawType": "object",
         "type": "string"
        },
        {
         "name": "type",
         "rawType": "object",
         "type": "string"
        },
        {
         "name": "price",
         "rawType": "float64",
         "type": "float"
        },
        {
         "name": "street",
         "rawType": "object",
         "type": "unknown"
        },
        {
         "name": "number",
         "rawType": "object",
         "type": "unknown"
        },
        {
         "name": "postcode",
         "rawType": "object",
         "type": "string"
        },
        {
         "name": "city",
         "rawType": "object",
         "type": "string"
        },
        {
         "name": "living_area(m²)",
         "rawType": "float64",
         "type": "float"
        },
        {
         "name": "ground_area(m²)",
         "rawType": "float64",
         "type": "float"
        },
        {
         "name": "bedroom",
         "rawType": "float64",
         "type": "float"
        },
        {
         "name": "bathroom",
         "rawType": "float64",
         "type": "float"
        },
        {
         "name": "garage",
         "rawType": "float64",
         "type": "float"
        },
        {
         "name": "garden",
         "rawType": "bool",
         "type": "boolean"
        },
        {
         "name": "EPC(kWh/m²)",
         "rawType": "float64",
         "type": "float"
        },
        {
         "name": "renovation_obligation",
         "rawType": "object",
         "type": "unknown"
        },
        {
         "name": "year_built",
         "rawType": "float64",
         "type": "float"
        },
        {
         "name": "mobiscore",
         "rawType": "float64",
         "type": "float"
        },
        {
         "name": "url",
         "rawType": "object",
         "type": "string"
        }
       ],
       "ref": "feba0f05-0fba-4cd9-9345-37ceb27d5d98",
       "rows": [
        [
         "33",
         "L5O5X",
         "Vakantiewoning (Huis)",
         "42500.0",
         "Parelstrand",
         "154",
         "3920",
         "Lommel",
         null,
         null,
         null,
         null,
         null,
         "False",
         null,
         "False",
         null,
         "6.8",
         "https://www.zimmo.be/nl/lommel-3920/te-koop/huis/L5O5X/?search=eyJmaWx0ZXIiOiB7InN0YXR1cyI6IHsiaW4iOiBbIkZPUl9TQUxFIiwgIlRBS0VfT1ZFUiJdfSwgImNhdGVnb3J5IjogeyJpbiI6IFsiSE9VU0UiLCAiQVBBUlRNRU5UIl19LCAicHJpY2UiOiB7InVua25vd24iOiBmYWxzZSwgInJhbmdlIjogeyJtaW4iOiAwLCAibWF4IjogNDk5OTl9fX19&p=2"
        ],
        [
         "34",
         "L7MF9",
         "Appartement",
         "38500.0",
         "Dorlodotlaan",
         "8",
         "8670",
         "Koksijde",
         null,
         null,
         null,
         null,
         null,
         "False",
         null,
         "False",
         "1975.0",
         "8.1",
         "https://www.zimmo.be/nl/koksijde-8670/te-koop/appartement/L7MF9/?search=eyJmaWx0ZXIiOiB7InN0YXR1cyI6IHsiaW4iOiBbIkZPUl9TQUxFIiwgIlRBS0VfT1ZFUiJdfSwgImNhdGVnb3J5IjogeyJpbiI6IFsiSE9VU0UiLCAiQVBBUlRNRU5UIl19LCAicHJpY2UiOiB7InVua25vd24iOiBmYWxzZSwgInJhbmdlIjogeyJtaW4iOiAwLCAibWF4IjogNDk5OTl9fX19&p=2"
        ],
        [
         "44",
         "L3Q5V",
         "Gemengd gebruik (Huis)",
         "25000.0",
         "Rue Appâa",
         "15",
         "7340",
         "Wasmes",
         null,
         null,
         null,
         null,
         "1.0",
         "False",
         null,
         null,
         null,
         null,
         "https://www.zimmo.be/nl/wasmes-7340/te-koop/huis/L3Q5V/?search=eyJmaWx0ZXIiOiB7InN0YXR1cyI6IHsiaW4iOiBbIkZPUl9TQUxFIiwgIlRBS0VfT1ZFUiJdfSwgImNhdGVnb3J5IjogeyJpbiI6IFsiSE9VU0UiLCAiQVBBUlRNRU5UIl19LCAicHJpY2UiOiB7InVua25vd24iOiBmYWxzZSwgInJhbmdlIjogeyJtaW4iOiAwLCAibWF4IjogNDk5OTl9fX19&p=3"
        ],
        [
         "49",
         "L3VPC",
         "Woning (Huis)",
         "29000.0",
         "Morelgem",
         null,
         "9520",
         "Vlierzele",
         null,
         null,
         null,
         null,
         null,
         "False",
         null,
         "False",
         null,
         null,
         "https://www.zimmo.be/nl/vlierzele-9520/te-koop/huis/L3VPC/?search=eyJmaWx0ZXIiOiB7InN0YXR1cyI6IHsiaW4iOiBbIkZPUl9TQUxFIiwgIlRBS0VfT1ZFUiJdfSwgImNhdGVnb3J5IjogeyJpbiI6IFsiSE9VU0UiLCAiQVBBUlRNRU5UIl19LCAicHJpY2UiOiB7InVua25vd24iOiBmYWxzZSwgInJhbmdlIjogeyJtaW4iOiAwLCAibWF4IjogNDk5OTl9fX19&p=3"
        ],
        [
         "57",
         "KXLWR",
         "Studio met slaaphoek (Appartement)",
         "29990.0",
         "krommedijk",
         null,
         "8301",
         "Duinbergen",
         null,
         null,
         null,
         null,
         null,
         "False",
         "0.0",
         "False",
         null,
         "8.4",
         "https://www.zimmo.be/nl/duinbergen-8301/te-koop/appartement/KXLWR/?search=eyJmaWx0ZXIiOiB7InN0YXR1cyI6IHsiaW4iOiBbIkZPUl9TQUxFIiwgIlRBS0VfT1ZFUiJdfSwgImNhdGVnb3J5IjogeyJpbiI6IFsiSE9VU0UiLCAiQVBBUlRNRU5UIl19LCAicHJpY2UiOiB7InVua25vd24iOiBmYWxzZSwgInJhbmdlIjogeyJtaW4iOiAwLCAibWF4IjogNDk5OTl9fX19&p=3"
        ],
        [
         "104",
         "L479I",
         "Studio met slaaphoek (Appartement)",
         "99000.0",
         "Kielenstraat",
         "73/5",
         "3700",
         "Tongeren",
         null,
         null,
         null,
         null,
         null,
         "False",
         "210.0",
         "False",
         "1966.0",
         "7.9",
         "https://www.zimmo.be/nl/tongeren-3700/te-koop/appartement/L479I/?search=eyJmaWx0ZXIiOiB7InN0YXR1cyI6IHsiaW4iOiBbIkZPUl9TQUxFIiwgIlRBS0VfT1ZFUiJdfSwgImNhdGVnb3J5IjogeyJpbiI6IFsiSE9VU0UiLCAiQVBBUlRNRU5UIl19LCAicHJpY2UiOiB7InVua25vd24iOiBmYWxzZSwgInJhbmdlIjogeyJtaW4iOiA1MDAwMCwgIm1heCI6IDk5OTk5fX19fQ%3D%3D&p=3"
        ],
        [
         "206",
         "L8HUB",
         "Appartement",
         "95000.0",
         "Lakborslei",
         "305",
         "2100",
         "Deurne",
         null,
         null,
         null,
         null,
         null,
         "False",
         "937.0",
         "True",
         "1931.0",
         "9.1",
         "https://www.zimmo.be/nl/deurne-2100/te-koop/appartement/L8HUB/?search=eyJmaWx0ZXIiOiB7InN0YXR1cyI6IHsiaW4iOiBbIkZPUl9TQUxFIiwgIlRBS0VfT1ZFUiJdfSwgImNhdGVnb3J5IjogeyJpbiI6IFsiSE9VU0UiLCAiQVBBUlRNRU5UIl19LCAicHJpY2UiOiB7InVua25vd24iOiBmYWxzZSwgInJhbmdlIjogeyJtaW4iOiA1MDAwMCwgIm1heCI6IDk5OTk5fX19fQ%3D%3D&p=8"
        ],
        [
         "251",
         "L7YOU",
         "Chalet (Huis)",
         "50000.0",
         null,
         null,
         "6464",
         "Forges",
         null,
         null,
         null,
         null,
         null,
         "False",
         null,
         null,
         null,
         null,
         "https://www.zimmo.be/nl/forges-6464/te-koop/huis/L7YOU/?search=eyJmaWx0ZXIiOiB7InN0YXR1cyI6IHsiaW4iOiBbIkZPUl9TQUxFIiwgIlRBS0VfT1ZFUiJdfSwgImNhdGVnb3J5IjogeyJpbiI6IFsiSE9VU0UiLCAiQVBBUlRNRU5UIl19LCAicHJpY2UiOiB7InVua25vd24iOiBmYWxzZSwgInJhbmdlIjogeyJtaW4iOiA1MDAwMCwgIm1heCI6IDk5OTk5fX19fQ%3D%3D&p=10"
        ],
        [
         "429",
         "L41NG",
         "Eengezinswoning (Huis)",
         "79000.0",
         "Lindebornstraat",
         "30",
         "3700",
         "Tongeren",
         null,
         null,
         null,
         null,
         null,
         "False",
         null,
         "False",
         null,
         "5.5",
         "https://www.zimmo.be/nl/tongeren-3700/te-koop/huis/L41NG/?search=eyJmaWx0ZXIiOiB7InN0YXR1cyI6IHsiaW4iOiBbIkZPUl9TQUxFIiwgIlRBS0VfT1ZFUiJdfSwgImNhdGVnb3J5IjogeyJpbiI6IFsiSE9VU0UiLCAiQVBBUlRNRU5UIl19LCAicHJpY2UiOiB7InVua25vd24iOiBmYWxzZSwgInJhbmdlIjogeyJtaW4iOiA1MDAwMCwgIm1heCI6IDk5OTk5fX19fQ%3D%3D&p=18"
        ],
        [
         "443",
         "L2IO1",
         "Studio (Appartement)",
         "99000.0",
         "Kustlaan",
         "99",
         "8380",
         "Zeebrugge",
         null,
         null,
         null,
         null,
         null,
         "False",
         null,
         "False",
         "2017.0",
         "8.0",
         "https://www.zimmo.be/nl/zeebrugge-8380/te-koop/appartement/L2IO1/?search=eyJmaWx0ZXIiOiB7InN0YXR1cyI6IHsiaW4iOiBbIkZPUl9TQUxFIiwgIlRBS0VfT1ZFUiJdfSwgImNhdGVnb3J5IjogeyJpbiI6IFsiSE9VU0UiLCAiQVBBUlRNRU5UIl19LCAicHJpY2UiOiB7InVua25vd24iOiBmYWxzZSwgInJhbmdlIjogeyJtaW4iOiA1MDAwMCwgIm1heCI6IDk5OTk5fX19fQ%3D%3D&p=19"
        ],
        [
         "489",
         "L1X1B",
         "Woning (Huis)",
         "79000.0",
         "Lindebornstraat",
         "30",
         "3700",
         "'s Herenelderen",
         null,
         null,
         null,
         null,
         null,
         "False",
         "965.0",
         "True",
         null,
         "5.5",
         "https://www.zimmo.be/nl/s-herenelderen-3700/te-koop/huis/L1X1B/?search=eyJmaWx0ZXIiOiB7InN0YXR1cyI6IHsiaW4iOiBbIkZPUl9TQUxFIiwgIlRBS0VfT1ZFUiJdfSwgImNhdGVnb3J5IjogeyJpbiI6IFsiSE9VU0UiLCAiQVBBUlRNRU5UIl19LCAicHJpY2UiOiB7InVua25vd24iOiBmYWxzZSwgInJhbmdlIjogeyJtaW4iOiA1MDAwMCwgIm1heCI6IDk5OTk5fX19fQ%3D%3D&p=21"
        ],
        [
         "537",
         "KX2VR",
         "Appartement",
         "95000.0",
         "Avenue Léopold II",
         "40",
         "4900",
         "Spa",
         null,
         null,
         null,
         null,
         null,
         "False",
         null,
         null,
         null,
         null,
         "https://www.zimmo.be/nl/spa-4900/te-koop/appartement/KX2VR/?search=eyJmaWx0ZXIiOiB7InN0YXR1cyI6IHsiaW4iOiBbIkZPUl9TQUxFIiwgIlRBS0VfT1ZFUiJdfSwgImNhdGVnb3J5IjogeyJpbiI6IFsiSE9VU0UiLCAiQVBBUlRNRU5UIl19LCAicHJpY2UiOiB7InVua25vd24iOiBmYWxzZSwgInJhbmdlIjogeyJtaW4iOiA1MDAwMCwgIm1heCI6IDk5OTk5fX19fQ%3D%3D&p=24"
        ],
        [
         "739",
         "L9ODL",
         "Studio (Appartement)",
         "114000.0",
         "Raversijdestraat Bus O.F.",
         null,
         "8400",
         "Oostende",
         null,
         null,
         null,
         null,
         null,
         "False",
         "125.0",
         "False",
         "2011.0",
         "8.8",
         "https://www.zimmo.be/nl/oostende-8400/te-koop/appartement/L9ODL/?search=eyJmaWx0ZXIiOiB7InN0YXR1cyI6IHsiaW4iOiBbIkZPUl9TQUxFIiwgIlRBS0VfT1ZFUiJdfSwgImNhdGVnb3J5IjogeyJpbiI6IFsiSE9VU0UiLCAiQVBBUlRNRU5UIl19LCAicHJpY2UiOiB7InVua25vd24iOiBmYWxzZSwgInJhbmdlIjogeyJtaW4iOiAxMDAwMDAsICJtYXgiOiAxNDk5OTl9fX19&p=6"
        ],
        [
         "794",
         "L806J",
         "Woning (Huis)",
         "129000.0",
         "Blakstraat",
         "1",
         "9900",
         "Eeklo",
         null,
         null,
         null,
         null,
         null,
         "False",
         null,
         "False",
         null,
         "7.4",
         "https://www.zimmo.be/nl/eeklo-9900/te-koop/huis/L806J/?search=eyJmaWx0ZXIiOiB7InN0YXR1cyI6IHsiaW4iOiBbIkZPUl9TQUxFIiwgIlRBS0VfT1ZFUiJdfSwgImNhdGVnb3J5IjogeyJpbiI6IFsiSE9VU0UiLCAiQVBBUlRNRU5UIl19LCAicHJpY2UiOiB7InVua25vd24iOiBmYWxzZSwgInJhbmdlIjogeyJtaW4iOiAxMDAwMDAsICJtYXgiOiAxNDk5OTl9fX19&p=9"
        ],
        [
         "804",
         "L9FXF",
         "Appartement",
         "144900.0",
         "Sint-Jacobsstraat",
         "16/1D",
         "8900",
         "Ieper",
         null,
         null,
         null,
         null,
         null,
         "False",
         "127.0",
         "False",
         null,
         "7.7",
         "https://www.zimmo.be/nl/ieper-8900/te-koop/appartement/L9FXF/?search=eyJmaWx0ZXIiOiB7InN0YXR1cyI6IHsiaW4iOiBbIkZPUl9TQUxFIiwgIlRBS0VfT1ZFUiJdfSwgImNhdGVnb3J5IjogeyJpbiI6IFsiSE9VU0UiLCAiQVBBUlRNRU5UIl19LCAicHJpY2UiOiB7InVua25vd24iOiBmYWxzZSwgInJhbmdlIjogeyJtaW4iOiAxMDAwMDAsICJtYXgiOiAxNDk5OTl9fX19&p=10"
        ],
        [
         "807",
         "L9FXL",
         "Appartement",
         "144900.0",
         "Sint-Jacobsstraat",
         "16/2C",
         "8900",
         "Ieper",
         null,
         null,
         null,
         null,
         null,
         "False",
         "159.0",
         "False",
         null,
         "7.7",
         "https://www.zimmo.be/nl/ieper-8900/te-koop/appartement/L9FXL/?search=eyJmaWx0ZXIiOiB7InN0YXR1cyI6IHsiaW4iOiBbIkZPUl9TQUxFIiwgIlRBS0VfT1ZFUiJdfSwgImNhdGVnb3J5IjogeyJpbiI6IFsiSE9VU0UiLCAiQVBBUlRNRU5UIl19LCAicHJpY2UiOiB7InVua25vd24iOiBmYWxzZSwgInJhbmdlIjogeyJtaW4iOiAxMDAwMDAsICJtYXgiOiAxNDk5OTl9fX19&p=10"
        ],
        [
         "808",
         "L9FXI",
         "Appartement",
         "149900.0",
         "Sint-Jacobsstraat",
         "16/3A",
         "8900",
         "Ieper",
         null,
         null,
         null,
         null,
         null,
         "False",
         "97.0",
         "False",
         null,
         "7.7",
         "https://www.zimmo.be/nl/ieper-8900/te-koop/appartement/L9FXI/?search=eyJmaWx0ZXIiOiB7InN0YXR1cyI6IHsiaW4iOiBbIkZPUl9TQUxFIiwgIlRBS0VfT1ZFUiJdfSwgImNhdGVnb3J5IjogeyJpbiI6IFsiSE9VU0UiLCAiQVBBUlRNRU5UIl19LCAicHJpY2UiOiB7InVua25vd24iOiBmYWxzZSwgInJhbmdlIjogeyJtaW4iOiAxMDAwMDAsICJtYXgiOiAxNDk5OTl9fX19&p=10"
        ],
        [
         "809",
         "L9FXE",
         "Appartement",
         "117490.0",
         "Sint-Jacobsstraat",
         "16/1C",
         "8900",
         "Ieper",
         null,
         null,
         null,
         null,
         null,
         "False",
         "356.0",
         "False",
         null,
         "7.7",
         "https://www.zimmo.be/nl/ieper-8900/te-koop/appartement/L9FXE/?search=eyJmaWx0ZXIiOiB7InN0YXR1cyI6IHsiaW4iOiBbIkZPUl9TQUxFIiwgIlRBS0VfT1ZFUiJdfSwgImNhdGVnb3J5IjogeyJpbiI6IFsiSE9VU0UiLCAiQVBBUlRNRU5UIl19LCAicHJpY2UiOiB7InVua25vd24iOiBmYWxzZSwgInJhbmdlIjogeyJtaW4iOiAxMDAwMDAsICJtYXgiOiAxNDk5OTl9fX19&p=10"
        ],
        [
         "811",
         "L9FXH",
         "Appartement",
         "149900.0",
         "Sint-Jacobsstraat",
         "16/3B",
         "8900",
         "Ieper",
         null,
         null,
         null,
         null,
         null,
         "False",
         "85.0",
         "False",
         null,
         "7.7",
         "https://www.zimmo.be/nl/ieper-8900/te-koop/appartement/L9FXH/?search=eyJmaWx0ZXIiOiB7InN0YXR1cyI6IHsiaW4iOiBbIkZPUl9TQUxFIiwgIlRBS0VfT1ZFUiJdfSwgImNhdGVnb3J5IjogeyJpbiI6IFsiSE9VU0UiLCAiQVBBUlRNRU5UIl19LCAicHJpY2UiOiB7InVua25vd24iOiBmYWxzZSwgInJhbmdlIjogeyJtaW4iOiAxMDAwMDAsICJtYXgiOiAxNDk5OTl9fX19&p=10"
        ],
        [
         "819",
         "L9FXJ",
         "Appartement",
         "117490.0",
         "Sint-Jacobsstraat",
         "16/2E",
         "8900",
         "Ieper",
         null,
         null,
         null,
         null,
         null,
         "False",
         "392.0",
         "False",
         null,
         "7.7",
         "https://www.zimmo.be/nl/ieper-8900/te-koop/appartement/L9FXJ/?search=eyJmaWx0ZXIiOiB7InN0YXR1cyI6IHsiaW4iOiBbIkZPUl9TQUxFIiwgIlRBS0VfT1ZFUiJdfSwgImNhdGVnb3J5IjogeyJpbiI6IFsiSE9VU0UiLCAiQVBBUlRNRU5UIl19LCAicHJpY2UiOiB7InVua25vd24iOiBmYWxzZSwgInJhbmdlIjogeyJtaW4iOiAxMDAwMDAsICJtYXgiOiAxNDk5OTl9fX19&p=10"
        ],
        [
         "951",
         "L7LI2",
         "Gemengd gebruik (Huis)",
         "135000.0",
         "Kouterstraat",
         "79/1",
         "9240",
         "Zele",
         null,
         null,
         null,
         null,
         null,
         "False",
         "505.0",
         "True",
         "1997.0",
         "7.9",
         "https://www.zimmo.be/nl/zele-9240/te-koop/huis/L7LI2/?search=eyJmaWx0ZXIiOiB7InN0YXR1cyI6IHsiaW4iOiBbIkZPUl9TQUxFIiwgIlRBS0VfT1ZFUiJdfSwgImNhdGVnb3J5IjogeyJpbiI6IFsiSE9VU0UiLCAiQVBBUlRNRU5UIl19LCAicHJpY2UiOiB7InVua25vd24iOiBmYWxzZSwgInJhbmdlIjogeyJtaW4iOiAxMDAwMDAsICJtYXgiOiAxNDk5OTl9fX19&p=17"
        ],
        [
         "991",
         "L8XI6",
         "Studio met slaaphoek (Appartement)",
         "149900.0",
         "Raversijdestraat",
         "22/5I",
         "8400",
         "Oostende",
         null,
         null,
         null,
         null,
         null,
         "False",
         "124.0",
         "False",
         "2011.0",
         "8.8",
         "https://www.zimmo.be/nl/oostende-8400/te-koop/appartement/L8XI6/?search=eyJmaWx0ZXIiOiB7InN0YXR1cyI6IHsiaW4iOiBbIkZPUl9TQUxFIiwgIlRBS0VfT1ZFUiJdfSwgImNhdGVnb3J5IjogeyJpbiI6IFsiSE9VU0UiLCAiQVBBUlRNRU5UIl19LCAicHJpY2UiOiB7InVua25vd24iOiBmYWxzZSwgInJhbmdlIjogeyJtaW4iOiAxMDAwMDAsICJtYXgiOiAxNDk5OTl9fX19&p=18"
        ],
        [
         "1047",
         "L8PI1",
         "Appartement",
         "139500.0",
         "Nieuwpoortsesteenweg",
         "723/b1",
         "8400",
         "Mariakerke",
         null,
         null,
         null,
         null,
         null,
         "False",
         "131.0",
         "False",
         null,
         "8.8",
         "https://www.zimmo.be/nl/mariakerke-8400/te-koop/appartement/L8PI1/?search=eyJmaWx0ZXIiOiB7InN0YXR1cyI6IHsiaW4iOiBbIkZPUl9TQUxFIiwgIlRBS0VfT1ZFUiJdfSwgImNhdGVnb3J5IjogeyJpbiI6IFsiSE9VU0UiLCAiQVBBUlRNRU5UIl19LCAicHJpY2UiOiB7InVua25vd24iOiBmYWxzZSwgInJhbmdlIjogeyJtaW4iOiAxMDAwMDAsICJtYXgiOiAxNDk5OTl9fX19&p=21"
        ],
        [
         "1218",
         "L80FG",
         "Appartement",
         "125000.0",
         "Place Albert Ier",
         "14/15",
         "7170",
         "Fayt-lez-Manage",
         null,
         null,
         null,
         null,
         null,
         "False",
         null,
         null,
         null,
         null,
         "https://www.zimmo.be/nl/fayt-lez-manage-7170/te-koop/appartement/L80FG/?search=eyJmaWx0ZXIiOiB7InN0YXR1cyI6IHsiaW4iOiBbIkZPUl9TQUxFIiwgIlRBS0VfT1ZFUiJdfSwgImNhdGVnb3J5IjogeyJpbiI6IFsiSE9VU0UiLCAiQVBBUlRNRU5UIl19LCAicHJpY2UiOiB7InVua25vd24iOiBmYWxzZSwgInJhbmdlIjogeyJtaW4iOiAxMDAwMDAsICJtYXgiOiAxNDk5OTl9fX19&p=29"
        ],
        [
         "1226",
         "L7WWN",
         "Appartement",
         "123995.0",
         "Materiaalstraat",
         "71",
         "1070",
         "Anderlecht",
         null,
         null,
         null,
         null,
         null,
         "False",
         null,
         null,
         null,
         "9.5",
         "https://www.zimmo.be/nl/anderlecht-1070/te-koop/appartement/L7WWN/?search=eyJmaWx0ZXIiOiB7InN0YXR1cyI6IHsiaW4iOiBbIkZPUl9TQUxFIiwgIlRBS0VfT1ZFUiJdfSwgImNhdGVnb3J5IjogeyJpbiI6IFsiSE9VU0UiLCAiQVBBUlRNRU5UIl19LCAicHJpY2UiOiB7InVua25vd24iOiBmYWxzZSwgInJhbmdlIjogeyJtaW4iOiAxMDAwMDAsICJtYXgiOiAxNDk5OTl9fX19&p=30"
        ],
        [
         "1254",
         "L7VR4",
         "Rijwoning (Huis)",
         "143000.0",
         null,
         null,
         "7700",
         "Moeskroen",
         null,
         null,
         null,
         null,
         null,
         "False",
         "360.0",
         null,
         null,
         null,
         "https://www.zimmo.be/nl/moeskroen-7700/te-koop/huis/L7VR4/?search=eyJmaWx0ZXIiOiB7InN0YXR1cyI6IHsiaW4iOiBbIkZPUl9TQUxFIiwgIlRBS0VfT1ZFUiJdfSwgImNhdGVnb3J5IjogeyJpbiI6IFsiSE9VU0UiLCAiQVBBUlRNRU5UIl19LCAicHJpY2UiOiB7InVua25vd24iOiBmYWxzZSwgInJhbmdlIjogeyJtaW4iOiAxMDAwMDAsICJtYXgiOiAxNDk5OTl9fX19&p=31"
        ],
        [
         "1299",
         "L7JQ8",
         "Appartement",
         "149000.0",
         "Steynstraat",
         "373/5",
         "2660",
         "Hoboken",
         null,
         null,
         null,
         null,
         null,
         "False",
         null,
         "False",
         null,
         "8.8",
         "https://www.zimmo.be/nl/hoboken-2660/te-koop/appartement/L7JQ8/?search=eyJmaWx0ZXIiOiB7InN0YXR1cyI6IHsiaW4iOiBbIkZPUl9TQUxFIiwgIlRBS0VfT1ZFUiJdfSwgImNhdGVnb3J5IjogeyJpbiI6IFsiSE9VU0UiLCAiQVBBUlRNRU5UIl19LCAicHJpY2UiOiB7InVua25vd24iOiBmYWxzZSwgInJhbmdlIjogeyJtaW4iOiAxMDAwMDAsICJtYXgiOiAxNDk5OTl9fX19&p=33"
        ],
        [
         "1349",
         "L7AV1",
         "Appartement",
         "135000.0",
         "Senator Coolestraat",
         "26/0012",
         "8500",
         "Kortrijk",
         null,
         null,
         null,
         null,
         null,
         "False",
         null,
         "False",
         null,
         "9.0",
         "https://www.zimmo.be/nl/kortrijk-8500/te-koop/appartement/L7AV1/?search=eyJmaWx0ZXIiOiB7InN0YXR1cyI6IHsiaW4iOiBbIkZPUl9TQUxFIiwgIlRBS0VfT1ZFUiJdfSwgImNhdGVnb3J5IjogeyJpbiI6IFsiSE9VU0UiLCAiQVBBUlRNRU5UIl19LCAicHJpY2UiOiB7InVua25vd24iOiBmYWxzZSwgInJhbmdlIjogeyJtaW4iOiAxMDAwMDAsICJtYXgiOiAxNDk5OTl9fX19&p=36"
        ],
        [
         "1432",
         "L6SZ1",
         "Appartement",
         "140000.0",
         "Jeugdlaan",
         "23",
         "3900",
         "Overpelt",
         null,
         null,
         null,
         null,
         null,
         "False",
         "184.0",
         "False",
         "1991.0",
         "8.5",
         "https://www.zimmo.be/nl/overpelt-3900/te-koop/appartement/L6SZ1/?search=eyJmaWx0ZXIiOiB7InN0YXR1cyI6IHsiaW4iOiBbIkZPUl9TQUxFIiwgIlRBS0VfT1ZFUiJdfSwgImNhdGVnb3J5IjogeyJpbiI6IFsiSE9VU0UiLCAiQVBBUlRNRU5UIl19LCAicHJpY2UiOiB7InVua25vd24iOiBmYWxzZSwgInJhbmdlIjogeyJtaW4iOiAxMDAwMDAsICJtYXgiOiAxNDk5OTl9fX19&p=40"
        ],
        [
         "1556",
         "L624X",
         "Woning (Huis)",
         "139000.0",
         "Duribreustraat",
         null,
         "7783",
         "Le Bizet",
         null,
         null,
         null,
         null,
         null,
         "False",
         "206.0",
         null,
         null,
         null,
         "https://www.zimmo.be/nl/le-bizet-7783/te-koop/huis/L624X/?search=eyJmaWx0ZXIiOiB7InN0YXR1cyI6IHsiaW4iOiBbIkZPUl9TQUxFIiwgIlRBS0VfT1ZFUiJdfSwgImNhdGVnb3J5IjogeyJpbiI6IFsiSE9VU0UiLCAiQVBBUlRNRU5UIl19LCAicHJpY2UiOiB7InVua25vd24iOiBmYWxzZSwgInJhbmdlIjogeyJtaW4iOiAxMDAwMDAsICJtYXgiOiAxNDk5OTl9fX19&p=46"
        ],
        [
         "1560",
         "L5ZI7",
         "Woning (Huis)",
         "149000.0",
         "Terreststraat",
         "51",
         "8650",
         "Houthulst",
         null,
         null,
         null,
         null,
         null,
         "False",
         "894.0",
         "True",
         null,
         "5.8",
         "https://www.zimmo.be/nl/houthulst-8650/te-koop/huis/L5ZI7/?search=eyJmaWx0ZXIiOiB7InN0YXR1cyI6IHsiaW4iOiBbIkZPUl9TQUxFIiwgIlRBS0VfT1ZFUiJdfSwgImNhdGVnb3J5IjogeyJpbiI6IFsiSE9VU0UiLCAiQVBBUlRNRU5UIl19LCAicHJpY2UiOiB7InVua25vd24iOiBmYWxzZSwgInJhbmdlIjogeyJtaW4iOiAxMDAwMDAsICJtYXgiOiAxNDk5OTl9fX19&p=46"
        ],
        [
         "1572",
         "L62AW",
         "Woning (Huis)",
         "129000.0",
         "Poststraat",
         "16",
         "8660",
         "De Panne",
         null,
         null,
         null,
         null,
         null,
         "False",
         "499.0",
         "True",
         null,
         "8.1",
         "https://www.zimmo.be/nl/de-panne-8660/te-koop/huis/L62AW/?search=eyJmaWx0ZXIiOiB7InN0YXR1cyI6IHsiaW4iOiBbIkZPUl9TQUxFIiwgIlRBS0VfT1ZFUiJdfSwgImNhdGVnb3J5IjogeyJpbiI6IFsiSE9VU0UiLCAiQVBBUlRNRU5UIl19LCAicHJpY2UiOiB7InVua25vd24iOiBmYWxzZSwgInJhbmdlIjogeyJtaW4iOiAxMDAwMDAsICJtYXgiOiAxNDk5OTl9fX19&p=46"
        ],
        [
         "1601",
         "L5NY9",
         "Studio met slaaphoek (Appartement)",
         "140000.0",
         "Zeedijk",
         "96/1116",
         "8370",
         "Blankenberge",
         null,
         null,
         null,
         null,
         null,
         "False",
         null,
         "False",
         null,
         "8.8",
         "https://www.zimmo.be/nl/blankenberge-8370/te-koop/appartement/L5NY9/?search=eyJmaWx0ZXIiOiB7InN0YXR1cyI6IHsiaW4iOiBbIkZPUl9TQUxFIiwgIlRBS0VfT1ZFUiJdfSwgImNhdGVnb3J5IjogeyJpbiI6IFsiSE9VU0UiLCAiQVBBUlRNRU5UIl19LCAicHJpY2UiOiB7InVua25vd24iOiBmYWxzZSwgInJhbmdlIjogeyJtaW4iOiAxMDAwMDAsICJtYXgiOiAxNDk5OTl9fX19&p=48"
        ],
        [
         "1670",
         "L5A6Z",
         "Woning (Huis)",
         "149000.0",
         "Klerkenstraat",
         "161",
         "8920",
         "Langemark",
         null,
         null,
         null,
         null,
         null,
         "False",
         "800.0",
         "True",
         null,
         "5.5",
         "https://www.zimmo.be/nl/langemark-8920/te-koop/huis/L5A6Z/?search=eyJmaWx0ZXIiOiB7InN0YXR1cyI6IHsiaW4iOiBbIkZPUl9TQUxFIiwgIlRBS0VfT1ZFUiJdfSwgImNhdGVnb3J5IjogeyJpbiI6IFsiSE9VU0UiLCAiQVBBUlRNRU5UIl19LCAicHJpY2UiOiB7InVua25vd24iOiBmYWxzZSwgInJhbmdlIjogeyJtaW4iOiAxMDAwMDAsICJtYXgiOiAxNDk5OTl9fX19&p=51"
        ],
        [
         "1731",
         "L4W0J",
         "Appartement",
         "125000.0",
         "Sint-Gummarusstraat",
         "38/401",
         "2060",
         "Antwerpen",
         null,
         null,
         null,
         null,
         null,
         "False",
         "658.0",
         "True",
         null,
         "9.4",
         "https://www.zimmo.be/nl/antwerpen-2060/te-koop/appartement/L4W0J/?search=eyJmaWx0ZXIiOiB7InN0YXR1cyI6IHsiaW4iOiBbIkZPUl9TQUxFIiwgIlRBS0VfT1ZFUiJdfSwgImNhdGVnb3J5IjogeyJpbiI6IFsiSE9VU0UiLCAiQVBBUlRNRU5UIl19LCAicHJpY2UiOiB7InVua25vd24iOiBmYWxzZSwgInJhbmdlIjogeyJtaW4iOiAxMDAwMDAsICJtYXgiOiAxNDk5OTl9fX19&p=54"
        ],
        [
         "2053",
         "L0QGJ",
         "Appartement",
         "145000.0",
         "Leopold II-laan",
         "20",
         "8400",
         "Oostende",
         null,
         null,
         null,
         null,
         null,
         "False",
         null,
         "False",
         "2013.0",
         "9.1",
         "https://www.zimmo.be/nl/oostende-8400/te-koop/appartement/L0QGJ/?search=eyJmaWx0ZXIiOiB7InN0YXR1cyI6IHsiaW4iOiBbIkZPUl9TQUxFIiwgIlRBS0VfT1ZFUiJdfSwgImNhdGVnb3J5IjogeyJpbiI6IFsiSE9VU0UiLCAiQVBBUlRNRU5UIl19LCAicHJpY2UiOiB7InVua25vd24iOiBmYWxzZSwgInJhbmdlIjogeyJtaW4iOiAxMDAwMDAsICJtYXgiOiAxNDk5OTl9fX19&p=69"
        ],
        [
         "2110",
         "L11WN",
         "Woning (Huis)",
         "149000.0",
         "Klerkenstraat",
         "161",
         "8920",
         "Langemark",
         null,
         null,
         null,
         null,
         null,
         "False",
         "800.0",
         "True",
         null,
         "5.5",
         "https://www.zimmo.be/nl/langemark-8920/te-koop/huis/L11WN/?search=eyJmaWx0ZXIiOiB7InN0YXR1cyI6IHsiaW4iOiBbIkZPUl9TQUxFIiwgIlRBS0VfT1ZFUiJdfSwgImNhdGVnb3J5IjogeyJpbiI6IFsiSE9VU0UiLCAiQVBBUlRNRU5UIl19LCAicHJpY2UiOiB7InVua25vd24iOiBmYWxzZSwgInJhbmdlIjogeyJtaW4iOiAxMDAwMDAsICJtYXgiOiAxNDk5OTl9fX19&p=72"
        ],
        [
         "2265",
         "KUJCF",
         "Appartement",
         "145000.0",
         "Gaston Lejeunestraat",
         "15/1",
         "8670",
         "Koksijde",
         null,
         null,
         null,
         null,
         null,
         "False",
         "480.0",
         "True",
         "1963.0",
         "8.1",
         "https://www.zimmo.be/nl/koksijde-8670/te-koop/appartement/KUJCF/?search=eyJmaWx0ZXIiOiB7InN0YXR1cyI6IHsiaW4iOiBbIkZPUl9TQUxFIiwgIlRBS0VfT1ZFUiJdfSwgImNhdGVnb3J5IjogeyJpbiI6IFsiSE9VU0UiLCAiQVBBUlRNRU5UIl19LCAicHJpY2UiOiB7InVua25vd24iOiBmYWxzZSwgInJhbmdlIjogeyJtaW4iOiAxMDAwMDAsICJtYXgiOiAxNDk5OTl9fX19&p=79"
        ],
        [
         "2282",
         "KSRKM",
         "Woning (Huis)",
         "120000.0",
         "Vredestraat",
         "11",
         "8700",
         "Tielt",
         null,
         null,
         null,
         null,
         null,
         "False",
         null,
         "False",
         null,
         "8.3",
         "https://www.zimmo.be/nl/tielt-8700/te-koop/huis/KSRKM/?search=eyJmaWx0ZXIiOiB7InN0YXR1cyI6IHsiaW4iOiBbIkZPUl9TQUxFIiwgIlRBS0VfT1ZFUiJdfSwgImNhdGVnb3J5IjogeyJpbiI6IFsiSE9VU0UiLCAiQVBBUlRNRU5UIl19LCAicHJpY2UiOiB7InVua25vd24iOiBmYWxzZSwgInJhbmdlIjogeyJtaW4iOiAxMDAwMDAsICJtYXgiOiAxNDk5OTl9fX19&p=80"
        ],
        [
         "2289",
         "KO88B",
         "Appartement",
         "149000.0",
         "Duifhuisstraat",
         "25/2",
         "2300",
         "Turnhout",
         null,
         null,
         null,
         null,
         null,
         "False",
         null,
         "False",
         null,
         "9.1",
         "https://www.zimmo.be/nl/turnhout-2300/te-koop/appartement/KO88B/?search=eyJmaWx0ZXIiOiB7InN0YXR1cyI6IHsiaW4iOiBbIkZPUl9TQUxFIiwgIlRBS0VfT1ZFUiJdfSwgImNhdGVnb3J5IjogeyJpbiI6IFsiSE9VU0UiLCAiQVBBUlRNRU5UIl19LCAicHJpY2UiOiB7InVua25vd24iOiBmYWxzZSwgInJhbmdlIjogeyJtaW4iOiAxMDAwMDAsICJtYXgiOiAxNDk5OTl9fX19&p=81"
        ],
        [
         "2317",
         "KNV41",
         "Appartement",
         "145000.0",
         "Poelkapellestraat",
         "1/1",
         "8650",
         "Houthulst",
         null,
         null,
         null,
         null,
         null,
         "False",
         "288.0",
         "False",
         null,
         "6.2",
         "https://www.zimmo.be/nl/houthulst-8650/te-koop/appartement/KNV41/?search=eyJmaWx0ZXIiOiB7InN0YXR1cyI6IHsiaW4iOiBbIkZPUl9TQUxFIiwgIlRBS0VfT1ZFUiJdfSwgImNhdGVnb3J5IjogeyJpbiI6IFsiSE9VU0UiLCAiQVBBUlRNRU5UIl19LCAicHJpY2UiOiB7InVua25vd24iOiBmYWxzZSwgInJhbmdlIjogeyJtaW4iOiAxMDAwMDAsICJtYXgiOiAxNDk5OTl9fX19&p=82"
        ],
        [
         "2326",
         "KN0MK",
         "Appartement",
         "110000.0",
         "Vakantiestraat",
         "3/HS016",
         "8434",
         "Westende",
         null,
         null,
         null,
         null,
         null,
         "False",
         null,
         "False",
         "2015.0",
         "7.1",
         "https://www.zimmo.be/nl/westende-8434/te-koop/appartement/KN0MK/?search=eyJmaWx0ZXIiOiB7InN0YXR1cyI6IHsiaW4iOiBbIkZPUl9TQUxFIiwgIlRBS0VfT1ZFUiJdfSwgImNhdGVnb3J5IjogeyJpbiI6IFsiSE9VU0UiLCAiQVBBUlRNRU5UIl19LCAicHJpY2UiOiB7InVua25vd24iOiBmYWxzZSwgInJhbmdlIjogeyJtaW4iOiAxMDAwMDAsICJtYXgiOiAxNDk5OTl9fX19&p=82"
        ],
        [
         "2556",
         "1004RA4",
         "Project",
         "189900.0",
         "Boulevard des Canadiens",
         "32",
         "7711",
         "Dottignies",
         null,
         null,
         null,
         null,
         null,
         "False",
         null,
         null,
         "2025.0",
         null,
         "https://www.zimmo.be/nl/dottignies-7711/te-koop/nieuwbouwproject/1004RA4/?search=eyJmaWx0ZXIiOiB7InN0YXR1cyI6IHsiaW4iOiBbIkZPUl9TQUxFIiwgIlRBS0VfT1ZFUiJdfSwgImNhdGVnb3J5IjogeyJpbiI6IFsiSE9VU0UiLCAiQVBBUlRNRU5UIl19LCAicHJpY2UiOiB7InVua25vd24iOiBmYWxzZSwgInJhbmdlIjogeyJtaW4iOiAxNTAwMDAsICJtYXgiOiAxOTk5OTl9fX19&p=9"
        ],
        [
         "2596",
         "1004QCP",
         "Project",
         "175000.0",
         "Neremweg",
         "28",
         "3700",
         "Tongeren",
         null,
         null,
         null,
         null,
         null,
         "False",
         null,
         null,
         "2023.0",
         null,
         "https://www.zimmo.be/nl/tongeren-3700/te-koop/nieuwbouwproject/1004QCP/?search=eyJmaWx0ZXIiOiB7InN0YXR1cyI6IHsiaW4iOiBbIkZPUl9TQUxFIiwgIlRBS0VfT1ZFUiJdfSwgImNhdGVnb3J5IjogeyJpbiI6IFsiSE9VU0UiLCAiQVBBUlRNRU5UIl19LCAicHJpY2UiOiB7InVua25vd24iOiBmYWxzZSwgInJhbmdlIjogeyJtaW4iOiAxNTAwMDAsICJtYXgiOiAxOTk5OTl9fX19&p=11"
        ],
        [
         "2647",
         "L9OPT",
         "Woning (Huis)",
         "154900.0",
         "Gevangenisstraat",
         "8",
         "8900",
         "Ieper",
         null,
         null,
         null,
         null,
         null,
         "False",
         "235.0",
         "False",
         null,
         "7.7",
         "https://www.zimmo.be/nl/ieper-8900/te-koop/huis/L9OPT/?search=eyJmaWx0ZXIiOiB7InN0YXR1cyI6IHsiaW4iOiBbIkZPUl9TQUxFIiwgIlRBS0VfT1ZFUiJdfSwgImNhdGVnb3J5IjogeyJpbiI6IFsiSE9VU0UiLCAiQVBBUlRNRU5UIl19LCAicHJpY2UiOiB7InVua25vd24iOiBmYWxzZSwgInJhbmdlIjogeyJtaW4iOiAxNTAwMDAsICJtYXgiOiAxOTk5OTl9fX19&p=13"
        ],
        [
         "2661",
         "1004EKD",
         "Project",
         "164000.0",
         "Chaussée du Roeulx",
         null,
         "7000",
         "Mons",
         null,
         null,
         null,
         null,
         null,
         "False",
         null,
         null,
         null,
         null,
         "https://www.zimmo.be/nl/mons-7000/te-koop/nieuwbouwproject/1004EKD/?search=eyJmaWx0ZXIiOiB7InN0YXR1cyI6IHsiaW4iOiBbIkZPUl9TQUxFIiwgIlRBS0VfT1ZFUiJdfSwgImNhdGVnb3J5IjogeyJpbiI6IFsiSE9VU0UiLCAiQVBBUlRNRU5UIl19LCAicHJpY2UiOiB7InVua25vd24iOiBmYWxzZSwgInJhbmdlIjogeyJtaW4iOiAxNTAwMDAsICJtYXgiOiAxOTk5OTl9fX19&p=14"
        ],
        [
         "2719",
         "1004GM7",
         "Project",
         "180000.0",
         "Koningin Astridplein",
         null,
         "3970",
         "Leopoldsburg",
         null,
         null,
         null,
         null,
         null,
         "False",
         null,
         null,
         "2024.0",
         null,
         "https://www.zimmo.be/nl/leopoldsburg-3970/te-koop/nieuwbouwproject/1004GM7/?search=eyJmaWx0ZXIiOiB7InN0YXR1cyI6IHsiaW4iOiBbIkZPUl9TQUxFIiwgIlRBS0VfT1ZFUiJdfSwgImNhdGVnb3J5IjogeyJpbiI6IFsiSE9VU0UiLCAiQVBBUlRNRU5UIl19LCAicHJpY2UiOiB7InVua25vd24iOiBmYWxzZSwgInJhbmdlIjogeyJtaW4iOiAxNTAwMDAsICJtYXgiOiAxOTk5OTl9fX19&p=17"
        ],
        [
         "2901",
         "L8NZL",
         "Woning (Huis)",
         "179000.0",
         "Halensestraat",
         "57",
         "3545",
         "Zelem",
         null,
         null,
         null,
         null,
         null,
         "False",
         "1025.0",
         "True",
         "1930.0",
         "5.7",
         "https://www.zimmo.be/nl/zelem-3545/te-koop/huis/L8NZL/?search=eyJmaWx0ZXIiOiB7InN0YXR1cyI6IHsiaW4iOiBbIkZPUl9TQUxFIiwgIlRBS0VfT1ZFUiJdfSwgImNhdGVnb3J5IjogeyJpbiI6IFsiSE9VU0UiLCAiQVBBUlRNRU5UIl19LCAicHJpY2UiOiB7InVua25vd24iOiBmYWxzZSwgInJhbmdlIjogeyJtaW4iOiAxNTAwMDAsICJtYXgiOiAxOTk5OTl9fX19&p=26"
        ],
        [
         "3026",
         "L98F2",
         "Appartement",
         "169000.0",
         "Wagenmakersstraat",
         "1/0401",
         "8400",
         "Stene",
         null,
         null,
         null,
         null,
         null,
         "False",
         "202.0",
         "False",
         null,
         "8.7",
         "https://www.zimmo.be/nl/stene-8400/te-koop/appartement/L98F2/?search=eyJmaWx0ZXIiOiB7InN0YXR1cyI6IHsiaW4iOiBbIkZPUl9TQUxFIiwgIlRBS0VfT1ZFUiJdfSwgImNhdGVnb3J5IjogeyJpbiI6IFsiSE9VU0UiLCAiQVBBUlRNRU5UIl19LCAicHJpY2UiOiB7InVua25vd24iOiBmYWxzZSwgInJhbmdlIjogeyJtaW4iOiAxNTAwMDAsICJtYXgiOiAxOTk5OTl9fX19&p=32"
        ],
        [
         "3206",
         "L912A",
         "Woning (Huis)",
         "170000.0",
         "Wakkenstraat",
         "12",
         "8720",
         "Markegem",
         null,
         null,
         null,
         null,
         null,
         "False",
         null,
         "False",
         null,
         "6.1",
         "https://www.zimmo.be/nl/markegem-8720/te-koop/huis/L912A/?search=eyJmaWx0ZXIiOiB7InN0YXR1cyI6IHsiaW4iOiBbIkZPUl9TQUxFIiwgIlRBS0VfT1ZFUiJdfSwgImNhdGVnb3J5IjogeyJpbiI6IFsiSE9VU0UiLCAiQVBBUlRNRU5UIl19LCAicHJpY2UiOiB7InVua25vd24iOiBmYWxzZSwgInJhbmdlIjogeyJtaW4iOiAxNTAwMDAsICJtYXgiOiAxOTk5OTl9fX19&p=40"
        ]
       ],
       "shape": {
        "columns": 18,
        "rows": 256
       }
      },
      "text/html": [
       "<div>\n",
       "<style scoped>\n",
       "    .dataframe tbody tr th:only-of-type {\n",
       "        vertical-align: middle;\n",
       "    }\n",
       "\n",
       "    .dataframe tbody tr th {\n",
       "        vertical-align: top;\n",
       "    }\n",
       "\n",
       "    .dataframe thead th {\n",
       "        text-align: right;\n",
       "    }\n",
       "</style>\n",
       "<table border=\"1\" class=\"dataframe\">\n",
       "  <thead>\n",
       "    <tr style=\"text-align: right;\">\n",
       "      <th></th>\n",
       "      <th>zimmo_code</th>\n",
       "      <th>type</th>\n",
       "      <th>price</th>\n",
       "      <th>street</th>\n",
       "      <th>number</th>\n",
       "      <th>postcode</th>\n",
       "      <th>city</th>\n",
       "      <th>living_area(m²)</th>\n",
       "      <th>ground_area(m²)</th>\n",
       "      <th>bedroom</th>\n",
       "      <th>bathroom</th>\n",
       "      <th>garage</th>\n",
       "      <th>garden</th>\n",
       "      <th>EPC(kWh/m²)</th>\n",
       "      <th>renovation_obligation</th>\n",
       "      <th>year_built</th>\n",
       "      <th>mobiscore</th>\n",
       "      <th>url</th>\n",
       "    </tr>\n",
       "  </thead>\n",
       "  <tbody>\n",
       "    <tr>\n",
       "      <th>33</th>\n",
       "      <td>L5O5X</td>\n",
       "      <td>Vakantiewoning (Huis)</td>\n",
       "      <td>42500.0</td>\n",
       "      <td>Parelstrand</td>\n",
       "      <td>154</td>\n",
       "      <td>3920</td>\n",
       "      <td>Lommel</td>\n",
       "      <td>NaN</td>\n",
       "      <td>NaN</td>\n",
       "      <td>NaN</td>\n",
       "      <td>NaN</td>\n",
       "      <td>NaN</td>\n",
       "      <td>False</td>\n",
       "      <td>NaN</td>\n",
       "      <td>False</td>\n",
       "      <td>NaN</td>\n",
       "      <td>6.8</td>\n",
       "      <td>https://www.zimmo.be/nl/lommel-3920/te-koop/hu...</td>\n",
       "    </tr>\n",
       "    <tr>\n",
       "      <th>34</th>\n",
       "      <td>L7MF9</td>\n",
       "      <td>Appartement</td>\n",
       "      <td>38500.0</td>\n",
       "      <td>Dorlodotlaan</td>\n",
       "      <td>8</td>\n",
       "      <td>8670</td>\n",
       "      <td>Koksijde</td>\n",
       "      <td>NaN</td>\n",
       "      <td>NaN</td>\n",
       "      <td>NaN</td>\n",
       "      <td>NaN</td>\n",
       "      <td>NaN</td>\n",
       "      <td>False</td>\n",
       "      <td>NaN</td>\n",
       "      <td>False</td>\n",
       "      <td>1975.0</td>\n",
       "      <td>8.1</td>\n",
       "      <td>https://www.zimmo.be/nl/koksijde-8670/te-koop/...</td>\n",
       "    </tr>\n",
       "    <tr>\n",
       "      <th>44</th>\n",
       "      <td>L3Q5V</td>\n",
       "      <td>Gemengd gebruik (Huis)</td>\n",
       "      <td>25000.0</td>\n",
       "      <td>Rue Appâa</td>\n",
       "      <td>15</td>\n",
       "      <td>7340</td>\n",
       "      <td>Wasmes</td>\n",
       "      <td>NaN</td>\n",
       "      <td>NaN</td>\n",
       "      <td>NaN</td>\n",
       "      <td>NaN</td>\n",
       "      <td>1.0</td>\n",
       "      <td>False</td>\n",
       "      <td>NaN</td>\n",
       "      <td>NaN</td>\n",
       "      <td>NaN</td>\n",
       "      <td>NaN</td>\n",
       "      <td>https://www.zimmo.be/nl/wasmes-7340/te-koop/hu...</td>\n",
       "    </tr>\n",
       "    <tr>\n",
       "      <th>49</th>\n",
       "      <td>L3VPC</td>\n",
       "      <td>Woning (Huis)</td>\n",
       "      <td>29000.0</td>\n",
       "      <td>Morelgem</td>\n",
       "      <td>NaN</td>\n",
       "      <td>9520</td>\n",
       "      <td>Vlierzele</td>\n",
       "      <td>NaN</td>\n",
       "      <td>NaN</td>\n",
       "      <td>NaN</td>\n",
       "      <td>NaN</td>\n",
       "      <td>NaN</td>\n",
       "      <td>False</td>\n",
       "      <td>NaN</td>\n",
       "      <td>False</td>\n",
       "      <td>NaN</td>\n",
       "      <td>NaN</td>\n",
       "      <td>https://www.zimmo.be/nl/vlierzele-9520/te-koop...</td>\n",
       "    </tr>\n",
       "    <tr>\n",
       "      <th>57</th>\n",
       "      <td>KXLWR</td>\n",
       "      <td>Studio met slaaphoek (Appartement)</td>\n",
       "      <td>29990.0</td>\n",
       "      <td>krommedijk</td>\n",
       "      <td>NaN</td>\n",
       "      <td>8301</td>\n",
       "      <td>Duinbergen</td>\n",
       "      <td>NaN</td>\n",
       "      <td>NaN</td>\n",
       "      <td>NaN</td>\n",
       "      <td>NaN</td>\n",
       "      <td>NaN</td>\n",
       "      <td>False</td>\n",
       "      <td>0.0</td>\n",
       "      <td>False</td>\n",
       "      <td>NaN</td>\n",
       "      <td>8.4</td>\n",
       "      <td>https://www.zimmo.be/nl/duinbergen-8301/te-koo...</td>\n",
       "    </tr>\n",
       "    <tr>\n",
       "      <th>...</th>\n",
       "      <td>...</td>\n",
       "      <td>...</td>\n",
       "      <td>...</td>\n",
       "      <td>...</td>\n",
       "      <td>...</td>\n",
       "      <td>...</td>\n",
       "      <td>...</td>\n",
       "      <td>...</td>\n",
       "      <td>...</td>\n",
       "      <td>...</td>\n",
       "      <td>...</td>\n",
       "      <td>...</td>\n",
       "      <td>...</td>\n",
       "      <td>...</td>\n",
       "      <td>...</td>\n",
       "      <td>...</td>\n",
       "      <td>...</td>\n",
       "      <td>...</td>\n",
       "    </tr>\n",
       "    <tr>\n",
       "      <th>25196</th>\n",
       "      <td>L23Q1</td>\n",
       "      <td>Woning (Huis)</td>\n",
       "      <td>2200000.0</td>\n",
       "      <td>Wayezstraat</td>\n",
       "      <td>NaN</td>\n",
       "      <td>1070</td>\n",
       "      <td>Anderlecht</td>\n",
       "      <td>NaN</td>\n",
       "      <td>NaN</td>\n",
       "      <td>NaN</td>\n",
       "      <td>NaN</td>\n",
       "      <td>NaN</td>\n",
       "      <td>False</td>\n",
       "      <td>NaN</td>\n",
       "      <td>NaN</td>\n",
       "      <td>NaN</td>\n",
       "      <td>9.6</td>\n",
       "      <td>https://www.zimmo.be/nl/anderlecht-1070/te-koo...</td>\n",
       "    </tr>\n",
       "    <tr>\n",
       "      <th>25226</th>\n",
       "      <td>L0J0D</td>\n",
       "      <td>Woning (Huis)</td>\n",
       "      <td>3209250.0</td>\n",
       "      <td>Prinsenstraat NB</td>\n",
       "      <td>NaN</td>\n",
       "      <td>8940</td>\n",
       "      <td>Wervik</td>\n",
       "      <td>NaN</td>\n",
       "      <td>NaN</td>\n",
       "      <td>NaN</td>\n",
       "      <td>NaN</td>\n",
       "      <td>NaN</td>\n",
       "      <td>False</td>\n",
       "      <td>NaN</td>\n",
       "      <td>False</td>\n",
       "      <td>NaN</td>\n",
       "      <td>7.8</td>\n",
       "      <td>https://www.zimmo.be/nl/wervik-8940/te-koop/hu...</td>\n",
       "    </tr>\n",
       "    <tr>\n",
       "      <th>25236</th>\n",
       "      <td>L0G6C</td>\n",
       "      <td>Appartement</td>\n",
       "      <td>2890000.0</td>\n",
       "      <td>Sterrenstraat</td>\n",
       "      <td>52</td>\n",
       "      <td>2500</td>\n",
       "      <td>Lier</td>\n",
       "      <td>NaN</td>\n",
       "      <td>NaN</td>\n",
       "      <td>NaN</td>\n",
       "      <td>NaN</td>\n",
       "      <td>NaN</td>\n",
       "      <td>False</td>\n",
       "      <td>30.0</td>\n",
       "      <td>False</td>\n",
       "      <td>2025.0</td>\n",
       "      <td>8.4</td>\n",
       "      <td>https://www.zimmo.be/nl/lier-2500/te-koop/appa...</td>\n",
       "    </tr>\n",
       "    <tr>\n",
       "      <th>25245</th>\n",
       "      <td>KZQPD</td>\n",
       "      <td>Uitzonderlijke woning (Huis)</td>\n",
       "      <td>1850000.0</td>\n",
       "      <td>NaN</td>\n",
       "      <td>NaN</td>\n",
       "      <td>3000</td>\n",
       "      <td>Leuven</td>\n",
       "      <td>NaN</td>\n",
       "      <td>NaN</td>\n",
       "      <td>NaN</td>\n",
       "      <td>NaN</td>\n",
       "      <td>NaN</td>\n",
       "      <td>False</td>\n",
       "      <td>249.0</td>\n",
       "      <td>False</td>\n",
       "      <td>NaN</td>\n",
       "      <td>9.5</td>\n",
       "      <td>https://www.zimmo.be/nl/leuven-3000/te-koop/hu...</td>\n",
       "    </tr>\n",
       "    <tr>\n",
       "      <th>25361</th>\n",
       "      <td>KLDH7</td>\n",
       "      <td>Gemengd gebruik (Huis)</td>\n",
       "      <td>1999000.0</td>\n",
       "      <td>Paleisstraat</td>\n",
       "      <td>103</td>\n",
       "      <td>2018</td>\n",
       "      <td>Antwerpen</td>\n",
       "      <td>NaN</td>\n",
       "      <td>NaN</td>\n",
       "      <td>NaN</td>\n",
       "      <td>NaN</td>\n",
       "      <td>NaN</td>\n",
       "      <td>False</td>\n",
       "      <td>NaN</td>\n",
       "      <td>False</td>\n",
       "      <td>NaN</td>\n",
       "      <td>9.5</td>\n",
       "      <td>https://www.zimmo.be/nl/antwerpen-2018/te-koop...</td>\n",
       "    </tr>\n",
       "  </tbody>\n",
       "</table>\n",
       "<p>256 rows × 18 columns</p>\n",
       "</div>"
      ],
      "text/plain": [
       "      zimmo_code                                type      price  \\\n",
       "33         L5O5X               Vakantiewoning (Huis)    42500.0   \n",
       "34         L7MF9                         Appartement    38500.0   \n",
       "44         L3Q5V              Gemengd gebruik (Huis)    25000.0   \n",
       "49         L3VPC                       Woning (Huis)    29000.0   \n",
       "57         KXLWR  Studio met slaaphoek (Appartement)    29990.0   \n",
       "...          ...                                 ...        ...   \n",
       "25196      L23Q1                       Woning (Huis)  2200000.0   \n",
       "25226      L0J0D                       Woning (Huis)  3209250.0   \n",
       "25236      L0G6C                         Appartement  2890000.0   \n",
       "25245      KZQPD        Uitzonderlijke woning (Huis)  1850000.0   \n",
       "25361      KLDH7              Gemengd gebruik (Huis)  1999000.0   \n",
       "\n",
       "                 street number postcode        city  living_area(m²)  \\\n",
       "33          Parelstrand    154     3920      Lommel              NaN   \n",
       "34         Dorlodotlaan      8     8670    Koksijde              NaN   \n",
       "44            Rue Appâa     15     7340      Wasmes              NaN   \n",
       "49             Morelgem    NaN     9520   Vlierzele              NaN   \n",
       "57           krommedijk    NaN     8301  Duinbergen              NaN   \n",
       "...                 ...    ...      ...         ...              ...   \n",
       "25196       Wayezstraat    NaN     1070  Anderlecht              NaN   \n",
       "25226  Prinsenstraat NB    NaN     8940      Wervik              NaN   \n",
       "25236     Sterrenstraat     52     2500        Lier              NaN   \n",
       "25245               NaN    NaN     3000      Leuven              NaN   \n",
       "25361      Paleisstraat    103     2018   Antwerpen              NaN   \n",
       "\n",
       "       ground_area(m²)  bedroom  bathroom  garage  garden  EPC(kWh/m²)  \\\n",
       "33                 NaN      NaN       NaN     NaN   False          NaN   \n",
       "34                 NaN      NaN       NaN     NaN   False          NaN   \n",
       "44                 NaN      NaN       NaN     1.0   False          NaN   \n",
       "49                 NaN      NaN       NaN     NaN   False          NaN   \n",
       "57                 NaN      NaN       NaN     NaN   False          0.0   \n",
       "...                ...      ...       ...     ...     ...          ...   \n",
       "25196              NaN      NaN       NaN     NaN   False          NaN   \n",
       "25226              NaN      NaN       NaN     NaN   False          NaN   \n",
       "25236              NaN      NaN       NaN     NaN   False         30.0   \n",
       "25245              NaN      NaN       NaN     NaN   False        249.0   \n",
       "25361              NaN      NaN       NaN     NaN   False          NaN   \n",
       "\n",
       "      renovation_obligation  year_built  mobiscore  \\\n",
       "33                    False         NaN        6.8   \n",
       "34                    False      1975.0        8.1   \n",
       "44                      NaN         NaN        NaN   \n",
       "49                    False         NaN        NaN   \n",
       "57                    False         NaN        8.4   \n",
       "...                     ...         ...        ...   \n",
       "25196                   NaN         NaN        9.6   \n",
       "25226                 False         NaN        7.8   \n",
       "25236                 False      2025.0        8.4   \n",
       "25245                 False         NaN        9.5   \n",
       "25361                 False         NaN        9.5   \n",
       "\n",
       "                                                     url  \n",
       "33     https://www.zimmo.be/nl/lommel-3920/te-koop/hu...  \n",
       "34     https://www.zimmo.be/nl/koksijde-8670/te-koop/...  \n",
       "44     https://www.zimmo.be/nl/wasmes-7340/te-koop/hu...  \n",
       "49     https://www.zimmo.be/nl/vlierzele-9520/te-koop...  \n",
       "57     https://www.zimmo.be/nl/duinbergen-8301/te-koo...  \n",
       "...                                                  ...  \n",
       "25196  https://www.zimmo.be/nl/anderlecht-1070/te-koo...  \n",
       "25226  https://www.zimmo.be/nl/wervik-8940/te-koop/hu...  \n",
       "25236  https://www.zimmo.be/nl/lier-2500/te-koop/appa...  \n",
       "25245  https://www.zimmo.be/nl/leuven-3000/te-koop/hu...  \n",
       "25361  https://www.zimmo.be/nl/antwerpen-2018/te-koop...  \n",
       "\n",
       "[256 rows x 18 columns]"
      ]
     },
     "execution_count": 14,
     "metadata": {},
     "output_type": "execute_result"
    }
   ],
   "source": [
    "raw_df[raw_df[['bedroom', 'bathroom', 'living_area(m²)', 'ground_area(m²)']].isna().all(axis=1)]"
   ]
  },
  {
   "cell_type": "markdown",
   "id": "238c5192",
   "metadata": {},
   "source": [
    "##### Dropping the url columns"
   ]
  },
  {
   "cell_type": "code",
   "execution_count": 115,
   "id": "34da7583",
   "metadata": {},
   "outputs": [],
   "source": [
    "clean_df = raw_df.drop(columns={'url'})"
   ]
  },
  {
   "cell_type": "code",
   "execution_count": null,
   "id": "acc17bc8",
   "metadata": {},
   "outputs": [],
   "source": []
  }
 ],
 "metadata": {
  "kernelspec": {
   "display_name": "venv",
   "language": "python",
   "name": "python3"
  },
  "language_info": {
   "codemirror_mode": {
    "name": "ipython",
    "version": 3
   },
   "file_extension": ".py",
   "mimetype": "text/x-python",
   "name": "python",
   "nbconvert_exporter": "python",
   "pygments_lexer": "ipython3",
   "version": "3.10.4"
  }
 },
 "nbformat": 4,
 "nbformat_minor": 5
}
