{
 "cells": [
  {
   "cell_type": "code",
   "execution_count": 4,
   "id": "5d3cb233",
   "metadata": {},
   "outputs": [
    {
     "name": "stdout",
     "output_type": "stream",
     "text": [
      "   bedroomCount  bathroomCount  habitableSurface  toiletCount  postCode  \\\n",
      "0           2.0            1.0             100.0          1.0      1040   \n",
      "1           4.0            2.0             270.0          3.0      1040   \n",
      "2           2.0            1.0              87.0          1.0      1040   \n",
      "3           2.0            2.0             104.0          2.0      1040   \n",
      "4           1.0            1.0              71.0          1.0      1040   \n",
      "\n",
      "   province_encoded  type_encoded  subtype_encoded  locality_encoded  \\\n",
      "0                 1             1                1             951.0   \n",
      "1                 1             2                2             951.0   \n",
      "2                 1             1                1             951.0   \n",
      "3                 1             1                1             551.0   \n",
      "4                 1             1                3             951.0   \n",
      "\n",
      "   gardenOrientation_encoded  terraceOrientation_encoded  epcScore_encoded  \\\n",
      "0                        3.0                         3.0               4.0   \n",
      "1                        1.0                         3.0               2.0   \n",
      "2                        3.0                         3.0               1.0   \n",
      "3                        3.0                         3.0               5.0   \n",
      "4                        3.0                         3.0               2.0   \n",
      "\n",
      "   hasAttic_encoded  hasGarden_encoded  hasAirConditioning_encoded  \\\n",
      "0               NaN                NaN                         NaN   \n",
      "1               NaN                NaN                         NaN   \n",
      "2               NaN                NaN                         NaN   \n",
      "3               NaN                NaN                         NaN   \n",
      "4               NaN                NaN                         NaN   \n",
      "\n",
      "   hasArmoredDoor_encoded  hasVisiophone_encoded  hasTerrace_encoded     price  \n",
      "0                     NaN                    NaN                   1  399000.0  \n",
      "1                     NaN                    NaN                   1  895000.0  \n",
      "2                     NaN                    NaN                   1  465000.0  \n",
      "3                     NaN                    NaN                   1  590000.0  \n",
      "4                     NaN                    NaN                   0  289000.0  \n"
     ]
    }
   ],
   "source": [
    "import pandas as pd\n",
    "df = pd.read_csv(\"ml_ready_real_estate_data.csv\")\n",
    "print(df.head())"
   ]
  }
 ],
 "metadata": {
  "kernelspec": {
   "display_name": "base",
   "language": "python",
   "name": "python3"
  },
  "language_info": {
   "codemirror_mode": {
    "name": "ipython",
    "version": 3
   },
   "file_extension": ".py",
   "mimetype": "text/x-python",
   "name": "python",
   "nbconvert_exporter": "python",
   "pygments_lexer": "ipython3",
   "version": "3.12.4"
  }
 },
 "nbformat": 4,
 "nbformat_minor": 5
}
