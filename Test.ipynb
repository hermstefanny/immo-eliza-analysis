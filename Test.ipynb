{
 "cells": [
  {
   "cell_type": "code",
   "execution_count": 1,
   "metadata": {},
   "outputs": [
    {
     "name": "stdout",
     "output_type": "stream",
     "text": [
      "   bedroomCount  bathroomCount  habitableSurface  toiletCount  postCode  \\\n",
      "0           2.0            1.0             100.0          1.0      1040   \n",
      "1           4.0            2.0             270.0          3.0      1040   \n",
      "2           2.0            1.0              87.0          1.0      1040   \n",
      "3           2.0            2.0             104.0          2.0      1040   \n",
      "4           1.0            1.0              71.0          1.0      1040   \n",
      "\n",
      "   totalParkingCount  province_encoded  type_encoded  subtype_encoded  \\\n",
      "0                1.0                 1             1                1   \n",
      "1                0.0                 1             2                2   \n",
      "2                0.0                 1             1                1   \n",
      "3                0.0                 1             1                1   \n",
      "4                0.0                 1             1                3   \n",
      "\n",
      "   locality_encoded  ...  hasSwimmingPool_encoded  hasFireplace_encoded  \\\n",
      "0             951.0  ...                        0                     0   \n",
      "1             951.0  ...                        0                     0   \n",
      "2             951.0  ...                        0                     0   \n",
      "3             551.0  ...                        0                     0   \n",
      "4             951.0  ...                        0                     0   \n",
      "\n",
      "   hasBasement_encoded  hasDressingRoom_encoded  hasDiningRoom_encoded  \\\n",
      "0                    1                        0                      0   \n",
      "1                    1                        0                      1   \n",
      "2                    0                        0                      0   \n",
      "3                    0                        0                      0   \n",
      "4                    0                        0                      0   \n",
      "\n",
      "   hasLift_encoded  hasHeatPump_encoded  hasPhotovoltaicPanels_encoded  \\\n",
      "0                1                    0                              0   \n",
      "1                0                    0                              0   \n",
      "2                1                    0                              0   \n",
      "3                1                    0                              0   \n",
      "4                0                    0                              0   \n",
      "\n",
      "   hasLivingRoom_encoded     price  \n",
      "0                      1  399000.0  \n",
      "1                      1  895000.0  \n",
      "2                      1  465000.0  \n",
      "3                      1  590000.0  \n",
      "4                      0  289000.0  \n",
      "\n",
      "[5 rows x 28 columns]\n"
     ]
    }
   ],
   "source": [
    "import pandas as pd\n",
    "import matplotlib.pyplot as plt\n",
    "df = pd.read_csv(\"ml_ready_real_estate_data.csv\")\n",
    "print(df.head())"
   ]
  },
  {
   "cell_type": "code",
   "execution_count": 8,
   "metadata": {},
   "outputs": [
    {
     "name": "stdout",
     "output_type": "stream",
     "text": [
      "[1040 1020 1030 ... 9971 9982 9991]\n"
     ]
    }
   ],
   "source": [
    "uniques_postal = df['postCode'].unique()\n",
    "\n",
    "print(uniques_postal)\n"
   ]
  }
 ],
 "metadata": {
  "kernelspec": {
   "display_name": "base",
   "language": "python",
   "name": "python3"
  },
  "language_info": {
   "codemirror_mode": {
    "name": "ipython",
    "version": 3
   },
   "file_extension": ".py",
   "mimetype": "text/x-python",
   "name": "python",
   "nbconvert_exporter": "python",
   "pygments_lexer": "ipython3",
   "version": "3.12.7"
  }
 },
 "nbformat": 4,
 "nbformat_minor": 2
}
