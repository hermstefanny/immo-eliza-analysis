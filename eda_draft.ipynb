{
 "cells": [
  {
   "cell_type": "markdown",
   "id": "56310b13",
   "metadata": {},
   "source": [
    "# Exploratory Data Analysis"
   ]
  },
  {
   "cell_type": "code",
   "execution_count": 1,
   "id": "a9d3a971",
   "metadata": {},
   "outputs": [],
   "source": [
    "import pandas as pd\n",
    "import matplotlib.pyplot as plt\n",
    "import seaborn as sns\n",
    "import numpy as np\n",
    "from clean_dataset import import_csv_data\n",
    "import scipy.stats as stats\n",
    "from clean_immo_datasetV2 import encode_categorical_features, preprocess_missing_values"
   ]
  },
  {
   "cell_type": "markdown",
   "id": "e0374677",
   "metadata": {},
   "source": [
    "#### Load clean csv"
   ]
  },
  {
   "cell_type": "code",
   "execution_count": 2,
   "id": "d0ca4ddd",
   "metadata": {},
   "outputs": [
    {
     "ename": "FileNotFoundError",
     "evalue": "[Errno 2] No such file or directory: 'cleaned_real_estate_data.csv'",
     "output_type": "error",
     "traceback": [
      "\u001b[1;31m---------------------------------------------------------------------------\u001b[0m",
      "\u001b[1;31mFileNotFoundError\u001b[0m                         Traceback (most recent call last)",
      "Cell \u001b[1;32mIn[2], line 2\u001b[0m\n\u001b[0;32m      1\u001b[0m file_path \u001b[38;5;241m=\u001b[39m \u001b[38;5;124m'\u001b[39m\u001b[38;5;124mcleaned_real_estate_data.csv\u001b[39m\u001b[38;5;124m'\u001b[39m\n\u001b[1;32m----> 2\u001b[0m raw_df \u001b[38;5;241m=\u001b[39m \u001b[43mimport_csv_data\u001b[49m\u001b[43m(\u001b[49m\u001b[43mfile_path\u001b[49m\u001b[43m)\u001b[49m\n\u001b[0;32m      3\u001b[0m raw_df\n",
      "File \u001b[1;32mc:\\Users\\herms\\Desktop\\BeCode-Bauman\\TheHill_Projects\\immo-eliza-analysis\\clean_dataset.py:5\u001b[0m, in \u001b[0;36mimport_csv_data\u001b[1;34m(file_location)\u001b[0m\n\u001b[0;32m      3\u001b[0m \u001b[38;5;28;01mdef\u001b[39;00m\u001b[38;5;250m \u001b[39m\u001b[38;5;21mimport_csv_data\u001b[39m(file_location):\n\u001b[0;32m      4\u001b[0m \u001b[38;5;250m    \u001b[39m\u001b[38;5;124;03m\"\"\"Import CSV file and convert it to a pandas DataFrame structure.\"\"\"\u001b[39;00m\n\u001b[1;32m----> 5\u001b[0m     \u001b[38;5;28;01mreturn\u001b[39;00m \u001b[43mpd\u001b[49m\u001b[38;5;241;43m.\u001b[39;49m\u001b[43mread_csv\u001b[49m\u001b[43m(\u001b[49m\u001b[43mfile_location\u001b[49m\u001b[43m)\u001b[49m\n",
      "File \u001b[1;32mc:\\Users\\herms\\Desktop\\BeCode-Bauman\\TheHill_Projects\\immo-eliza-analysis\\venv\\lib\\site-packages\\pandas\\io\\parsers\\readers.py:1026\u001b[0m, in \u001b[0;36mread_csv\u001b[1;34m(filepath_or_buffer, sep, delimiter, header, names, index_col, usecols, dtype, engine, converters, true_values, false_values, skipinitialspace, skiprows, skipfooter, nrows, na_values, keep_default_na, na_filter, verbose, skip_blank_lines, parse_dates, infer_datetime_format, keep_date_col, date_parser, date_format, dayfirst, cache_dates, iterator, chunksize, compression, thousands, decimal, lineterminator, quotechar, quoting, doublequote, escapechar, comment, encoding, encoding_errors, dialect, on_bad_lines, delim_whitespace, low_memory, memory_map, float_precision, storage_options, dtype_backend)\u001b[0m\n\u001b[0;32m   1013\u001b[0m kwds_defaults \u001b[38;5;241m=\u001b[39m _refine_defaults_read(\n\u001b[0;32m   1014\u001b[0m     dialect,\n\u001b[0;32m   1015\u001b[0m     delimiter,\n\u001b[1;32m   (...)\u001b[0m\n\u001b[0;32m   1022\u001b[0m     dtype_backend\u001b[38;5;241m=\u001b[39mdtype_backend,\n\u001b[0;32m   1023\u001b[0m )\n\u001b[0;32m   1024\u001b[0m kwds\u001b[38;5;241m.\u001b[39mupdate(kwds_defaults)\n\u001b[1;32m-> 1026\u001b[0m \u001b[38;5;28;01mreturn\u001b[39;00m \u001b[43m_read\u001b[49m\u001b[43m(\u001b[49m\u001b[43mfilepath_or_buffer\u001b[49m\u001b[43m,\u001b[49m\u001b[43m \u001b[49m\u001b[43mkwds\u001b[49m\u001b[43m)\u001b[49m\n",
      "File \u001b[1;32mc:\\Users\\herms\\Desktop\\BeCode-Bauman\\TheHill_Projects\\immo-eliza-analysis\\venv\\lib\\site-packages\\pandas\\io\\parsers\\readers.py:620\u001b[0m, in \u001b[0;36m_read\u001b[1;34m(filepath_or_buffer, kwds)\u001b[0m\n\u001b[0;32m    617\u001b[0m _validate_names(kwds\u001b[38;5;241m.\u001b[39mget(\u001b[38;5;124m\"\u001b[39m\u001b[38;5;124mnames\u001b[39m\u001b[38;5;124m\"\u001b[39m, \u001b[38;5;28;01mNone\u001b[39;00m))\n\u001b[0;32m    619\u001b[0m \u001b[38;5;66;03m# Create the parser.\u001b[39;00m\n\u001b[1;32m--> 620\u001b[0m parser \u001b[38;5;241m=\u001b[39m TextFileReader(filepath_or_buffer, \u001b[38;5;241m*\u001b[39m\u001b[38;5;241m*\u001b[39mkwds)\n\u001b[0;32m    622\u001b[0m \u001b[38;5;28;01mif\u001b[39;00m chunksize \u001b[38;5;129;01mor\u001b[39;00m iterator:\n\u001b[0;32m    623\u001b[0m     \u001b[38;5;28;01mreturn\u001b[39;00m parser\n",
      "File \u001b[1;32mc:\\Users\\herms\\Desktop\\BeCode-Bauman\\TheHill_Projects\\immo-eliza-analysis\\venv\\lib\\site-packages\\pandas\\io\\parsers\\readers.py:1620\u001b[0m, in \u001b[0;36mTextFileReader.__init__\u001b[1;34m(self, f, engine, **kwds)\u001b[0m\n\u001b[0;32m   1617\u001b[0m     \u001b[38;5;28mself\u001b[39m\u001b[38;5;241m.\u001b[39moptions[\u001b[38;5;124m\"\u001b[39m\u001b[38;5;124mhas_index_names\u001b[39m\u001b[38;5;124m\"\u001b[39m] \u001b[38;5;241m=\u001b[39m kwds[\u001b[38;5;124m\"\u001b[39m\u001b[38;5;124mhas_index_names\u001b[39m\u001b[38;5;124m\"\u001b[39m]\n\u001b[0;32m   1619\u001b[0m \u001b[38;5;28mself\u001b[39m\u001b[38;5;241m.\u001b[39mhandles: IOHandles \u001b[38;5;241m|\u001b[39m \u001b[38;5;28;01mNone\u001b[39;00m \u001b[38;5;241m=\u001b[39m \u001b[38;5;28;01mNone\u001b[39;00m\n\u001b[1;32m-> 1620\u001b[0m \u001b[38;5;28mself\u001b[39m\u001b[38;5;241m.\u001b[39m_engine \u001b[38;5;241m=\u001b[39m \u001b[38;5;28;43mself\u001b[39;49m\u001b[38;5;241;43m.\u001b[39;49m\u001b[43m_make_engine\u001b[49m\u001b[43m(\u001b[49m\u001b[43mf\u001b[49m\u001b[43m,\u001b[49m\u001b[43m \u001b[49m\u001b[38;5;28;43mself\u001b[39;49m\u001b[38;5;241;43m.\u001b[39;49m\u001b[43mengine\u001b[49m\u001b[43m)\u001b[49m\n",
      "File \u001b[1;32mc:\\Users\\herms\\Desktop\\BeCode-Bauman\\TheHill_Projects\\immo-eliza-analysis\\venv\\lib\\site-packages\\pandas\\io\\parsers\\readers.py:1880\u001b[0m, in \u001b[0;36mTextFileReader._make_engine\u001b[1;34m(self, f, engine)\u001b[0m\n\u001b[0;32m   1878\u001b[0m     \u001b[38;5;28;01mif\u001b[39;00m \u001b[38;5;124m\"\u001b[39m\u001b[38;5;124mb\u001b[39m\u001b[38;5;124m\"\u001b[39m \u001b[38;5;129;01mnot\u001b[39;00m \u001b[38;5;129;01min\u001b[39;00m mode:\n\u001b[0;32m   1879\u001b[0m         mode \u001b[38;5;241m+\u001b[39m\u001b[38;5;241m=\u001b[39m \u001b[38;5;124m\"\u001b[39m\u001b[38;5;124mb\u001b[39m\u001b[38;5;124m\"\u001b[39m\n\u001b[1;32m-> 1880\u001b[0m \u001b[38;5;28mself\u001b[39m\u001b[38;5;241m.\u001b[39mhandles \u001b[38;5;241m=\u001b[39m \u001b[43mget_handle\u001b[49m\u001b[43m(\u001b[49m\n\u001b[0;32m   1881\u001b[0m \u001b[43m    \u001b[49m\u001b[43mf\u001b[49m\u001b[43m,\u001b[49m\n\u001b[0;32m   1882\u001b[0m \u001b[43m    \u001b[49m\u001b[43mmode\u001b[49m\u001b[43m,\u001b[49m\n\u001b[0;32m   1883\u001b[0m \u001b[43m    \u001b[49m\u001b[43mencoding\u001b[49m\u001b[38;5;241;43m=\u001b[39;49m\u001b[38;5;28;43mself\u001b[39;49m\u001b[38;5;241;43m.\u001b[39;49m\u001b[43moptions\u001b[49m\u001b[38;5;241;43m.\u001b[39;49m\u001b[43mget\u001b[49m\u001b[43m(\u001b[49m\u001b[38;5;124;43m\"\u001b[39;49m\u001b[38;5;124;43mencoding\u001b[39;49m\u001b[38;5;124;43m\"\u001b[39;49m\u001b[43m,\u001b[49m\u001b[43m \u001b[49m\u001b[38;5;28;43;01mNone\u001b[39;49;00m\u001b[43m)\u001b[49m\u001b[43m,\u001b[49m\n\u001b[0;32m   1884\u001b[0m \u001b[43m    \u001b[49m\u001b[43mcompression\u001b[49m\u001b[38;5;241;43m=\u001b[39;49m\u001b[38;5;28;43mself\u001b[39;49m\u001b[38;5;241;43m.\u001b[39;49m\u001b[43moptions\u001b[49m\u001b[38;5;241;43m.\u001b[39;49m\u001b[43mget\u001b[49m\u001b[43m(\u001b[49m\u001b[38;5;124;43m\"\u001b[39;49m\u001b[38;5;124;43mcompression\u001b[39;49m\u001b[38;5;124;43m\"\u001b[39;49m\u001b[43m,\u001b[49m\u001b[43m \u001b[49m\u001b[38;5;28;43;01mNone\u001b[39;49;00m\u001b[43m)\u001b[49m\u001b[43m,\u001b[49m\n\u001b[0;32m   1885\u001b[0m \u001b[43m    \u001b[49m\u001b[43mmemory_map\u001b[49m\u001b[38;5;241;43m=\u001b[39;49m\u001b[38;5;28;43mself\u001b[39;49m\u001b[38;5;241;43m.\u001b[39;49m\u001b[43moptions\u001b[49m\u001b[38;5;241;43m.\u001b[39;49m\u001b[43mget\u001b[49m\u001b[43m(\u001b[49m\u001b[38;5;124;43m\"\u001b[39;49m\u001b[38;5;124;43mmemory_map\u001b[39;49m\u001b[38;5;124;43m\"\u001b[39;49m\u001b[43m,\u001b[49m\u001b[43m \u001b[49m\u001b[38;5;28;43;01mFalse\u001b[39;49;00m\u001b[43m)\u001b[49m\u001b[43m,\u001b[49m\n\u001b[0;32m   1886\u001b[0m \u001b[43m    \u001b[49m\u001b[43mis_text\u001b[49m\u001b[38;5;241;43m=\u001b[39;49m\u001b[43mis_text\u001b[49m\u001b[43m,\u001b[49m\n\u001b[0;32m   1887\u001b[0m \u001b[43m    \u001b[49m\u001b[43merrors\u001b[49m\u001b[38;5;241;43m=\u001b[39;49m\u001b[38;5;28;43mself\u001b[39;49m\u001b[38;5;241;43m.\u001b[39;49m\u001b[43moptions\u001b[49m\u001b[38;5;241;43m.\u001b[39;49m\u001b[43mget\u001b[49m\u001b[43m(\u001b[49m\u001b[38;5;124;43m\"\u001b[39;49m\u001b[38;5;124;43mencoding_errors\u001b[39;49m\u001b[38;5;124;43m\"\u001b[39;49m\u001b[43m,\u001b[49m\u001b[43m \u001b[49m\u001b[38;5;124;43m\"\u001b[39;49m\u001b[38;5;124;43mstrict\u001b[39;49m\u001b[38;5;124;43m\"\u001b[39;49m\u001b[43m)\u001b[49m\u001b[43m,\u001b[49m\n\u001b[0;32m   1888\u001b[0m \u001b[43m    \u001b[49m\u001b[43mstorage_options\u001b[49m\u001b[38;5;241;43m=\u001b[39;49m\u001b[38;5;28;43mself\u001b[39;49m\u001b[38;5;241;43m.\u001b[39;49m\u001b[43moptions\u001b[49m\u001b[38;5;241;43m.\u001b[39;49m\u001b[43mget\u001b[49m\u001b[43m(\u001b[49m\u001b[38;5;124;43m\"\u001b[39;49m\u001b[38;5;124;43mstorage_options\u001b[39;49m\u001b[38;5;124;43m\"\u001b[39;49m\u001b[43m,\u001b[49m\u001b[43m \u001b[49m\u001b[38;5;28;43;01mNone\u001b[39;49;00m\u001b[43m)\u001b[49m\u001b[43m,\u001b[49m\n\u001b[0;32m   1889\u001b[0m \u001b[43m\u001b[49m\u001b[43m)\u001b[49m\n\u001b[0;32m   1890\u001b[0m \u001b[38;5;28;01massert\u001b[39;00m \u001b[38;5;28mself\u001b[39m\u001b[38;5;241m.\u001b[39mhandles \u001b[38;5;129;01mis\u001b[39;00m \u001b[38;5;129;01mnot\u001b[39;00m \u001b[38;5;28;01mNone\u001b[39;00m\n\u001b[0;32m   1891\u001b[0m f \u001b[38;5;241m=\u001b[39m \u001b[38;5;28mself\u001b[39m\u001b[38;5;241m.\u001b[39mhandles\u001b[38;5;241m.\u001b[39mhandle\n",
      "File \u001b[1;32mc:\\Users\\herms\\Desktop\\BeCode-Bauman\\TheHill_Projects\\immo-eliza-analysis\\venv\\lib\\site-packages\\pandas\\io\\common.py:873\u001b[0m, in \u001b[0;36mget_handle\u001b[1;34m(path_or_buf, mode, encoding, compression, memory_map, is_text, errors, storage_options)\u001b[0m\n\u001b[0;32m    868\u001b[0m \u001b[38;5;28;01melif\u001b[39;00m \u001b[38;5;28misinstance\u001b[39m(handle, \u001b[38;5;28mstr\u001b[39m):\n\u001b[0;32m    869\u001b[0m     \u001b[38;5;66;03m# Check whether the filename is to be opened in binary mode.\u001b[39;00m\n\u001b[0;32m    870\u001b[0m     \u001b[38;5;66;03m# Binary mode does not support 'encoding' and 'newline'.\u001b[39;00m\n\u001b[0;32m    871\u001b[0m     \u001b[38;5;28;01mif\u001b[39;00m ioargs\u001b[38;5;241m.\u001b[39mencoding \u001b[38;5;129;01mand\u001b[39;00m \u001b[38;5;124m\"\u001b[39m\u001b[38;5;124mb\u001b[39m\u001b[38;5;124m\"\u001b[39m \u001b[38;5;129;01mnot\u001b[39;00m \u001b[38;5;129;01min\u001b[39;00m ioargs\u001b[38;5;241m.\u001b[39mmode:\n\u001b[0;32m    872\u001b[0m         \u001b[38;5;66;03m# Encoding\u001b[39;00m\n\u001b[1;32m--> 873\u001b[0m         handle \u001b[38;5;241m=\u001b[39m \u001b[38;5;28;43mopen\u001b[39;49m\u001b[43m(\u001b[49m\n\u001b[0;32m    874\u001b[0m \u001b[43m            \u001b[49m\u001b[43mhandle\u001b[49m\u001b[43m,\u001b[49m\n\u001b[0;32m    875\u001b[0m \u001b[43m            \u001b[49m\u001b[43mioargs\u001b[49m\u001b[38;5;241;43m.\u001b[39;49m\u001b[43mmode\u001b[49m\u001b[43m,\u001b[49m\n\u001b[0;32m    876\u001b[0m \u001b[43m            \u001b[49m\u001b[43mencoding\u001b[49m\u001b[38;5;241;43m=\u001b[39;49m\u001b[43mioargs\u001b[49m\u001b[38;5;241;43m.\u001b[39;49m\u001b[43mencoding\u001b[49m\u001b[43m,\u001b[49m\n\u001b[0;32m    877\u001b[0m \u001b[43m            \u001b[49m\u001b[43merrors\u001b[49m\u001b[38;5;241;43m=\u001b[39;49m\u001b[43merrors\u001b[49m\u001b[43m,\u001b[49m\n\u001b[0;32m    878\u001b[0m \u001b[43m            \u001b[49m\u001b[43mnewline\u001b[49m\u001b[38;5;241;43m=\u001b[39;49m\u001b[38;5;124;43m\"\u001b[39;49m\u001b[38;5;124;43m\"\u001b[39;49m\u001b[43m,\u001b[49m\n\u001b[0;32m    879\u001b[0m \u001b[43m        \u001b[49m\u001b[43m)\u001b[49m\n\u001b[0;32m    880\u001b[0m     \u001b[38;5;28;01melse\u001b[39;00m:\n\u001b[0;32m    881\u001b[0m         \u001b[38;5;66;03m# Binary mode\u001b[39;00m\n\u001b[0;32m    882\u001b[0m         handle \u001b[38;5;241m=\u001b[39m \u001b[38;5;28mopen\u001b[39m(handle, ioargs\u001b[38;5;241m.\u001b[39mmode)\n",
      "\u001b[1;31mFileNotFoundError\u001b[0m: [Errno 2] No such file or directory: 'cleaned_real_estate_data.csv'"
     ]
    }
   ],
   "source": [
    "file_path = 'cleaned_real_estate_data.csv'\n",
    "raw_df = import_csv_data(file_path)\n",
    "raw_df"
   ]
  },
  {
   "cell_type": "code",
   "execution_count": null,
   "id": "cbde833c",
   "metadata": {},
   "outputs": [],
   "source": [
    "df_wo_missing = preprocess_missing_values(raw_df)"
   ]
  },
  {
   "cell_type": "code",
   "execution_count": null,
   "id": "cbd2a28c",
   "metadata": {},
   "outputs": [],
   "source": [
    "df_wo_missing"
   ]
  },
  {
   "cell_type": "code",
   "execution_count": null,
   "id": "646c61d5",
   "metadata": {},
   "outputs": [],
   "source": [
    "\n",
    "df_encoded, encoders = encode_categorical_features(df_wo_missing)\n"
   ]
  },
  {
   "cell_type": "code",
   "execution_count": null,
   "id": "cc074dc2",
   "metadata": {},
   "outputs": [],
   "source": [
    "encoders"
   ]
  },
  {
   "cell_type": "code",
   "execution_count": null,
   "id": "de524ab5",
   "metadata": {},
   "outputs": [],
   "source": [
    "df_encoded"
   ]
  },
  {
   "cell_type": "markdown",
   "id": "10fb7f6e",
   "metadata": {},
   "source": [
    "#### Identifying the type of variables"
   ]
  },
  {
   "cell_type": "code",
   "execution_count": null,
   "id": "a6dea85b",
   "metadata": {},
   "outputs": [],
   "source": [
    "df_encoded.dtypes"
   ]
  },
  {
   "cell_type": "markdown",
   "id": "3324efcf",
   "metadata": {},
   "source": [
    "## Outliers"
   ]
  },
  {
   "cell_type": "code",
   "execution_count": null,
   "id": "be00b3f1",
   "metadata": {},
   "outputs": [],
   "source": [
    "def remove_outliers_iqr(df, col):\n",
    "    Q1 = df[col].quantile(0.25)\n",
    "    Q3 = df[col].quantile(0.75)\n",
    "    IQR = Q3 - Q1\n",
    "    lower = Q1 - 1.5 * IQR\n",
    "    upper = Q3 + 1.5 * IQR\n",
    "    return df[(df[col] >= lower) & (df[col] <= upper)]"
   ]
  },
  {
   "cell_type": "code",
   "execution_count": null,
   "id": "a1f434bb",
   "metadata": {},
   "outputs": [],
   "source": [
    "def identify_outliers_iqr(df, col):\n",
    "    Q1 = df[col].quantile(0.25)\n",
    "    Q3 = df[col].quantile(0.75)\n",
    "    IQR = Q3 - Q1\n",
    "    lower = Q1 - 1.5 * IQR\n",
    "    upper = Q3 + 1.5 * IQR\n",
    "    return df[(df[col] <= lower)], df[(df[col] >= upper)]"
   ]
  },
  {
   "cell_type": "code",
   "execution_count": null,
   "id": "1e1a5a93",
   "metadata": {},
   "outputs": [],
   "source": [
    "plt.figure(figsize=(10, 6))\n",
    "plt.hist(df_encoded['price'], bins=50, color='blue', edgecolor='white')\n",
    "plt.title('Price Distribution')\n",
    "plt.xlabel('Price')\n",
    "plt.ylabel('Count')\n",
    "plt.show()"
   ]
  },
  {
   "cell_type": "markdown",
   "id": "8f61e162",
   "metadata": {},
   "source": [
    "#### Outliers for price"
   ]
  },
  {
   "cell_type": "code",
   "execution_count": null,
   "id": "81d40e0c",
   "metadata": {},
   "outputs": [],
   "source": [
    "df_encoded['price'].describe()"
   ]
  },
  {
   "cell_type": "code",
   "execution_count": null,
   "id": "a87ed464",
   "metadata": {},
   "outputs": [],
   "source": [
    "lower_outliers, upper_outliers = identify_outliers_iqr(df_encoded, 'price')"
   ]
  },
  {
   "cell_type": "code",
   "execution_count": null,
   "id": "87c68042",
   "metadata": {},
   "outputs": [],
   "source": [
    "lower_outliers"
   ]
  },
  {
   "cell_type": "code",
   "execution_count": null,
   "id": "35d40c8b",
   "metadata": {},
   "outputs": [],
   "source": [
    "upper_outliers['subtype']"
   ]
  },
  {
   "cell_type": "code",
   "execution_count": null,
   "id": "3a861ca8",
   "metadata": {},
   "outputs": [],
   "source": [
    "df_wo_price_outliers = remove_outliers_iqr(df_encoded, 'price')"
   ]
  },
  {
   "cell_type": "code",
   "execution_count": null,
   "id": "4912b816",
   "metadata": {},
   "outputs": [],
   "source": [
    "plt.figure(figsize=(10, 6))\n",
    "plt.hist(df_wo_price_outliers['price'], bins=50, color='green', edgecolor='white')\n",
    "plt.title('Price Distribution (without Outliers)')\n",
    "plt.xlabel('Price')\n",
    "plt.ylabel('Count')\n",
    "plt.show()"
   ]
  },
  {
   "cell_type": "markdown",
   "id": "aa32ab6f",
   "metadata": {},
   "source": [
    "#### Analyzing Outliers"
   ]
  },
  {
   "cell_type": "markdown",
   "id": "45ae40b0",
   "metadata": {},
   "source": [
    "##### By Subtype"
   ]
  },
  {
   "cell_type": "code",
   "execution_count": null,
   "id": "bf7343fe",
   "metadata": {},
   "outputs": [],
   "source": [
    "num_bins = len(upper_outliers['subtype'].unique())\n",
    "num_bins"
   ]
  },
  {
   "cell_type": "code",
   "execution_count": null,
   "id": "9bececaf",
   "metadata": {},
   "outputs": [],
   "source": [
    "plt.figure(figsize=(12, 6))\n",
    "sns.countplot(data=upper_outliers, x='subtype', color='pink', edgecolor='white')\n",
    "plt.xticks(rotation=90)\n",
    "plt.title('Outliers price dsitribution by subtype')"
   ]
  },
  {
   "cell_type": "markdown",
   "id": "38f1cdfc",
   "metadata": {},
   "source": [
    "## Correlation Analysis"
   ]
  },
  {
   "cell_type": "markdown",
   "id": "2d021bbe",
   "metadata": {},
   "source": [
    "### Correlation for Continuous variables"
   ]
  },
  {
   "cell_type": "code",
   "execution_count": null,
   "id": "2407880f",
   "metadata": {},
   "outputs": [],
   "source": [
    "df_continuous = df_encoded.select_dtypes(include='float64')\n",
    "df_continuous = df_continuous.drop(columns=['id','locality_encoded'])\n",
    "df_continuous.columns"
   ]
  },
  {
   "cell_type": "code",
   "execution_count": null,
   "id": "066f6e95",
   "metadata": {},
   "outputs": [],
   "source": [
    "df_continuous = df_continuous.loc[:, ['price','bedroomCount', 'bathroomCount', 'habitableSurface', 'roomCount',\n",
    "       'buildingConstructionYear', 'facedeCount', 'floorCount',\n",
    "       'streetFacadeWidth', 'kitchenSurface', 'landSurface',\n",
    "       'livingRoomSurface', 'gardenSurface', 'parkingCountIndoor',\n",
    "       'parkingCountOutdoor', 'toiletCount', 'terraceSurface', \n",
    "       'epcScore_encoded']]  \n",
    "\n",
    "print(df_continuous)"
   ]
  },
  {
   "cell_type": "code",
   "execution_count": null,
   "id": "1838a491",
   "metadata": {},
   "outputs": [],
   "source": [
    "corr_matrix_cont = df_continuous.corr()\n",
    "corr_matrix_cont"
   ]
  },
  {
   "cell_type": "code",
   "execution_count": null,
   "id": "7722576e",
   "metadata": {},
   "outputs": [],
   "source": [
    "plt.figure(figsize=(16, 16))\n",
    "sns.heatmap(corr_matrix_cont, cmap ='RdBu', vmin =-1, vmax=1, annot =True, square = True)"
   ]
  },
  {
   "cell_type": "markdown",
   "id": "a013f355",
   "metadata": {},
   "source": [
    "#### Correlation for boolean"
   ]
  },
  {
   "cell_type": "code",
   "execution_count": null,
   "id": "9e50ad5a",
   "metadata": {},
   "outputs": [],
   "source": [
    "bool_cols= ['price'] + list(df_encoded.select_dtypes(include='bool').columns)\n",
    "bool_cols"
   ]
  },
  {
   "cell_type": "code",
   "execution_count": null,
   "id": "2bd0ae25",
   "metadata": {},
   "outputs": [],
   "source": [
    "df_boolean = df_encoded[bool_cols]"
   ]
  },
  {
   "cell_type": "markdown",
   "id": "d346b859",
   "metadata": {},
   "source": [
    "##### Analysis with Point-biserial correlation"
   ]
  },
  {
   "cell_type": "code",
   "execution_count": null,
   "id": "daf849c7",
   "metadata": {},
   "outputs": [],
   "source": [
    "point_biserial_corr = dict()\n",
    "\n",
    "for col in df_boolean.columns:\n",
    "    point_biserial_corr[col] = stats.pointbiserialr(df_encoded[col], df_encoded['price']).statistic"
   ]
  },
  {
   "cell_type": "code",
   "execution_count": null,
   "id": "b45a9852",
   "metadata": {},
   "outputs": [],
   "source": [
    "for k,v in point_biserial_corr.items():\n",
    "    print(f\"Correlation with {k} : {v}\")"
   ]
  },
  {
   "cell_type": "code",
   "execution_count": null,
   "id": "752a620b",
   "metadata": {},
   "outputs": [],
   "source": [
    "sorted_bool_correlation = dict(sorted(point_biserial_corr.items(), key=lambda x:x[1], reverse = True))\n",
    "sorted_bool_correlation "
   ]
  },
  {
   "cell_type": "markdown",
   "id": "f589c24b",
   "metadata": {},
   "source": [
    "#### Swimming Pool"
   ]
  },
  {
   "cell_type": "code",
   "execution_count": null,
   "id": "8e4c698f",
   "metadata": {},
   "outputs": [],
   "source": [
    "\n",
    "swimming_plot = sns.boxplot(x='hasSwimmingPool_encoded', y='price', data=df_encoded , showfliers=False )\n",
    "plt.title('Price by hasSwimmingPool')\n",
    "plt.show()"
   ]
  },
  {
   "cell_type": "code",
   "execution_count": null,
   "id": "6dd1e7b3",
   "metadata": {},
   "outputs": [],
   "source": [
    "correlation_swimm_pool = df_encoded['hasSwimmingPool_encoded'].corr(df_encoded['price'])\n",
    "print(f\"Pearson correlation for 'price' vs 'hasSwimmingPool': {correlation_swimm_pool}\")"
   ]
  },
  {
   "cell_type": "code",
   "execution_count": null,
   "id": "919ab854",
   "metadata": {},
   "outputs": [],
   "source": [
    "stats.pointbiserialr(df_encoded['hasSwimmingPool'], df_encoded['price'] )"
   ]
  },
  {
   "cell_type": "markdown",
   "id": "fd75da50",
   "metadata": {},
   "source": [
    "#### Province"
   ]
  },
  {
   "cell_type": "code",
   "execution_count": null,
   "id": "479ce5d8",
   "metadata": {},
   "outputs": [],
   "source": [
    "df_province =df_encoded[['price', 'province']]\n",
    "df_province "
   ]
  },
  {
   "cell_type": "code",
   "execution_count": null,
   "id": "cc98c394",
   "metadata": {},
   "outputs": [],
   "source": [
    "df_province[['province']].value_counts()"
   ]
  },
  {
   "cell_type": "code",
   "execution_count": null,
   "id": "6e566567",
   "metadata": {},
   "outputs": [],
   "source": [
    "plt.figure(figsize=(12, 6))\n",
    "sns.boxplot(x='province', y='price', data=df_encoded,  showfliers=False )\n",
    "plt.xticks(rotation=45)\n",
    "plt.title('Price by Province')\n",
    "plt.show()"
   ]
  },
  {
   "cell_type": "markdown",
   "id": "9e43bace",
   "metadata": {},
   "source": [
    "#### Subtype"
   ]
  },
  {
   "cell_type": "code",
   "execution_count": null,
   "id": "5b5b440b",
   "metadata": {},
   "outputs": [],
   "source": [
    "df_subtype = df_encoded[['price', 'subtype', 'subtype_encoded']]\n",
    "df_subtype"
   ]
  },
  {
   "cell_type": "code",
   "execution_count": null,
   "id": "577766ab",
   "metadata": {},
   "outputs": [],
   "source": [
    "plt.figure(figsize=(12, 6))\n",
    "sns.boxplot(x='subtype', y='price', data=df_subtype,  showfliers=False )\n",
    "plt.xticks(rotation=60)\n",
    "plt.title('Price by subtype')\n",
    "plt.show()"
   ]
  },
  {
   "cell_type": "markdown",
   "id": "b734c225",
   "metadata": {},
   "source": [
    "#### Habitable Surface"
   ]
  },
  {
   "cell_type": "code",
   "execution_count": null,
   "id": "2928de34",
   "metadata": {},
   "outputs": [],
   "source": [
    "df_encoded['habitableSurface'].describe()"
   ]
  },
  {
   "cell_type": "code",
   "execution_count": null,
   "id": "1351b26b",
   "metadata": {},
   "outputs": [],
   "source": [
    "df_surface = df_encoded[['habitableSurface', 'price', 'type', 'subtype']]"
   ]
  },
  {
   "cell_type": "code",
   "execution_count": null,
   "id": "756dc333",
   "metadata": {},
   "outputs": [],
   "source": [
    "df_surface_wo_out = remove_outliers_iqr(df_surface, 'habitableSurface')"
   ]
  },
  {
   "cell_type": "code",
   "execution_count": null,
   "id": "b0b55d73",
   "metadata": {},
   "outputs": [],
   "source": [
    "plt.figure(figsize=(10, 6))\n",
    "sns.scatterplot(data=df_surface_wo_out, x='habitableSurface', y='price',  hue='type', palette='Set2' )\n",
    "plt.title('Scatter Plot: Price vs Habitable Surface ')\n",
    "plt.xlabel('Habitable Surface')\n",
    "plt.ylabel('Price')\n",
    "plt.show()"
   ]
  },
  {
   "cell_type": "code",
   "execution_count": null,
   "id": "4cc7baeb",
   "metadata": {},
   "outputs": [],
   "source": [
    "correlation_surface= df_encoded['habitableSurface'].corr(df_encoded['price'])\n",
    "print(f\"Pearson correlation for 'price' vs 'habitableSurface': {correlation_surface}\")"
   ]
  },
  {
   "cell_type": "markdown",
   "id": "d27e1d33",
   "metadata": {},
   "source": [
    "##### Surface histogram"
   ]
  },
  {
   "cell_type": "code",
   "execution_count": null,
   "id": "bae173e0",
   "metadata": {},
   "outputs": [],
   "source": [
    "df_surface_wo_out = remove_outliers_iqr(df_surface, 'habitableSurface')"
   ]
  },
  {
   "cell_type": "code",
   "execution_count": null,
   "id": "79da787e",
   "metadata": {},
   "outputs": [],
   "source": [
    "plt.figure(figsize=(10, 6))\n",
    "plt.hist(df_surface_wo_out['habitableSurface'], bins=50, color='lightblue', edgecolor='black')\n",
    "plt.title('Surface Distribution')\n",
    "plt.xlabel('Surface')\n",
    "plt.ylabel('Count')\n",
    "plt.show()"
   ]
  },
  {
   "cell_type": "markdown",
   "id": "d6eb305f",
   "metadata": {},
   "source": [
    "#### Number of bedrooms"
   ]
  },
  {
   "cell_type": "code",
   "execution_count": null,
   "id": "53bb17eb",
   "metadata": {},
   "outputs": [],
   "source": [
    "df_encoded['bedroomCount'].value_counts()"
   ]
  },
  {
   "cell_type": "code",
   "execution_count": null,
   "id": "f017a2ec",
   "metadata": {},
   "outputs": [],
   "source": [
    "df_bedroom = df_encoded[['bedroomCount', 'price']]\n",
    "df_bedroom"
   ]
  },
  {
   "cell_type": "code",
   "execution_count": null,
   "id": "dc9051fd",
   "metadata": {},
   "outputs": [],
   "source": [
    "bedroom_plot = sns.boxplot(x='bedroomCount', y='price', data=df_bedroom , showfliers=False )\n",
    "plt.title('Price by bedroom')\n",
    "plt.show()"
   ]
  },
  {
   "cell_type": "code",
   "execution_count": null,
   "id": "3c2f3b83",
   "metadata": {},
   "outputs": [],
   "source": [
    "correlation_bedroom = df_encoded['bedroomCount'].corr(df_encoded['price'])\n",
    "print(f\"Pearson correlation for 'price' vs 'bedroomCount': {correlation_bedroom}\")"
   ]
  },
  {
   "cell_type": "code",
   "execution_count": null,
   "id": "a604f9cf",
   "metadata": {},
   "outputs": [],
   "source": [
    "#### Number of bedrooms\n"
   ]
  },
  {
   "cell_type": "code",
   "execution_count": null,
   "id": "9b156246",
   "metadata": {},
   "outputs": [],
   "source": [
    "df_encoded['bathroomCount'].value_counts()\n",
    "df_bedroom = df_encoded[['bathroomCount', 'price']]\n",
    "df_bedroom\n"
   ]
  },
  {
   "cell_type": "code",
   "execution_count": null,
   "id": "bca9332b",
   "metadata": {},
   "outputs": [],
   "source": [
    "bedroom_plot = sns.boxplot(x='bathroomCount', y='price', data=df_bedroom , showfliers=False )\n",
    "plt.title('Price by bathroom')\n",
    "plt.show()\n",
    "correlation_bedroom = df_encoded['bathroomCount'].corr(df_encoded['price'])\n",
    "print(f\"Pearson correlation for 'price' vs 'bedroomCount': {correlation_bedroom}\")"
   ]
  }
 ],
 "metadata": {
  "kernelspec": {
   "display_name": "venv",
   "language": "python",
   "name": "python3"
  },
  "language_info": {
   "codemirror_mode": {
    "name": "ipython",
    "version": 3
   },
   "file_extension": ".py",
   "mimetype": "text/x-python",
   "name": "python",
   "nbconvert_exporter": "python",
   "pygments_lexer": "ipython3",
   "version": "3.10.4"
  }
 },
 "nbformat": 4,
 "nbformat_minor": 5
}
